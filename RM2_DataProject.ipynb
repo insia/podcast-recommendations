{
  "nbformat": 4,
  "nbformat_minor": 0,
  "metadata": {
    "colab": {
      "provenance": []
    },
    "kernelspec": {
      "name": "python3",
      "display_name": "Python 3"
    },
    "language_info": {
      "name": "python"
    }
  },
  "cells": [
    {
      "cell_type": "code",
      "execution_count": null,
      "metadata": {
        "id": "4CDWLQkNPTWH"
      },
      "outputs": [],
      "source": [
        "import sqlite3\n",
        "import pandas as pd\n",
        "import datetime\n",
        "import difflib\n",
        "from sklearn.feature_extraction.text import TfidfVectorizer\n",
        "from sklearn.metrics.pairwise import cosine_similarity\n",
        "\n",
        "# Create your connection.\n",
        "cnx = sqlite3.connect('/content/drive/MyDrive/database.sqlite')\n",
        "#f_p = pd.read_sql_query(\"SELECT * FROM podcasts \",cnx)\n",
        "#df_r = pd.read_sql_query(\"SELECT * FROM reviews\",cnx) \n",
        "df_p = pd.read_sql_query(\"SELECT pod.podcast_id, pod.title,rev.author_id user_id, cat.category, pod.slug, pod.itunes_id, rev.rating, rev.content, rev.title as Review_Title, rev.created_at FROM reviews rev join podcasts pod on rev.podcast_id = pod.podcast_id join categories cat on pod.podcast_id = cat.podcast_id limit 27000\", cnx)\n",
        "#df_p.to_csv(\"/content/drive/MyDrive/Podcast_10.csv\", index = True,)"
      ]
    },
    {
      "cell_type": "code",
      "source": [
        "df_p.head(3)"
      ],
      "metadata": {
        "id": "9D-VihG1PwCj"
      },
      "execution_count": null,
      "outputs": []
    },
    {
      "cell_type": "markdown",
      "source": [
        "Sentiment Classifier"
      ],
      "metadata": {
        "id": "DM52gi0b679b"
      }
    },
    {
      "cell_type": "code",
      "source": [
        "import matplotlib.pyplot as plt\n",
        "from wordcloud import WordCloud, STOPWORDS, ImageColorGenerator\n",
        "import nltk\n",
        "from nltk.sentiment.vader import SentimentIntensityAnalyzer\n",
        "from nltk.corpus import stopwords\n",
        "import string\n",
        "import re\n",
        "nltk.download('stopwords')\n",
        "stemmer = nltk.SnowballStemmer(\"english\")"
      ],
      "metadata": {
        "colab": {
          "base_uri": "https://localhost:8080/"
        },
        "id": "M85nPPe0PxiD",
        "outputId": "8d3ce71b-a431-4fc4-aebe-252eda107c08"
      },
      "execution_count": null,
      "outputs": [
        {
          "output_type": "stream",
          "name": "stderr",
          "text": [
            "[nltk_data] Downloading package stopwords to /root/nltk_data...\n",
            "[nltk_data]   Unzipping corpora/stopwords.zip.\n"
          ]
        }
      ]
    },
    {
      "cell_type": "code",
      "source": [
        "stopword=set(stopwords.words('english'))\n",
        "def clean(text):\n",
        "    text = str(text).lower()\n",
        "    text = re.sub('\\[.*?\\]', '', text)\n",
        "    text = re.sub('https?://\\S+|www\\.\\S+', '', text)\n",
        "    text = re.sub('<.*?>+', '', text)\n",
        "    text = re.sub('[%s]' % re.escape(string.punctuation), '', text)\n",
        "    text = re.sub('\\n', '', text)\n",
        "    text = re.sub('\\w*\\d\\w*', '', text)\n",
        "    text = [word for word in text.split(' ') if word not in stopword]\n",
        "    text=\" \".join(text)\n",
        "    text = [stemmer.stem(word) for word in text.split(' ')]\n",
        "    text=\" \".join(text)\n",
        "    return text\n",
        "df_p[\"content\"] = df_p[\"content\"].apply(clean)"
      ],
      "metadata": {
        "id": "ptU1BTMX7EHf"
      },
      "execution_count": null,
      "outputs": []
    },
    {
      "cell_type": "code",
      "source": [
        "# Initialize the SentimentIntensityAnalyzer.\n",
        "from nltk.sentiment.vader import SentimentIntensityAnalyzer\n",
        "import nltk\n",
        "nltk.download('vader_lexicon')\n",
        "vader = SentimentIntensityAnalyzer()\n",
        "\n",
        "# Apply lambda function to get compound scores.\n",
        "function = lambda title: vader.polarity_scores(title)['compound']\n",
        "df_p['compound'] = df_p['content'].apply(function)"
      ],
      "metadata": {
        "colab": {
          "base_uri": "https://localhost:8080/"
        },
        "id": "7eVm45NY7JY5",
        "outputId": "27af92b1-9b89-4003-e51d-5f6952858707"
      },
      "execution_count": null,
      "outputs": [
        {
          "output_type": "stream",
          "name": "stderr",
          "text": [
            "[nltk_data] Downloading package vader_lexicon to /root/nltk_data...\n"
          ]
        }
      ]
    },
    {
      "cell_type": "code",
      "source": [
        "data = df_p.sort_values(by=['compound'],ascending=False)\n",
        "data.shape"
      ],
      "metadata": {
        "colab": {
          "base_uri": "https://localhost:8080/"
        },
        "id": "0GUcpATN7Rrh",
        "outputId": "1356da84-2929-4dd8-d55a-c4a60da21e0d"
      },
      "execution_count": null,
      "outputs": [
        {
          "output_type": "execute_result",
          "data": {
            "text/plain": [
              "(27000, 11)"
            ]
          },
          "metadata": {},
          "execution_count": 5
        }
      ]
    },
    {
      "cell_type": "code",
      "source": [
        "data.head()"
      ],
      "metadata": {
        "colab": {
          "base_uri": "https://localhost:8080/",
          "height": 441
        },
        "id": "cMh_lj5KWk2G",
        "outputId": "2b2e83f5-d4a6-4e7a-c05c-49152f596d4a"
      },
      "execution_count": null,
      "outputs": [
        {
          "output_type": "execute_result",
          "data": {
            "text/plain": [
              "                             podcast_id  \\\n",
              "13059  a3db5c2c450d4e6449de7f7e3298fb88   \n",
              "13062  a3db5c2c450d4e6449de7f7e3298fb88   \n",
              "13061  a3db5c2c450d4e6449de7f7e3298fb88   \n",
              "13060  a3db5c2c450d4e6449de7f7e3298fb88   \n",
              "6342   f4a8f753bd3959e2a631f2eba3c98172   \n",
              "\n",
              "                                              title          user_id  \\\n",
              "13059                           Inside Trader Joe's  0EFA3538EDFBA01   \n",
              "13062                           Inside Trader Joe's  0EFA3538EDFBA01   \n",
              "13061                           Inside Trader Joe's  0EFA3538EDFBA01   \n",
              "13060                           Inside Trader Joe's  0EFA3538EDFBA01   \n",
              "6342   Pretty Basic with Alisha Marie and Remi Cruz  E9EAB9FB384204A   \n",
              "\n",
              "                                category  \\\n",
              "13059                               arts   \n",
              "13062           health-fitness-nutrition   \n",
              "13061                     health-fitness   \n",
              "13060                          arts-food   \n",
              "6342   society-culture-personal-journals   \n",
              "\n",
              "                                               slug   itunes_id  rating  \\\n",
              "13059                            inside-trader-joes  1375630453       5   \n",
              "13062                            inside-trader-joes  1375630453       5   \n",
              "13061                            inside-trader-joes  1375630453       5   \n",
              "13060                            inside-trader-joes  1375630453       5   \n",
              "6342   pretty-basic-with-alisha-marie-and-remi-cruz  1439655378       5   \n",
              "\n",
              "                                                 content Review_Title  \\\n",
              "13059  love trader joe ♥️ love trader joe ♥️ love tra...         Love   \n",
              "13062  love trader joe ♥️ love trader joe ♥️ love tra...         Love   \n",
              "13061  love trader joe ♥️ love trader joe ♥️ love tra...         Love   \n",
              "13060  love trader joe ♥️ love trader joe ♥️ love tra...         Love   \n",
              "6342   love podcast sometim wish interven convers tal...    Love This   \n",
              "\n",
              "                      created_at  compound  \n",
              "13059  2018-08-15T15:31:42-07:00    0.9998  \n",
              "13062  2018-08-15T15:31:42-07:00    0.9998  \n",
              "13061  2018-08-15T15:31:42-07:00    0.9998  \n",
              "13060  2018-08-15T15:31:42-07:00    0.9998  \n",
              "6342   2019-03-08T10:23:21-07:00    0.9963  "
            ],
            "text/html": [
              "\n",
              "  <div id=\"df-4d57895c-50c4-476f-a548-9f97b59eec0c\">\n",
              "    <div class=\"colab-df-container\">\n",
              "      <div>\n",
              "<style scoped>\n",
              "    .dataframe tbody tr th:only-of-type {\n",
              "        vertical-align: middle;\n",
              "    }\n",
              "\n",
              "    .dataframe tbody tr th {\n",
              "        vertical-align: top;\n",
              "    }\n",
              "\n",
              "    .dataframe thead th {\n",
              "        text-align: right;\n",
              "    }\n",
              "</style>\n",
              "<table border=\"1\" class=\"dataframe\">\n",
              "  <thead>\n",
              "    <tr style=\"text-align: right;\">\n",
              "      <th></th>\n",
              "      <th>podcast_id</th>\n",
              "      <th>title</th>\n",
              "      <th>user_id</th>\n",
              "      <th>category</th>\n",
              "      <th>slug</th>\n",
              "      <th>itunes_id</th>\n",
              "      <th>rating</th>\n",
              "      <th>content</th>\n",
              "      <th>Review_Title</th>\n",
              "      <th>created_at</th>\n",
              "      <th>compound</th>\n",
              "    </tr>\n",
              "  </thead>\n",
              "  <tbody>\n",
              "    <tr>\n",
              "      <th>13059</th>\n",
              "      <td>a3db5c2c450d4e6449de7f7e3298fb88</td>\n",
              "      <td>Inside Trader Joe's</td>\n",
              "      <td>0EFA3538EDFBA01</td>\n",
              "      <td>arts</td>\n",
              "      <td>inside-trader-joes</td>\n",
              "      <td>1375630453</td>\n",
              "      <td>5</td>\n",
              "      <td>love trader joe ♥️ love trader joe ♥️ love tra...</td>\n",
              "      <td>Love</td>\n",
              "      <td>2018-08-15T15:31:42-07:00</td>\n",
              "      <td>0.9998</td>\n",
              "    </tr>\n",
              "    <tr>\n",
              "      <th>13062</th>\n",
              "      <td>a3db5c2c450d4e6449de7f7e3298fb88</td>\n",
              "      <td>Inside Trader Joe's</td>\n",
              "      <td>0EFA3538EDFBA01</td>\n",
              "      <td>health-fitness-nutrition</td>\n",
              "      <td>inside-trader-joes</td>\n",
              "      <td>1375630453</td>\n",
              "      <td>5</td>\n",
              "      <td>love trader joe ♥️ love trader joe ♥️ love tra...</td>\n",
              "      <td>Love</td>\n",
              "      <td>2018-08-15T15:31:42-07:00</td>\n",
              "      <td>0.9998</td>\n",
              "    </tr>\n",
              "    <tr>\n",
              "      <th>13061</th>\n",
              "      <td>a3db5c2c450d4e6449de7f7e3298fb88</td>\n",
              "      <td>Inside Trader Joe's</td>\n",
              "      <td>0EFA3538EDFBA01</td>\n",
              "      <td>health-fitness</td>\n",
              "      <td>inside-trader-joes</td>\n",
              "      <td>1375630453</td>\n",
              "      <td>5</td>\n",
              "      <td>love trader joe ♥️ love trader joe ♥️ love tra...</td>\n",
              "      <td>Love</td>\n",
              "      <td>2018-08-15T15:31:42-07:00</td>\n",
              "      <td>0.9998</td>\n",
              "    </tr>\n",
              "    <tr>\n",
              "      <th>13060</th>\n",
              "      <td>a3db5c2c450d4e6449de7f7e3298fb88</td>\n",
              "      <td>Inside Trader Joe's</td>\n",
              "      <td>0EFA3538EDFBA01</td>\n",
              "      <td>arts-food</td>\n",
              "      <td>inside-trader-joes</td>\n",
              "      <td>1375630453</td>\n",
              "      <td>5</td>\n",
              "      <td>love trader joe ♥️ love trader joe ♥️ love tra...</td>\n",
              "      <td>Love</td>\n",
              "      <td>2018-08-15T15:31:42-07:00</td>\n",
              "      <td>0.9998</td>\n",
              "    </tr>\n",
              "    <tr>\n",
              "      <th>6342</th>\n",
              "      <td>f4a8f753bd3959e2a631f2eba3c98172</td>\n",
              "      <td>Pretty Basic with Alisha Marie and Remi Cruz</td>\n",
              "      <td>E9EAB9FB384204A</td>\n",
              "      <td>society-culture-personal-journals</td>\n",
              "      <td>pretty-basic-with-alisha-marie-and-remi-cruz</td>\n",
              "      <td>1439655378</td>\n",
              "      <td>5</td>\n",
              "      <td>love podcast sometim wish interven convers tal...</td>\n",
              "      <td>Love This</td>\n",
              "      <td>2019-03-08T10:23:21-07:00</td>\n",
              "      <td>0.9963</td>\n",
              "    </tr>\n",
              "  </tbody>\n",
              "</table>\n",
              "</div>\n",
              "      <button class=\"colab-df-convert\" onclick=\"convertToInteractive('df-4d57895c-50c4-476f-a548-9f97b59eec0c')\"\n",
              "              title=\"Convert this dataframe to an interactive table.\"\n",
              "              style=\"display:none;\">\n",
              "        \n",
              "  <svg xmlns=\"http://www.w3.org/2000/svg\" height=\"24px\"viewBox=\"0 0 24 24\"\n",
              "       width=\"24px\">\n",
              "    <path d=\"M0 0h24v24H0V0z\" fill=\"none\"/>\n",
              "    <path d=\"M18.56 5.44l.94 2.06.94-2.06 2.06-.94-2.06-.94-.94-2.06-.94 2.06-2.06.94zm-11 1L8.5 8.5l.94-2.06 2.06-.94-2.06-.94L8.5 2.5l-.94 2.06-2.06.94zm10 10l.94 2.06.94-2.06 2.06-.94-2.06-.94-.94-2.06-.94 2.06-2.06.94z\"/><path d=\"M17.41 7.96l-1.37-1.37c-.4-.4-.92-.59-1.43-.59-.52 0-1.04.2-1.43.59L10.3 9.45l-7.72 7.72c-.78.78-.78 2.05 0 2.83L4 21.41c.39.39.9.59 1.41.59.51 0 1.02-.2 1.41-.59l7.78-7.78 2.81-2.81c.8-.78.8-2.07 0-2.86zM5.41 20L4 18.59l7.72-7.72 1.47 1.35L5.41 20z\"/>\n",
              "  </svg>\n",
              "      </button>\n",
              "      \n",
              "  <style>\n",
              "    .colab-df-container {\n",
              "      display:flex;\n",
              "      flex-wrap:wrap;\n",
              "      gap: 12px;\n",
              "    }\n",
              "\n",
              "    .colab-df-convert {\n",
              "      background-color: #E8F0FE;\n",
              "      border: none;\n",
              "      border-radius: 50%;\n",
              "      cursor: pointer;\n",
              "      display: none;\n",
              "      fill: #1967D2;\n",
              "      height: 32px;\n",
              "      padding: 0 0 0 0;\n",
              "      width: 32px;\n",
              "    }\n",
              "\n",
              "    .colab-df-convert:hover {\n",
              "      background-color: #E2EBFA;\n",
              "      box-shadow: 0px 1px 2px rgba(60, 64, 67, 0.3), 0px 1px 3px 1px rgba(60, 64, 67, 0.15);\n",
              "      fill: #174EA6;\n",
              "    }\n",
              "\n",
              "    [theme=dark] .colab-df-convert {\n",
              "      background-color: #3B4455;\n",
              "      fill: #D2E3FC;\n",
              "    }\n",
              "\n",
              "    [theme=dark] .colab-df-convert:hover {\n",
              "      background-color: #434B5C;\n",
              "      box-shadow: 0px 1px 3px 1px rgba(0, 0, 0, 0.15);\n",
              "      filter: drop-shadow(0px 1px 2px rgba(0, 0, 0, 0.3));\n",
              "      fill: #FFFFFF;\n",
              "    }\n",
              "  </style>\n",
              "\n",
              "      <script>\n",
              "        const buttonEl =\n",
              "          document.querySelector('#df-4d57895c-50c4-476f-a548-9f97b59eec0c button.colab-df-convert');\n",
              "        buttonEl.style.display =\n",
              "          google.colab.kernel.accessAllowed ? 'block' : 'none';\n",
              "\n",
              "        async function convertToInteractive(key) {\n",
              "          const element = document.querySelector('#df-4d57895c-50c4-476f-a548-9f97b59eec0c');\n",
              "          const dataTable =\n",
              "            await google.colab.kernel.invokeFunction('convertToInteractive',\n",
              "                                                     [key], {});\n",
              "          if (!dataTable) return;\n",
              "\n",
              "          const docLinkHtml = 'Like what you see? Visit the ' +\n",
              "            '<a target=\"_blank\" href=https://colab.research.google.com/notebooks/data_table.ipynb>data table notebook</a>'\n",
              "            + ' to learn more about interactive tables.';\n",
              "          element.innerHTML = '';\n",
              "          dataTable['output_type'] = 'display_data';\n",
              "          await google.colab.output.renderOutput(dataTable, element);\n",
              "          const docLink = document.createElement('div');\n",
              "          docLink.innerHTML = docLinkHtml;\n",
              "          element.appendChild(docLink);\n",
              "        }\n",
              "      </script>\n",
              "    </div>\n",
              "  </div>\n",
              "  "
            ]
          },
          "metadata": {},
          "execution_count": 6
        }
      ]
    },
    {
      "cell_type": "markdown",
      "source": [
        "*Collaborative Filtering*"
      ],
      "metadata": {
        "id": "oDk1SoF67abz"
      }
    },
    {
      "cell_type": "code",
      "source": [
        "items_df = df_p[['title','category','rating']]\n",
        "items_df.isnull().sum()\n",
        "df_sentiments = data[['title','compound']]\n",
        "df_sentiments"
      ],
      "metadata": {
        "id": "HoHGHhBV7Y7q",
        "colab": {
          "base_uri": "https://localhost:8080/",
          "height": 424
        },
        "outputId": "bea1d019-9043-4846-f1b6-239b1495fbda"
      },
      "execution_count": null,
      "outputs": [
        {
          "output_type": "execute_result",
          "data": {
            "text/plain": [
              "                                                   title  compound\n",
              "13059                                Inside Trader Joe's    0.9998\n",
              "13062                                Inside Trader Joe's    0.9998\n",
              "13061                                Inside Trader Joe's    0.9998\n",
              "13060                                Inside Trader Joe's    0.9998\n",
              "6342        Pretty Basic with Alisha Marie and Remi Cruz    0.9963\n",
              "...                                                  ...       ...\n",
              "18672  Food for Thought: Living Compassionately, Sust...   -0.9806\n",
              "14860                                           Monstruo   -0.9815\n",
              "14859                                           Monstruo   -0.9815\n",
              "14958                                           Monstruo   -0.9897\n",
              "14957                                           Monstruo   -0.9897\n",
              "\n",
              "[27000 rows x 2 columns]"
            ],
            "text/html": [
              "\n",
              "  <div id=\"df-21f4eecb-1d24-4f16-82d3-0abf817d3d5a\">\n",
              "    <div class=\"colab-df-container\">\n",
              "      <div>\n",
              "<style scoped>\n",
              "    .dataframe tbody tr th:only-of-type {\n",
              "        vertical-align: middle;\n",
              "    }\n",
              "\n",
              "    .dataframe tbody tr th {\n",
              "        vertical-align: top;\n",
              "    }\n",
              "\n",
              "    .dataframe thead th {\n",
              "        text-align: right;\n",
              "    }\n",
              "</style>\n",
              "<table border=\"1\" class=\"dataframe\">\n",
              "  <thead>\n",
              "    <tr style=\"text-align: right;\">\n",
              "      <th></th>\n",
              "      <th>title</th>\n",
              "      <th>compound</th>\n",
              "    </tr>\n",
              "  </thead>\n",
              "  <tbody>\n",
              "    <tr>\n",
              "      <th>13059</th>\n",
              "      <td>Inside Trader Joe's</td>\n",
              "      <td>0.9998</td>\n",
              "    </tr>\n",
              "    <tr>\n",
              "      <th>13062</th>\n",
              "      <td>Inside Trader Joe's</td>\n",
              "      <td>0.9998</td>\n",
              "    </tr>\n",
              "    <tr>\n",
              "      <th>13061</th>\n",
              "      <td>Inside Trader Joe's</td>\n",
              "      <td>0.9998</td>\n",
              "    </tr>\n",
              "    <tr>\n",
              "      <th>13060</th>\n",
              "      <td>Inside Trader Joe's</td>\n",
              "      <td>0.9998</td>\n",
              "    </tr>\n",
              "    <tr>\n",
              "      <th>6342</th>\n",
              "      <td>Pretty Basic with Alisha Marie and Remi Cruz</td>\n",
              "      <td>0.9963</td>\n",
              "    </tr>\n",
              "    <tr>\n",
              "      <th>...</th>\n",
              "      <td>...</td>\n",
              "      <td>...</td>\n",
              "    </tr>\n",
              "    <tr>\n",
              "      <th>18672</th>\n",
              "      <td>Food for Thought: Living Compassionately, Sust...</td>\n",
              "      <td>-0.9806</td>\n",
              "    </tr>\n",
              "    <tr>\n",
              "      <th>14860</th>\n",
              "      <td>Monstruo</td>\n",
              "      <td>-0.9815</td>\n",
              "    </tr>\n",
              "    <tr>\n",
              "      <th>14859</th>\n",
              "      <td>Monstruo</td>\n",
              "      <td>-0.9815</td>\n",
              "    </tr>\n",
              "    <tr>\n",
              "      <th>14958</th>\n",
              "      <td>Monstruo</td>\n",
              "      <td>-0.9897</td>\n",
              "    </tr>\n",
              "    <tr>\n",
              "      <th>14957</th>\n",
              "      <td>Monstruo</td>\n",
              "      <td>-0.9897</td>\n",
              "    </tr>\n",
              "  </tbody>\n",
              "</table>\n",
              "<p>27000 rows × 2 columns</p>\n",
              "</div>\n",
              "      <button class=\"colab-df-convert\" onclick=\"convertToInteractive('df-21f4eecb-1d24-4f16-82d3-0abf817d3d5a')\"\n",
              "              title=\"Convert this dataframe to an interactive table.\"\n",
              "              style=\"display:none;\">\n",
              "        \n",
              "  <svg xmlns=\"http://www.w3.org/2000/svg\" height=\"24px\"viewBox=\"0 0 24 24\"\n",
              "       width=\"24px\">\n",
              "    <path d=\"M0 0h24v24H0V0z\" fill=\"none\"/>\n",
              "    <path d=\"M18.56 5.44l.94 2.06.94-2.06 2.06-.94-2.06-.94-.94-2.06-.94 2.06-2.06.94zm-11 1L8.5 8.5l.94-2.06 2.06-.94-2.06-.94L8.5 2.5l-.94 2.06-2.06.94zm10 10l.94 2.06.94-2.06 2.06-.94-2.06-.94-.94-2.06-.94 2.06-2.06.94z\"/><path d=\"M17.41 7.96l-1.37-1.37c-.4-.4-.92-.59-1.43-.59-.52 0-1.04.2-1.43.59L10.3 9.45l-7.72 7.72c-.78.78-.78 2.05 0 2.83L4 21.41c.39.39.9.59 1.41.59.51 0 1.02-.2 1.41-.59l7.78-7.78 2.81-2.81c.8-.78.8-2.07 0-2.86zM5.41 20L4 18.59l7.72-7.72 1.47 1.35L5.41 20z\"/>\n",
              "  </svg>\n",
              "      </button>\n",
              "      \n",
              "  <style>\n",
              "    .colab-df-container {\n",
              "      display:flex;\n",
              "      flex-wrap:wrap;\n",
              "      gap: 12px;\n",
              "    }\n",
              "\n",
              "    .colab-df-convert {\n",
              "      background-color: #E8F0FE;\n",
              "      border: none;\n",
              "      border-radius: 50%;\n",
              "      cursor: pointer;\n",
              "      display: none;\n",
              "      fill: #1967D2;\n",
              "      height: 32px;\n",
              "      padding: 0 0 0 0;\n",
              "      width: 32px;\n",
              "    }\n",
              "\n",
              "    .colab-df-convert:hover {\n",
              "      background-color: #E2EBFA;\n",
              "      box-shadow: 0px 1px 2px rgba(60, 64, 67, 0.3), 0px 1px 3px 1px rgba(60, 64, 67, 0.15);\n",
              "      fill: #174EA6;\n",
              "    }\n",
              "\n",
              "    [theme=dark] .colab-df-convert {\n",
              "      background-color: #3B4455;\n",
              "      fill: #D2E3FC;\n",
              "    }\n",
              "\n",
              "    [theme=dark] .colab-df-convert:hover {\n",
              "      background-color: #434B5C;\n",
              "      box-shadow: 0px 1px 3px 1px rgba(0, 0, 0, 0.15);\n",
              "      filter: drop-shadow(0px 1px 2px rgba(0, 0, 0, 0.3));\n",
              "      fill: #FFFFFF;\n",
              "    }\n",
              "  </style>\n",
              "\n",
              "      <script>\n",
              "        const buttonEl =\n",
              "          document.querySelector('#df-21f4eecb-1d24-4f16-82d3-0abf817d3d5a button.colab-df-convert');\n",
              "        buttonEl.style.display =\n",
              "          google.colab.kernel.accessAllowed ? 'block' : 'none';\n",
              "\n",
              "        async function convertToInteractive(key) {\n",
              "          const element = document.querySelector('#df-21f4eecb-1d24-4f16-82d3-0abf817d3d5a');\n",
              "          const dataTable =\n",
              "            await google.colab.kernel.invokeFunction('convertToInteractive',\n",
              "                                                     [key], {});\n",
              "          if (!dataTable) return;\n",
              "\n",
              "          const docLinkHtml = 'Like what you see? Visit the ' +\n",
              "            '<a target=\"_blank\" href=https://colab.research.google.com/notebooks/data_table.ipynb>data table notebook</a>'\n",
              "            + ' to learn more about interactive tables.';\n",
              "          element.innerHTML = '';\n",
              "          dataTable['output_type'] = 'display_data';\n",
              "          await google.colab.output.renderOutput(dataTable, element);\n",
              "          const docLink = document.createElement('div');\n",
              "          docLink.innerHTML = docLinkHtml;\n",
              "          element.appendChild(docLink);\n",
              "        }\n",
              "      </script>\n",
              "    </div>\n",
              "  </div>\n",
              "  "
            ]
          },
          "metadata": {},
          "execution_count": 7
        }
      ]
    },
    {
      "cell_type": "code",
      "source": [
        "from sklearn.preprocessing import LabelEncoder\n",
        "lc = LabelEncoder()\n",
        "data_new = data\n",
        "data_new['titlen']= lc.fit_transform(data['title'])\n",
        "data_new['category']= lc.fit_transform(data['category'])\n",
        "data_new['user_id']= lc.fit_transform(data['user_id'])\n",
        "data_new['podcast_id']= lc.fit_transform(data['podcast_id'])\n",
        "items_df = data_new[['title','titlen','category','rating']]\n",
        "data_new.drop(['title','slug', 'itunes_id','content','Review_Title','created_at'], axis=1, inplace=True)\n"
      ],
      "metadata": {
        "id": "FRHuzu7Y7vDk"
      },
      "execution_count": null,
      "outputs": []
    },
    {
      "cell_type": "code",
      "source": [
        "items_df.head(10)"
      ],
      "metadata": {
        "colab": {
          "base_uri": "https://localhost:8080/",
          "height": 363
        },
        "id": "BywJzEzUBs6r",
        "outputId": "58b3a90a-0b19-4fc6-a3b4-1f39432461d8"
      },
      "execution_count": null,
      "outputs": [
        {
          "output_type": "execute_result",
          "data": {
            "text/plain": [
              "                                                   title  titlen  category  \\\n",
              "13059                                Inside Trader Joe's      19         0   \n",
              "13062                                Inside Trader Joe's      19        14   \n",
              "13061                                Inside Trader Joe's      19        13   \n",
              "13060                                Inside Trader Joe's      19         4   \n",
              "6342        Pretty Basic with Alisha Marie and Remi Cruz      31        20   \n",
              "6343        Pretty Basic with Alisha Marie and Remi Cruz      31        21   \n",
              "6341        Pretty Basic with Alisha Marie and Remi Cruz      31        19   \n",
              "20404                          Off Camera with Sam Jones      27         0   \n",
              "20405                          Off Camera with Sam Jones      27        24   \n",
              "17850  Food for Thought: Living Compassionately, Sust...      13         4   \n",
              "\n",
              "       rating  \n",
              "13059       5  \n",
              "13062       5  \n",
              "13061       5  \n",
              "13060       5  \n",
              "6342        5  \n",
              "6343        5  \n",
              "6341        5  \n",
              "20404       5  \n",
              "20405       5  \n",
              "17850       5  "
            ],
            "text/html": [
              "\n",
              "  <div id=\"df-9f505ebf-e46d-4f8c-aa8f-b58bb80877cc\">\n",
              "    <div class=\"colab-df-container\">\n",
              "      <div>\n",
              "<style scoped>\n",
              "    .dataframe tbody tr th:only-of-type {\n",
              "        vertical-align: middle;\n",
              "    }\n",
              "\n",
              "    .dataframe tbody tr th {\n",
              "        vertical-align: top;\n",
              "    }\n",
              "\n",
              "    .dataframe thead th {\n",
              "        text-align: right;\n",
              "    }\n",
              "</style>\n",
              "<table border=\"1\" class=\"dataframe\">\n",
              "  <thead>\n",
              "    <tr style=\"text-align: right;\">\n",
              "      <th></th>\n",
              "      <th>title</th>\n",
              "      <th>titlen</th>\n",
              "      <th>category</th>\n",
              "      <th>rating</th>\n",
              "    </tr>\n",
              "  </thead>\n",
              "  <tbody>\n",
              "    <tr>\n",
              "      <th>13059</th>\n",
              "      <td>Inside Trader Joe's</td>\n",
              "      <td>19</td>\n",
              "      <td>0</td>\n",
              "      <td>5</td>\n",
              "    </tr>\n",
              "    <tr>\n",
              "      <th>13062</th>\n",
              "      <td>Inside Trader Joe's</td>\n",
              "      <td>19</td>\n",
              "      <td>14</td>\n",
              "      <td>5</td>\n",
              "    </tr>\n",
              "    <tr>\n",
              "      <th>13061</th>\n",
              "      <td>Inside Trader Joe's</td>\n",
              "      <td>19</td>\n",
              "      <td>13</td>\n",
              "      <td>5</td>\n",
              "    </tr>\n",
              "    <tr>\n",
              "      <th>13060</th>\n",
              "      <td>Inside Trader Joe's</td>\n",
              "      <td>19</td>\n",
              "      <td>4</td>\n",
              "      <td>5</td>\n",
              "    </tr>\n",
              "    <tr>\n",
              "      <th>6342</th>\n",
              "      <td>Pretty Basic with Alisha Marie and Remi Cruz</td>\n",
              "      <td>31</td>\n",
              "      <td>20</td>\n",
              "      <td>5</td>\n",
              "    </tr>\n",
              "    <tr>\n",
              "      <th>6343</th>\n",
              "      <td>Pretty Basic with Alisha Marie and Remi Cruz</td>\n",
              "      <td>31</td>\n",
              "      <td>21</td>\n",
              "      <td>5</td>\n",
              "    </tr>\n",
              "    <tr>\n",
              "      <th>6341</th>\n",
              "      <td>Pretty Basic with Alisha Marie and Remi Cruz</td>\n",
              "      <td>31</td>\n",
              "      <td>19</td>\n",
              "      <td>5</td>\n",
              "    </tr>\n",
              "    <tr>\n",
              "      <th>20404</th>\n",
              "      <td>Off Camera with Sam Jones</td>\n",
              "      <td>27</td>\n",
              "      <td>0</td>\n",
              "      <td>5</td>\n",
              "    </tr>\n",
              "    <tr>\n",
              "      <th>20405</th>\n",
              "      <td>Off Camera with Sam Jones</td>\n",
              "      <td>27</td>\n",
              "      <td>24</td>\n",
              "      <td>5</td>\n",
              "    </tr>\n",
              "    <tr>\n",
              "      <th>17850</th>\n",
              "      <td>Food for Thought: Living Compassionately, Sust...</td>\n",
              "      <td>13</td>\n",
              "      <td>4</td>\n",
              "      <td>5</td>\n",
              "    </tr>\n",
              "  </tbody>\n",
              "</table>\n",
              "</div>\n",
              "      <button class=\"colab-df-convert\" onclick=\"convertToInteractive('df-9f505ebf-e46d-4f8c-aa8f-b58bb80877cc')\"\n",
              "              title=\"Convert this dataframe to an interactive table.\"\n",
              "              style=\"display:none;\">\n",
              "        \n",
              "  <svg xmlns=\"http://www.w3.org/2000/svg\" height=\"24px\"viewBox=\"0 0 24 24\"\n",
              "       width=\"24px\">\n",
              "    <path d=\"M0 0h24v24H0V0z\" fill=\"none\"/>\n",
              "    <path d=\"M18.56 5.44l.94 2.06.94-2.06 2.06-.94-2.06-.94-.94-2.06-.94 2.06-2.06.94zm-11 1L8.5 8.5l.94-2.06 2.06-.94-2.06-.94L8.5 2.5l-.94 2.06-2.06.94zm10 10l.94 2.06.94-2.06 2.06-.94-2.06-.94-.94-2.06-.94 2.06-2.06.94z\"/><path d=\"M17.41 7.96l-1.37-1.37c-.4-.4-.92-.59-1.43-.59-.52 0-1.04.2-1.43.59L10.3 9.45l-7.72 7.72c-.78.78-.78 2.05 0 2.83L4 21.41c.39.39.9.59 1.41.59.51 0 1.02-.2 1.41-.59l7.78-7.78 2.81-2.81c.8-.78.8-2.07 0-2.86zM5.41 20L4 18.59l7.72-7.72 1.47 1.35L5.41 20z\"/>\n",
              "  </svg>\n",
              "      </button>\n",
              "      \n",
              "  <style>\n",
              "    .colab-df-container {\n",
              "      display:flex;\n",
              "      flex-wrap:wrap;\n",
              "      gap: 12px;\n",
              "    }\n",
              "\n",
              "    .colab-df-convert {\n",
              "      background-color: #E8F0FE;\n",
              "      border: none;\n",
              "      border-radius: 50%;\n",
              "      cursor: pointer;\n",
              "      display: none;\n",
              "      fill: #1967D2;\n",
              "      height: 32px;\n",
              "      padding: 0 0 0 0;\n",
              "      width: 32px;\n",
              "    }\n",
              "\n",
              "    .colab-df-convert:hover {\n",
              "      background-color: #E2EBFA;\n",
              "      box-shadow: 0px 1px 2px rgba(60, 64, 67, 0.3), 0px 1px 3px 1px rgba(60, 64, 67, 0.15);\n",
              "      fill: #174EA6;\n",
              "    }\n",
              "\n",
              "    [theme=dark] .colab-df-convert {\n",
              "      background-color: #3B4455;\n",
              "      fill: #D2E3FC;\n",
              "    }\n",
              "\n",
              "    [theme=dark] .colab-df-convert:hover {\n",
              "      background-color: #434B5C;\n",
              "      box-shadow: 0px 1px 3px 1px rgba(0, 0, 0, 0.15);\n",
              "      filter: drop-shadow(0px 1px 2px rgba(0, 0, 0, 0.3));\n",
              "      fill: #FFFFFF;\n",
              "    }\n",
              "  </style>\n",
              "\n",
              "      <script>\n",
              "        const buttonEl =\n",
              "          document.querySelector('#df-9f505ebf-e46d-4f8c-aa8f-b58bb80877cc button.colab-df-convert');\n",
              "        buttonEl.style.display =\n",
              "          google.colab.kernel.accessAllowed ? 'block' : 'none';\n",
              "\n",
              "        async function convertToInteractive(key) {\n",
              "          const element = document.querySelector('#df-9f505ebf-e46d-4f8c-aa8f-b58bb80877cc');\n",
              "          const dataTable =\n",
              "            await google.colab.kernel.invokeFunction('convertToInteractive',\n",
              "                                                     [key], {});\n",
              "          if (!dataTable) return;\n",
              "\n",
              "          const docLinkHtml = 'Like what you see? Visit the ' +\n",
              "            '<a target=\"_blank\" href=https://colab.research.google.com/notebooks/data_table.ipynb>data table notebook</a>'\n",
              "            + ' to learn more about interactive tables.';\n",
              "          element.innerHTML = '';\n",
              "          dataTable['output_type'] = 'display_data';\n",
              "          await google.colab.output.renderOutput(dataTable, element);\n",
              "          const docLink = document.createElement('div');\n",
              "          docLink.innerHTML = docLinkHtml;\n",
              "          element.appendChild(docLink);\n",
              "        }\n",
              "      </script>\n",
              "    </div>\n",
              "  </div>\n",
              "  "
            ]
          },
          "metadata": {},
          "execution_count": 29
        }
      ]
    },
    {
      "cell_type": "code",
      "source": [
        "data_new.head(6)"
      ],
      "metadata": {
        "colab": {
          "base_uri": "https://localhost:8080/",
          "height": 238
        },
        "id": "jRieglf4W5-w",
        "outputId": "1afd9012-f7cf-4082-f7ec-1aa712c713d9"
      },
      "execution_count": null,
      "outputs": [
        {
          "output_type": "execute_result",
          "data": {
            "text/plain": [
              "       podcast_id  user_id  category  rating  compound  titlen\n",
              "13059           5      620         0       5    0.9998      19\n",
              "13062           5      620        14       5    0.9998      19\n",
              "13061           5      620        13       5    0.9998      19\n",
              "13060           5      620         4       5    0.9998      19\n",
              "6342           57     9929        20       5    0.9963      31\n",
              "6343           57     9929        21       5    0.9963      31"
            ],
            "text/html": [
              "\n",
              "  <div id=\"df-dd46acf1-309a-46ee-90c3-975419449d59\">\n",
              "    <div class=\"colab-df-container\">\n",
              "      <div>\n",
              "<style scoped>\n",
              "    .dataframe tbody tr th:only-of-type {\n",
              "        vertical-align: middle;\n",
              "    }\n",
              "\n",
              "    .dataframe tbody tr th {\n",
              "        vertical-align: top;\n",
              "    }\n",
              "\n",
              "    .dataframe thead th {\n",
              "        text-align: right;\n",
              "    }\n",
              "</style>\n",
              "<table border=\"1\" class=\"dataframe\">\n",
              "  <thead>\n",
              "    <tr style=\"text-align: right;\">\n",
              "      <th></th>\n",
              "      <th>podcast_id</th>\n",
              "      <th>user_id</th>\n",
              "      <th>category</th>\n",
              "      <th>rating</th>\n",
              "      <th>compound</th>\n",
              "      <th>titlen</th>\n",
              "    </tr>\n",
              "  </thead>\n",
              "  <tbody>\n",
              "    <tr>\n",
              "      <th>13059</th>\n",
              "      <td>5</td>\n",
              "      <td>620</td>\n",
              "      <td>0</td>\n",
              "      <td>5</td>\n",
              "      <td>0.9998</td>\n",
              "      <td>19</td>\n",
              "    </tr>\n",
              "    <tr>\n",
              "      <th>13062</th>\n",
              "      <td>5</td>\n",
              "      <td>620</td>\n",
              "      <td>14</td>\n",
              "      <td>5</td>\n",
              "      <td>0.9998</td>\n",
              "      <td>19</td>\n",
              "    </tr>\n",
              "    <tr>\n",
              "      <th>13061</th>\n",
              "      <td>5</td>\n",
              "      <td>620</td>\n",
              "      <td>13</td>\n",
              "      <td>5</td>\n",
              "      <td>0.9998</td>\n",
              "      <td>19</td>\n",
              "    </tr>\n",
              "    <tr>\n",
              "      <th>13060</th>\n",
              "      <td>5</td>\n",
              "      <td>620</td>\n",
              "      <td>4</td>\n",
              "      <td>5</td>\n",
              "      <td>0.9998</td>\n",
              "      <td>19</td>\n",
              "    </tr>\n",
              "    <tr>\n",
              "      <th>6342</th>\n",
              "      <td>57</td>\n",
              "      <td>9929</td>\n",
              "      <td>20</td>\n",
              "      <td>5</td>\n",
              "      <td>0.9963</td>\n",
              "      <td>31</td>\n",
              "    </tr>\n",
              "    <tr>\n",
              "      <th>6343</th>\n",
              "      <td>57</td>\n",
              "      <td>9929</td>\n",
              "      <td>21</td>\n",
              "      <td>5</td>\n",
              "      <td>0.9963</td>\n",
              "      <td>31</td>\n",
              "    </tr>\n",
              "  </tbody>\n",
              "</table>\n",
              "</div>\n",
              "      <button class=\"colab-df-convert\" onclick=\"convertToInteractive('df-dd46acf1-309a-46ee-90c3-975419449d59')\"\n",
              "              title=\"Convert this dataframe to an interactive table.\"\n",
              "              style=\"display:none;\">\n",
              "        \n",
              "  <svg xmlns=\"http://www.w3.org/2000/svg\" height=\"24px\"viewBox=\"0 0 24 24\"\n",
              "       width=\"24px\">\n",
              "    <path d=\"M0 0h24v24H0V0z\" fill=\"none\"/>\n",
              "    <path d=\"M18.56 5.44l.94 2.06.94-2.06 2.06-.94-2.06-.94-.94-2.06-.94 2.06-2.06.94zm-11 1L8.5 8.5l.94-2.06 2.06-.94-2.06-.94L8.5 2.5l-.94 2.06-2.06.94zm10 10l.94 2.06.94-2.06 2.06-.94-2.06-.94-.94-2.06-.94 2.06-2.06.94z\"/><path d=\"M17.41 7.96l-1.37-1.37c-.4-.4-.92-.59-1.43-.59-.52 0-1.04.2-1.43.59L10.3 9.45l-7.72 7.72c-.78.78-.78 2.05 0 2.83L4 21.41c.39.39.9.59 1.41.59.51 0 1.02-.2 1.41-.59l7.78-7.78 2.81-2.81c.8-.78.8-2.07 0-2.86zM5.41 20L4 18.59l7.72-7.72 1.47 1.35L5.41 20z\"/>\n",
              "  </svg>\n",
              "      </button>\n",
              "      \n",
              "  <style>\n",
              "    .colab-df-container {\n",
              "      display:flex;\n",
              "      flex-wrap:wrap;\n",
              "      gap: 12px;\n",
              "    }\n",
              "\n",
              "    .colab-df-convert {\n",
              "      background-color: #E8F0FE;\n",
              "      border: none;\n",
              "      border-radius: 50%;\n",
              "      cursor: pointer;\n",
              "      display: none;\n",
              "      fill: #1967D2;\n",
              "      height: 32px;\n",
              "      padding: 0 0 0 0;\n",
              "      width: 32px;\n",
              "    }\n",
              "\n",
              "    .colab-df-convert:hover {\n",
              "      background-color: #E2EBFA;\n",
              "      box-shadow: 0px 1px 2px rgba(60, 64, 67, 0.3), 0px 1px 3px 1px rgba(60, 64, 67, 0.15);\n",
              "      fill: #174EA6;\n",
              "    }\n",
              "\n",
              "    [theme=dark] .colab-df-convert {\n",
              "      background-color: #3B4455;\n",
              "      fill: #D2E3FC;\n",
              "    }\n",
              "\n",
              "    [theme=dark] .colab-df-convert:hover {\n",
              "      background-color: #434B5C;\n",
              "      box-shadow: 0px 1px 3px 1px rgba(0, 0, 0, 0.15);\n",
              "      filter: drop-shadow(0px 1px 2px rgba(0, 0, 0, 0.3));\n",
              "      fill: #FFFFFF;\n",
              "    }\n",
              "  </style>\n",
              "\n",
              "      <script>\n",
              "        const buttonEl =\n",
              "          document.querySelector('#df-dd46acf1-309a-46ee-90c3-975419449d59 button.colab-df-convert');\n",
              "        buttonEl.style.display =\n",
              "          google.colab.kernel.accessAllowed ? 'block' : 'none';\n",
              "\n",
              "        async function convertToInteractive(key) {\n",
              "          const element = document.querySelector('#df-dd46acf1-309a-46ee-90c3-975419449d59');\n",
              "          const dataTable =\n",
              "            await google.colab.kernel.invokeFunction('convertToInteractive',\n",
              "                                                     [key], {});\n",
              "          if (!dataTable) return;\n",
              "\n",
              "          const docLinkHtml = 'Like what you see? Visit the ' +\n",
              "            '<a target=\"_blank\" href=https://colab.research.google.com/notebooks/data_table.ipynb>data table notebook</a>'\n",
              "            + ' to learn more about interactive tables.';\n",
              "          element.innerHTML = '';\n",
              "          dataTable['output_type'] = 'display_data';\n",
              "          await google.colab.output.renderOutput(dataTable, element);\n",
              "          const docLink = document.createElement('div');\n",
              "          docLink.innerHTML = docLinkHtml;\n",
              "          element.appendChild(docLink);\n",
              "        }\n",
              "      </script>\n",
              "    </div>\n",
              "  </div>\n",
              "  "
            ]
          },
          "metadata": {},
          "execution_count": 28
        }
      ]
    },
    {
      "cell_type": "code",
      "source": [
        "from sklearn.preprocessing import StandardScaler\n",
        "from sklearn import preprocessing\n",
        "from sklearn.preprocessing import LabelEncoder\n",
        "\n",
        "lc = LabelEncoder()\n",
        "\n",
        "data_n = df_p.drop(columns=['compound','created_at','content','slug','Review_Title','itunes_id'])\n",
        "data_n['user_id'] = lc.fit_transform(df_p['user_id'])\n",
        "data_n['podcast_id'] = lc.fit_transform(df_p['podcast_id'])\n",
        "data_n['title'] = lc.fit_transform(df_p['title'])\n",
        "data_n['category'] = lc.fit_transform(df_p['category'])"
      ],
      "metadata": {
        "id": "8zO6QcIzeR_N"
      },
      "execution_count": null,
      "outputs": []
    },
    {
      "cell_type": "code",
      "source": [
        "items_df"
      ],
      "metadata": {
        "id": "y5f19RfR-dCW"
      },
      "execution_count": null,
      "outputs": []
    },
    {
      "cell_type": "code",
      "source": [
        "from sklearn.model_selection import train_test_split\n",
        "\n",
        "train_df, valid_df = train_test_split(data_new, test_size=0.2)\n",
        "train_df = train_df.reset_index(drop=True)\n",
        "test_df = valid_df.reset_index(drop=True)"
      ],
      "metadata": {
        "id": "uIw5mJgC-eS9"
      },
      "execution_count": null,
      "outputs": []
    },
    {
      "cell_type": "markdown",
      "source": [
        "# Embedding"
      ],
      "metadata": {
        "id": "NoYLclBC-vFW"
      }
    },
    {
      "cell_type": "code",
      "source": [
        "import torch\n",
        "import torch.nn as nn\n",
        "import torch.nn.functional as F"
      ],
      "metadata": {
        "id": "m5bIupKd-zJe"
      },
      "execution_count": null,
      "outputs": []
    },
    {
      "cell_type": "code",
      "source": [
        "# embedding will be initialized at random\n",
        "embed = nn.Embedding(10, 3)\n",
        "# given a list of ids wthe embedding corresponing to each id\n",
        "a = torch.LongTensor([[1,2,0,4,5,1]])\n",
        "embed(a)"
      ],
      "metadata": {
        "colab": {
          "base_uri": "https://localhost:8080/"
        },
        "id": "1Qm6YpJ1-1wI",
        "outputId": "80e24484-c64c-4b8a-cd30-d4e109ddb912"
      },
      "execution_count": null,
      "outputs": [
        {
          "output_type": "execute_result",
          "data": {
            "text/plain": [
              "tensor([[[-1.0529,  1.2599,  0.5134],\n",
              "         [-2.0563, -0.3650, -0.9383],\n",
              "         [-0.1725, -0.1281,  1.8099],\n",
              "         [ 1.1791, -0.5794, -0.7229],\n",
              "         [ 0.4474,  0.7828, -0.8423],\n",
              "         [-1.0529,  1.2599,  0.5134]]], grad_fn=<EmbeddingBackward0>)"
            ]
          },
          "metadata": {},
          "execution_count": 12
        }
      ]
    },
    {
      "cell_type": "markdown",
      "source": [
        "\n",
        "# Matrix Factroization Model"
      ],
      "metadata": {
        "id": "5F5RbYJQ-4-h"
      }
    },
    {
      "cell_type": "code",
      "source": [
        "class MatrixF(nn.Module):\n",
        "    def __init__(self, num_users, num_pod_items, emb_size=100):\n",
        "        super(MatrixF, self).__init__()\n",
        "        self.user_emb = nn.Embedding(num_users, emb_size)\n",
        "        self.item_emb = nn.Embedding(num_pod_items, emb_size)\n",
        "        self.user_emb.weight.data.uniform_(0, 0.05)\n",
        "        self.item_emb.weight.data.uniform_(0, 0.05)\n",
        "        \n",
        "    def forward(self, u, v):\n",
        "        u = self.user_emb(u)\n",
        "        v = self.item_emb(v)\n",
        "        return (u*v).sum(1) "
      ],
      "metadata": {
        "id": "ybapLTN7-5tO"
      },
      "execution_count": null,
      "outputs": []
    },
    {
      "cell_type": "markdown",
      "source": [
        "# Training Matrix Factorization Model\n"
      ],
      "metadata": {
        "id": "QcLSoMm---uv"
      }
    },
    {
      "cell_type": "code",
      "source": [
        "num_users = len(train_df.user_id)\n",
        "num_pod_items = len(train_df)\n",
        "print(num_users, num_pod_items) "
      ],
      "metadata": {
        "colab": {
          "base_uri": "https://localhost:8080/"
        },
        "id": "GZrZYCD4-_bQ",
        "outputId": "2a8b3aad-9dd5-4a74-d741-426b4a9c01e8"
      },
      "execution_count": null,
      "outputs": [
        {
          "output_type": "stream",
          "name": "stdout",
          "text": [
            "21600 21600\n"
          ]
        }
      ]
    },
    {
      "cell_type": "markdown",
      "source": [
        "Matrix Factorization using Latent feature = 20\n"
      ],
      "metadata": {
        "id": "SZuL2rfd_GJ2"
      }
    },
    {
      "cell_type": "code",
      "source": [
        "mfModel_20 = MatrixF(num_users, num_pod_items, emb_size=20)\n",
        "mfModel_20"
      ],
      "metadata": {
        "colab": {
          "base_uri": "https://localhost:8080/"
        },
        "id": "jN3-HcLv_CCF",
        "outputId": "6cf0e502-8794-4fd8-fd81-f30dc0fc1120"
      },
      "execution_count": null,
      "outputs": [
        {
          "output_type": "execute_result",
          "data": {
            "text/plain": [
              "MatrixF(\n",
              "  (user_emb): Embedding(21600, 20)\n",
              "  (item_emb): Embedding(21600, 20)\n",
              ")"
            ]
          },
          "metadata": {},
          "execution_count": 15
        }
      ]
    },
    {
      "cell_type": "code",
      "source": [
        "def train_epocs(model, epochs=10, lr=0.01, wd=0.0, unsqueeze=False):\n",
        "    optimizer = torch.optim.Adam(model.parameters(), lr=lr, weight_decay=wd)\n",
        "    model.train()\n",
        "    for i in range(epochs):\n",
        "        users = torch.LongTensor(train_df.user_id.values) # .cuda()\n",
        "        items = torch.LongTensor(train_df.podcast_id.values) #.cuda()\n",
        "        ratings = torch.FloatTensor(train_df.rating.values) #.cuda()\n",
        "        if unsqueeze:\n",
        "            ratings = ratings.unsqueeze(1)\n",
        "        y_hat = model(users, items)\n",
        "        loss = F.mse_loss(y_hat, ratings)\n",
        "        train_mse.append((i, loss.item()))\n",
        "        if (i+1) % 10 == 0:\n",
        "          print(\"Iteration: %d ; error = %.4f\" % (i+1, loss.item()))\n",
        "        optimizer.zero_grad()\n",
        "        loss.backward()\n",
        "        optimizer.step()\n",
        "    test_loss(model, unsqueeze)"
      ],
      "metadata": {
        "id": "vE9mpcQR_J_0"
      },
      "execution_count": null,
      "outputs": []
    },
    {
      "cell_type": "code",
      "source": [
        "def test_loss(model, unsqueeze=False):\n",
        "    model.eval()\n",
        "    users = torch.LongTensor(test_df.user_id.values) #.cuda()\n",
        "    items = torch.LongTensor(test_df.podcast_id.values) #.cuda()\n",
        "    ratings = torch.FloatTensor(test_df.rating.values) #.cuda()\n",
        "    if unsqueeze:\n",
        "        ratings = ratings.unsqueeze(1)\n",
        "    y_hat = model(users, items)\n",
        "    loss = F.mse_loss(y_hat, ratings)\n",
        "    print(\"test loss %.3f \" % loss.item())"
      ],
      "metadata": {
        "id": "WVOPX9z0_Pba"
      },
      "execution_count": null,
      "outputs": []
    },
    {
      "cell_type": "code",
      "source": [
        "train_mse = []\n",
        "train_epocs(mfModel_20, epochs=20, lr=0.01)"
      ],
      "metadata": {
        "colab": {
          "base_uri": "https://localhost:8080/"
        },
        "id": "AL_qUCvv_Su8",
        "outputId": "878b7915-ccc7-429c-a9b6-e45285fe9d2d"
      },
      "execution_count": null,
      "outputs": [
        {
          "output_type": "stream",
          "name": "stdout",
          "text": [
            "Iteration: 10 ; error = 19.1051\n",
            "Iteration: 20 ; error = 13.4834\n",
            "test loss 13.759 \n"
          ]
        }
      ]
    },
    {
      "cell_type": "markdown",
      "source": [
        "Matrix Factorization with latent feature K= 30\n"
      ],
      "metadata": {
        "id": "ikG8G7EY_c82"
      }
    },
    {
      "cell_type": "code",
      "source": [
        "mfModel_30 = MatrixF(num_users, num_pod_items, emb_size=30)\n",
        "train_mse = []\n",
        "train_epocs(mfModel_30, epochs=20, lr=0.01)"
      ],
      "metadata": {
        "colab": {
          "base_uri": "https://localhost:8080/"
        },
        "id": "Oin_MFTD_eDH",
        "outputId": "9e7cd1f1-d1af-4db2-c5d0-fdb23eb309cd"
      },
      "execution_count": null,
      "outputs": [
        {
          "output_type": "stream",
          "name": "stdout",
          "text": [
            "Iteration: 10 ; error = 17.9334\n",
            "Iteration: 20 ; error = 10.1785\n",
            "test loss 10.710 \n"
          ]
        }
      ]
    },
    {
      "cell_type": "code",
      "source": [
        "mfModel_30 = MatrixF(num_users, num_pod_items, emb_size=30)\n",
        "train_mse = []\n",
        "train_epocs(mfModel_30, epochs=30, lr=0.01)"
      ],
      "metadata": {
        "colab": {
          "base_uri": "https://localhost:8080/"
        },
        "id": "YlA8W-7T_ici",
        "outputId": "01c2e9f5-deee-46d3-d680-0069ca7c8aca"
      },
      "execution_count": null,
      "outputs": [
        {
          "output_type": "stream",
          "name": "stdout",
          "text": [
            "Iteration: 10 ; error = 17.9574\n",
            "Iteration: 20 ; error = 10.2138\n",
            "Iteration: 30 ; error = 2.1721\n",
            "test loss 3.969 \n"
          ]
        }
      ]
    },
    {
      "cell_type": "markdown",
      "source": [
        "Matrix Factorization with latent feature K= 70"
      ],
      "metadata": {
        "id": "r2cLeIyf-0sC"
      }
    },
    {
      "cell_type": "code",
      "source": [
        "mfModel_70 = MatrixF(num_users, num_pod_items, emb_size=70)\n",
        "train_mse = []\n",
        "train_epocs(mfModel_70, epochs=90, lr=0.01)"
      ],
      "metadata": {
        "colab": {
          "base_uri": "https://localhost:8080/"
        },
        "id": "Pe6F0PEc_jub",
        "outputId": "7d6df2e8-3636-45af-947c-30da1d1a681f"
      },
      "execution_count": null,
      "outputs": [
        {
          "output_type": "stream",
          "name": "stdout",
          "text": [
            "Iteration: 10 ; error = 13.8901\n",
            "Iteration: 20 ; error = 2.0536\n",
            "Iteration: 30 ; error = 1.1984\n",
            "Iteration: 40 ; error = 0.1271\n",
            "Iteration: 50 ; error = 0.2330\n",
            "Iteration: 60 ; error = 0.0394\n",
            "Iteration: 70 ; error = 0.0487\n",
            "Iteration: 80 ; error = 0.0355\n",
            "Iteration: 90 ; error = 0.0285\n",
            "test loss 2.343 \n"
          ]
        }
      ]
    },
    {
      "cell_type": "code",
      "source": [
        "mfModel_90 = MatrixF(num_users, num_pod_items, emb_size=90)\n",
        "train_mse = []\n",
        "train_epocs(mfModel_90, epochs=50, lr=0.01)"
      ],
      "metadata": {
        "colab": {
          "base_uri": "https://localhost:8080/"
        },
        "id": "LCtSqgPM_oP3",
        "outputId": "80e258a9-4509-47ff-c7da-d58f4c0f6249"
      },
      "execution_count": null,
      "outputs": [
        {
          "output_type": "stream",
          "name": "stdout",
          "text": [
            "Iteration: 10 ; error = 12.0526\n",
            "Iteration: 20 ; error = 0.5166\n",
            "Iteration: 30 ; error = 1.3028\n",
            "Iteration: 40 ; error = 0.1733\n",
            "Iteration: 50 ; error = 0.1299\n",
            "test loss 2.346 \n"
          ]
        }
      ]
    },
    {
      "cell_type": "code",
      "source": [
        "#predict the ratings for user 620\n",
        "def predict_rating(user_id):\n",
        "    user = torch.tensor([user_id])\n",
        "    pod = torch.tensor(data_new['podcast_id'].unique().tolist())\n",
        "    predictions = mfModel_70(user, pod).tolist()\n",
        "    return predictions\n",
        "predicted_r = predict_rating(9929) \n",
        "predicted_r"
      ],
      "metadata": {
        "id": "gDTFNu6X_2jy",
        "colab": {
          "base_uri": "https://localhost:8080/"
        },
        "outputId": "fa95f768-726e-4874-9450-24366b505ae4"
      },
      "execution_count": null,
      "outputs": [
        {
          "output_type": "execute_result",
          "data": {
            "text/plain": [
              "[5.057453155517578,\n",
              " 5.008082389831543,\n",
              " 5.049488067626953,\n",
              " 5.038302421569824,\n",
              " 5.013965606689453,\n",
              " 5.006885051727295,\n",
              " 4.9790544509887695,\n",
              " 4.943739414215088,\n",
              " 4.198768138885498,\n",
              " 4.988162517547607,\n",
              " 4.975846767425537,\n",
              " 5.023404598236084,\n",
              " 5.073990345001221,\n",
              " 5.074158668518066,\n",
              " 5.041748523712158,\n",
              " 4.8616461753845215,\n",
              " 4.989508152008057,\n",
              " 5.010388374328613,\n",
              " 4.876624584197998,\n",
              " 5.0869035720825195,\n",
              " 5.075008392333984,\n",
              " 5.044510841369629,\n",
              " 4.883328437805176,\n",
              " 4.652141094207764,\n",
              " 4.984708309173584,\n",
              " 4.974112033843994,\n",
              " 4.952244281768799,\n",
              " 5.161203384399414,\n",
              " 5.027935981750488,\n",
              " 5.035090923309326,\n",
              " 5.051782131195068,\n",
              " 4.7596964836120605,\n",
              " 4.94551944732666,\n",
              " 4.877833366394043,\n",
              " 4.945195198059082,\n",
              " 5.153228759765625,\n",
              " 4.809396266937256,\n",
              " 5.17880392074585,\n",
              " 4.578401565551758,\n",
              " 4.735890865325928,\n",
              " 5.018186569213867,\n",
              " 4.99138069152832,\n",
              " 5.05510139465332,\n",
              " 5.032923698425293,\n",
              " 4.9959635734558105,\n",
              " 4.857681751251221,\n",
              " 5.084360122680664,\n",
              " 4.891071796417236,\n",
              " 4.95535945892334,\n",
              " 5.043120861053467,\n",
              " 4.891680717468262,\n",
              " 5.064732551574707,\n",
              " 4.994015693664551,\n",
              " 4.775445461273193,\n",
              " 5.023583889007568,\n",
              " 4.9456892013549805,\n",
              " 5.093853950500488,\n",
              " 5.136146068572998,\n",
              " 5.079444885253906,\n",
              " 5.062636375427246,\n",
              " 5.0181074142456055,\n",
              " 5.057461738586426,\n",
              " 4.751825332641602,\n",
              " 4.978155612945557]"
            ]
          },
          "metadata": {},
          "execution_count": 30
        }
      ]
    },
    {
      "cell_type": "code",
      "source": [
        "import numpy as np\n",
        "\n",
        "predictions = np.array(predicted_r, dtype=np.float32)\n",
        "sortedIndices = predictions.argsort()\n",
        "sortedIndices"
      ],
      "metadata": {
        "colab": {
          "base_uri": "https://localhost:8080/"
        },
        "id": "IB_eRmF9CVTz",
        "outputId": "dfbb275d-c39e-4d68-b8f8-85f838b15c70"
      },
      "execution_count": null,
      "outputs": [
        {
          "output_type": "execute_result",
          "data": {
            "text/plain": [
              "array([ 8, 38, 23, 39, 62, 31, 53, 36, 45, 15, 18, 33, 22, 47, 50,  7, 34,\n",
              "       32, 55, 26, 48, 25, 10, 63,  6, 24,  9, 16, 41, 52, 44,  5,  1, 17,\n",
              "        4, 60, 40, 11, 54, 28, 43, 29,  3, 14, 49, 21,  2, 30, 42,  0, 61,\n",
              "       59, 51, 12, 13, 20, 58, 46, 19, 56, 57, 35, 27, 37])"
            ]
          },
          "metadata": {},
          "execution_count": 31
        }
      ]
    },
    {
      "cell_type": "code",
      "source": [
        "sortedIndices = predictions.argsort()\n",
        "recommded_itemid = data_new['podcast_id'].unique()[sortedIndices][-20:][::-1]  # taking top 10\n",
        "print(recommded_itemid)"
      ],
      "metadata": {
        "colab": {
          "base_uri": "https://localhost:8080/"
        },
        "id": "JRIeB2mTCyWr",
        "outputId": "fffda2f2-226f-44a3-c72d-2d76f127866f"
      },
      "execution_count": null,
      "outputs": [
        {
          "output_type": "stream",
          "name": "stdout",
          "text": [
            "[49 14 10 33 54 41 32  7 62 60 31  4 22 29  5 16  2 42  6 30]\n"
          ]
        }
      ]
    },
    {
      "cell_type": "code",
      "source": [
        "recommendedPods = items_df[items_df.titlen.isin(recommded_itemid)]\n",
        "recommendedPods"
      ],
      "metadata": {
        "colab": {
          "base_uri": "https://localhost:8080/",
          "height": 424
        },
        "id": "IeVWkqWWDDHd",
        "outputId": "dda0c881-ab97-4bb1-8bf1-5707fe63feda"
      },
      "execution_count": null,
      "outputs": [
        {
          "output_type": "execute_result",
          "data": {
            "text/plain": [
              "                                              title  titlen  category  rating\n",
              "6342   Pretty Basic with Alisha Marie and Remi Cruz      31        20       5\n",
              "6343   Pretty Basic with Alisha Marie and Remi Cruz      31        21       5\n",
              "6341   Pretty Basic with Alisha Marie and Remi Cruz      31        19       5\n",
              "13714                      The Leviathan Chronicles      54        12       5\n",
              "13713                      The Leviathan Chronicles      54        10       5\n",
              "...                                             ...     ...       ...     ...\n",
              "23818                             Small Town Horror      41         5       5\n",
              "23817                             Small Town Horror      41         1       5\n",
              "1046                                  Snap Judgment      42         5       2\n",
              "1047                                  Snap Judgment      42        19       2\n",
              "1045                                  Snap Judgment      42         0       2\n",
              "\n",
              "[9721 rows x 4 columns]"
            ],
            "text/html": [
              "\n",
              "  <div id=\"df-0c16eca0-e436-43f8-8c4c-76bf41477afd\">\n",
              "    <div class=\"colab-df-container\">\n",
              "      <div>\n",
              "<style scoped>\n",
              "    .dataframe tbody tr th:only-of-type {\n",
              "        vertical-align: middle;\n",
              "    }\n",
              "\n",
              "    .dataframe tbody tr th {\n",
              "        vertical-align: top;\n",
              "    }\n",
              "\n",
              "    .dataframe thead th {\n",
              "        text-align: right;\n",
              "    }\n",
              "</style>\n",
              "<table border=\"1\" class=\"dataframe\">\n",
              "  <thead>\n",
              "    <tr style=\"text-align: right;\">\n",
              "      <th></th>\n",
              "      <th>title</th>\n",
              "      <th>titlen</th>\n",
              "      <th>category</th>\n",
              "      <th>rating</th>\n",
              "    </tr>\n",
              "  </thead>\n",
              "  <tbody>\n",
              "    <tr>\n",
              "      <th>6342</th>\n",
              "      <td>Pretty Basic with Alisha Marie and Remi Cruz</td>\n",
              "      <td>31</td>\n",
              "      <td>20</td>\n",
              "      <td>5</td>\n",
              "    </tr>\n",
              "    <tr>\n",
              "      <th>6343</th>\n",
              "      <td>Pretty Basic with Alisha Marie and Remi Cruz</td>\n",
              "      <td>31</td>\n",
              "      <td>21</td>\n",
              "      <td>5</td>\n",
              "    </tr>\n",
              "    <tr>\n",
              "      <th>6341</th>\n",
              "      <td>Pretty Basic with Alisha Marie and Remi Cruz</td>\n",
              "      <td>31</td>\n",
              "      <td>19</td>\n",
              "      <td>5</td>\n",
              "    </tr>\n",
              "    <tr>\n",
              "      <th>13714</th>\n",
              "      <td>The Leviathan Chronicles</td>\n",
              "      <td>54</td>\n",
              "      <td>12</td>\n",
              "      <td>5</td>\n",
              "    </tr>\n",
              "    <tr>\n",
              "      <th>13713</th>\n",
              "      <td>The Leviathan Chronicles</td>\n",
              "      <td>54</td>\n",
              "      <td>10</td>\n",
              "      <td>5</td>\n",
              "    </tr>\n",
              "    <tr>\n",
              "      <th>...</th>\n",
              "      <td>...</td>\n",
              "      <td>...</td>\n",
              "      <td>...</td>\n",
              "      <td>...</td>\n",
              "    </tr>\n",
              "    <tr>\n",
              "      <th>23818</th>\n",
              "      <td>Small Town Horror</td>\n",
              "      <td>41</td>\n",
              "      <td>5</td>\n",
              "      <td>5</td>\n",
              "    </tr>\n",
              "    <tr>\n",
              "      <th>23817</th>\n",
              "      <td>Small Town Horror</td>\n",
              "      <td>41</td>\n",
              "      <td>1</td>\n",
              "      <td>5</td>\n",
              "    </tr>\n",
              "    <tr>\n",
              "      <th>1046</th>\n",
              "      <td>Snap Judgment</td>\n",
              "      <td>42</td>\n",
              "      <td>5</td>\n",
              "      <td>2</td>\n",
              "    </tr>\n",
              "    <tr>\n",
              "      <th>1047</th>\n",
              "      <td>Snap Judgment</td>\n",
              "      <td>42</td>\n",
              "      <td>19</td>\n",
              "      <td>2</td>\n",
              "    </tr>\n",
              "    <tr>\n",
              "      <th>1045</th>\n",
              "      <td>Snap Judgment</td>\n",
              "      <td>42</td>\n",
              "      <td>0</td>\n",
              "      <td>2</td>\n",
              "    </tr>\n",
              "  </tbody>\n",
              "</table>\n",
              "<p>9721 rows × 4 columns</p>\n",
              "</div>\n",
              "      <button class=\"colab-df-convert\" onclick=\"convertToInteractive('df-0c16eca0-e436-43f8-8c4c-76bf41477afd')\"\n",
              "              title=\"Convert this dataframe to an interactive table.\"\n",
              "              style=\"display:none;\">\n",
              "        \n",
              "  <svg xmlns=\"http://www.w3.org/2000/svg\" height=\"24px\"viewBox=\"0 0 24 24\"\n",
              "       width=\"24px\">\n",
              "    <path d=\"M0 0h24v24H0V0z\" fill=\"none\"/>\n",
              "    <path d=\"M18.56 5.44l.94 2.06.94-2.06 2.06-.94-2.06-.94-.94-2.06-.94 2.06-2.06.94zm-11 1L8.5 8.5l.94-2.06 2.06-.94-2.06-.94L8.5 2.5l-.94 2.06-2.06.94zm10 10l.94 2.06.94-2.06 2.06-.94-2.06-.94-.94-2.06-.94 2.06-2.06.94z\"/><path d=\"M17.41 7.96l-1.37-1.37c-.4-.4-.92-.59-1.43-.59-.52 0-1.04.2-1.43.59L10.3 9.45l-7.72 7.72c-.78.78-.78 2.05 0 2.83L4 21.41c.39.39.9.59 1.41.59.51 0 1.02-.2 1.41-.59l7.78-7.78 2.81-2.81c.8-.78.8-2.07 0-2.86zM5.41 20L4 18.59l7.72-7.72 1.47 1.35L5.41 20z\"/>\n",
              "  </svg>\n",
              "      </button>\n",
              "      \n",
              "  <style>\n",
              "    .colab-df-container {\n",
              "      display:flex;\n",
              "      flex-wrap:wrap;\n",
              "      gap: 12px;\n",
              "    }\n",
              "\n",
              "    .colab-df-convert {\n",
              "      background-color: #E8F0FE;\n",
              "      border: none;\n",
              "      border-radius: 50%;\n",
              "      cursor: pointer;\n",
              "      display: none;\n",
              "      fill: #1967D2;\n",
              "      height: 32px;\n",
              "      padding: 0 0 0 0;\n",
              "      width: 32px;\n",
              "    }\n",
              "\n",
              "    .colab-df-convert:hover {\n",
              "      background-color: #E2EBFA;\n",
              "      box-shadow: 0px 1px 2px rgba(60, 64, 67, 0.3), 0px 1px 3px 1px rgba(60, 64, 67, 0.15);\n",
              "      fill: #174EA6;\n",
              "    }\n",
              "\n",
              "    [theme=dark] .colab-df-convert {\n",
              "      background-color: #3B4455;\n",
              "      fill: #D2E3FC;\n",
              "    }\n",
              "\n",
              "    [theme=dark] .colab-df-convert:hover {\n",
              "      background-color: #434B5C;\n",
              "      box-shadow: 0px 1px 3px 1px rgba(0, 0, 0, 0.15);\n",
              "      filter: drop-shadow(0px 1px 2px rgba(0, 0, 0, 0.3));\n",
              "      fill: #FFFFFF;\n",
              "    }\n",
              "  </style>\n",
              "\n",
              "      <script>\n",
              "        const buttonEl =\n",
              "          document.querySelector('#df-0c16eca0-e436-43f8-8c4c-76bf41477afd button.colab-df-convert');\n",
              "        buttonEl.style.display =\n",
              "          google.colab.kernel.accessAllowed ? 'block' : 'none';\n",
              "\n",
              "        async function convertToInteractive(key) {\n",
              "          const element = document.querySelector('#df-0c16eca0-e436-43f8-8c4c-76bf41477afd');\n",
              "          const dataTable =\n",
              "            await google.colab.kernel.invokeFunction('convertToInteractive',\n",
              "                                                     [key], {});\n",
              "          if (!dataTable) return;\n",
              "\n",
              "          const docLinkHtml = 'Like what you see? Visit the ' +\n",
              "            '<a target=\"_blank\" href=https://colab.research.google.com/notebooks/data_table.ipynb>data table notebook</a>'\n",
              "            + ' to learn more about interactive tables.';\n",
              "          element.innerHTML = '';\n",
              "          dataTable['output_type'] = 'display_data';\n",
              "          await google.colab.output.renderOutput(dataTable, element);\n",
              "          const docLink = document.createElement('div');\n",
              "          docLink.innerHTML = docLinkHtml;\n",
              "          element.appendChild(docLink);\n",
              "        }\n",
              "      </script>\n",
              "    </div>\n",
              "  </div>\n",
              "  "
            ]
          },
          "metadata": {},
          "execution_count": 36
        }
      ]
    },
    {
      "cell_type": "code",
      "source": [
        "top10k = pd.DataFrame(recommendedPods['title'])\n",
        "top10k = top10k.reset_index(drop=True).drop_duplicates(keep = 'first')\n",
        "#top10k = top10k.rename(columns={'index':'top 10'})\n",
        "top10k"
      ],
      "metadata": {
        "colab": {
          "base_uri": "https://localhost:8080/",
          "height": 677
        },
        "id": "df-4tR1jDUFv",
        "outputId": "0e613c1c-a7a1-4a20-a42c-c9fd952018ea"
      },
      "execution_count": null,
      "outputs": [
        {
          "output_type": "execute_result",
          "data": {
            "text/plain": [
              "                                             title\n",
              "0     Pretty Basic with Alisha Marie and Remi Cruz\n",
              "3                         The Leviathan Chronicles\n",
              "13             PHOTOGRAPHY TIPS FROM THE TOP FLOOR\n",
              "26                                   Snap Judgment\n",
              "36                                         RABBITS\n",
              "58                  Wormwood: A Serialized Mystery\n",
              "65                            True Crime Historian\n",
              "92                                        Bookworm\n",
              "93      Major Spoilers Podcast Network Master Feed\n",
              "96                           Clarkesworld Magazine\n",
              "101                           Food is the New Rock\n",
              "118                                     Homecoming\n",
              "136                              Small Town Horror\n",
              "146        Christopher Kimball’s Milk Street Radio\n",
              "156                           Poetry Off the Shelf\n",
              "225                                 Purple Panties\n",
              "306                                      BACKSTORY\n",
              "318                 Cameralabs photography podcast\n",
              "529                                       Cum Town\n",
              "1645             The Culinary Institute of America"
            ],
            "text/html": [
              "\n",
              "  <div id=\"df-e97d8300-1861-4f54-9057-8bad375c1171\">\n",
              "    <div class=\"colab-df-container\">\n",
              "      <div>\n",
              "<style scoped>\n",
              "    .dataframe tbody tr th:only-of-type {\n",
              "        vertical-align: middle;\n",
              "    }\n",
              "\n",
              "    .dataframe tbody tr th {\n",
              "        vertical-align: top;\n",
              "    }\n",
              "\n",
              "    .dataframe thead th {\n",
              "        text-align: right;\n",
              "    }\n",
              "</style>\n",
              "<table border=\"1\" class=\"dataframe\">\n",
              "  <thead>\n",
              "    <tr style=\"text-align: right;\">\n",
              "      <th></th>\n",
              "      <th>title</th>\n",
              "    </tr>\n",
              "  </thead>\n",
              "  <tbody>\n",
              "    <tr>\n",
              "      <th>0</th>\n",
              "      <td>Pretty Basic with Alisha Marie and Remi Cruz</td>\n",
              "    </tr>\n",
              "    <tr>\n",
              "      <th>3</th>\n",
              "      <td>The Leviathan Chronicles</td>\n",
              "    </tr>\n",
              "    <tr>\n",
              "      <th>13</th>\n",
              "      <td>PHOTOGRAPHY TIPS FROM THE TOP FLOOR</td>\n",
              "    </tr>\n",
              "    <tr>\n",
              "      <th>26</th>\n",
              "      <td>Snap Judgment</td>\n",
              "    </tr>\n",
              "    <tr>\n",
              "      <th>36</th>\n",
              "      <td>RABBITS</td>\n",
              "    </tr>\n",
              "    <tr>\n",
              "      <th>58</th>\n",
              "      <td>Wormwood: A Serialized Mystery</td>\n",
              "    </tr>\n",
              "    <tr>\n",
              "      <th>65</th>\n",
              "      <td>True Crime Historian</td>\n",
              "    </tr>\n",
              "    <tr>\n",
              "      <th>92</th>\n",
              "      <td>Bookworm</td>\n",
              "    </tr>\n",
              "    <tr>\n",
              "      <th>93</th>\n",
              "      <td>Major Spoilers Podcast Network Master Feed</td>\n",
              "    </tr>\n",
              "    <tr>\n",
              "      <th>96</th>\n",
              "      <td>Clarkesworld Magazine</td>\n",
              "    </tr>\n",
              "    <tr>\n",
              "      <th>101</th>\n",
              "      <td>Food is the New Rock</td>\n",
              "    </tr>\n",
              "    <tr>\n",
              "      <th>118</th>\n",
              "      <td>Homecoming</td>\n",
              "    </tr>\n",
              "    <tr>\n",
              "      <th>136</th>\n",
              "      <td>Small Town Horror</td>\n",
              "    </tr>\n",
              "    <tr>\n",
              "      <th>146</th>\n",
              "      <td>Christopher Kimball’s Milk Street Radio</td>\n",
              "    </tr>\n",
              "    <tr>\n",
              "      <th>156</th>\n",
              "      <td>Poetry Off the Shelf</td>\n",
              "    </tr>\n",
              "    <tr>\n",
              "      <th>225</th>\n",
              "      <td>Purple Panties</td>\n",
              "    </tr>\n",
              "    <tr>\n",
              "      <th>306</th>\n",
              "      <td>BACKSTORY</td>\n",
              "    </tr>\n",
              "    <tr>\n",
              "      <th>318</th>\n",
              "      <td>Cameralabs photography podcast</td>\n",
              "    </tr>\n",
              "    <tr>\n",
              "      <th>529</th>\n",
              "      <td>Cum Town</td>\n",
              "    </tr>\n",
              "    <tr>\n",
              "      <th>1645</th>\n",
              "      <td>The Culinary Institute of America</td>\n",
              "    </tr>\n",
              "  </tbody>\n",
              "</table>\n",
              "</div>\n",
              "      <button class=\"colab-df-convert\" onclick=\"convertToInteractive('df-e97d8300-1861-4f54-9057-8bad375c1171')\"\n",
              "              title=\"Convert this dataframe to an interactive table.\"\n",
              "              style=\"display:none;\">\n",
              "        \n",
              "  <svg xmlns=\"http://www.w3.org/2000/svg\" height=\"24px\"viewBox=\"0 0 24 24\"\n",
              "       width=\"24px\">\n",
              "    <path d=\"M0 0h24v24H0V0z\" fill=\"none\"/>\n",
              "    <path d=\"M18.56 5.44l.94 2.06.94-2.06 2.06-.94-2.06-.94-.94-2.06-.94 2.06-2.06.94zm-11 1L8.5 8.5l.94-2.06 2.06-.94-2.06-.94L8.5 2.5l-.94 2.06-2.06.94zm10 10l.94 2.06.94-2.06 2.06-.94-2.06-.94-.94-2.06-.94 2.06-2.06.94z\"/><path d=\"M17.41 7.96l-1.37-1.37c-.4-.4-.92-.59-1.43-.59-.52 0-1.04.2-1.43.59L10.3 9.45l-7.72 7.72c-.78.78-.78 2.05 0 2.83L4 21.41c.39.39.9.59 1.41.59.51 0 1.02-.2 1.41-.59l7.78-7.78 2.81-2.81c.8-.78.8-2.07 0-2.86zM5.41 20L4 18.59l7.72-7.72 1.47 1.35L5.41 20z\"/>\n",
              "  </svg>\n",
              "      </button>\n",
              "      \n",
              "  <style>\n",
              "    .colab-df-container {\n",
              "      display:flex;\n",
              "      flex-wrap:wrap;\n",
              "      gap: 12px;\n",
              "    }\n",
              "\n",
              "    .colab-df-convert {\n",
              "      background-color: #E8F0FE;\n",
              "      border: none;\n",
              "      border-radius: 50%;\n",
              "      cursor: pointer;\n",
              "      display: none;\n",
              "      fill: #1967D2;\n",
              "      height: 32px;\n",
              "      padding: 0 0 0 0;\n",
              "      width: 32px;\n",
              "    }\n",
              "\n",
              "    .colab-df-convert:hover {\n",
              "      background-color: #E2EBFA;\n",
              "      box-shadow: 0px 1px 2px rgba(60, 64, 67, 0.3), 0px 1px 3px 1px rgba(60, 64, 67, 0.15);\n",
              "      fill: #174EA6;\n",
              "    }\n",
              "\n",
              "    [theme=dark] .colab-df-convert {\n",
              "      background-color: #3B4455;\n",
              "      fill: #D2E3FC;\n",
              "    }\n",
              "\n",
              "    [theme=dark] .colab-df-convert:hover {\n",
              "      background-color: #434B5C;\n",
              "      box-shadow: 0px 1px 3px 1px rgba(0, 0, 0, 0.15);\n",
              "      filter: drop-shadow(0px 1px 2px rgba(0, 0, 0, 0.3));\n",
              "      fill: #FFFFFF;\n",
              "    }\n",
              "  </style>\n",
              "\n",
              "      <script>\n",
              "        const buttonEl =\n",
              "          document.querySelector('#df-e97d8300-1861-4f54-9057-8bad375c1171 button.colab-df-convert');\n",
              "        buttonEl.style.display =\n",
              "          google.colab.kernel.accessAllowed ? 'block' : 'none';\n",
              "\n",
              "        async function convertToInteractive(key) {\n",
              "          const element = document.querySelector('#df-e97d8300-1861-4f54-9057-8bad375c1171');\n",
              "          const dataTable =\n",
              "            await google.colab.kernel.invokeFunction('convertToInteractive',\n",
              "                                                     [key], {});\n",
              "          if (!dataTable) return;\n",
              "\n",
              "          const docLinkHtml = 'Like what you see? Visit the ' +\n",
              "            '<a target=\"_blank\" href=https://colab.research.google.com/notebooks/data_table.ipynb>data table notebook</a>'\n",
              "            + ' to learn more about interactive tables.';\n",
              "          element.innerHTML = '';\n",
              "          dataTable['output_type'] = 'display_data';\n",
              "          await google.colab.output.renderOutput(dataTable, element);\n",
              "          const docLink = document.createElement('div');\n",
              "          docLink.innerHTML = docLinkHtml;\n",
              "          element.appendChild(docLink);\n",
              "        }\n",
              "      </script>\n",
              "    </div>\n",
              "  </div>\n",
              "  "
            ]
          },
          "metadata": {},
          "execution_count": 37
        }
      ]
    },
    {
      "cell_type": "markdown",
      "source": [
        "Evaluation Metrics\n",
        "RMSE and MAE for top 10 predcition for user 5"
      ],
      "metadata": {
        "id": "JO1N9omMEP4d"
      }
    },
    {
      "cell_type": "code",
      "source": [
        "from sklearn.metrics import mean_absolute_error,mean_squared_error\n"
      ],
      "metadata": {
        "id": "cV5KkQBAEQex"
      },
      "execution_count": null,
      "outputs": []
    },
    {
      "cell_type": "code",
      "source": [
        "#rmse and mae\n",
        "\n",
        "user_620_df_mf = data_new\n",
        "u_nump_mf = user_620_df_mf.to_numpy()[:,2]\n",
        "\n",
        "valid_rating_10_mf = []\n",
        "\n",
        "for i in sortedIndices[-10:][::-1]:\n",
        "  try:\n",
        "    valid_rating_10_mf.append(u_nump_mf[i])\n",
        "  except:\n",
        "    valid_rating_10_mf.append(0)\n",
        "    continue"
      ],
      "metadata": {
        "id": "Nemcs0RBET9Q"
      },
      "execution_count": null,
      "outputs": []
    },
    {
      "cell_type": "code",
      "source": [
        "valid_rating_10_mf\n"
      ],
      "metadata": {
        "colab": {
          "base_uri": "https://localhost:8080/"
        },
        "id": "RnIPjhV0E54l",
        "outputId": "40879f88-d7b8-4357-83f8-d4ba76c44daf"
      },
      "execution_count": null,
      "outputs": [
        {
          "output_type": "execute_result",
          "data": {
            "text/plain": [
              "[13.0, 0.0, 13.0, 0.0, 3.0, 6.0, 12.0, 0.0, 13.0, 0.0]"
            ]
          },
          "metadata": {},
          "execution_count": 55
        }
      ]
    },
    {
      "cell_type": "code",
      "source": [
        "pred_rating_10_mf = []\n",
        "\n",
        "for i in sortedIndices[-10:][::-1]:\n",
        "  try:\n",
        "    pred_rating_10_mf.append(predictions[i])\n",
        "  except:\n",
        "    pred_rating_10_mf.append(0)\n",
        "    continue"
      ],
      "metadata": {
        "id": "cU_KnAH-E92L"
      },
      "execution_count": null,
      "outputs": []
    },
    {
      "cell_type": "code",
      "source": [
        "len(pred_rating_10_mf),len(valid_rating_10_mf)\n"
      ],
      "metadata": {
        "colab": {
          "base_uri": "https://localhost:8080/"
        },
        "id": "111dglStE_2U",
        "outputId": "99a45155-73da-48dd-931d-dbb7d1fa7b98"
      },
      "execution_count": null,
      "outputs": [
        {
          "output_type": "execute_result",
          "data": {
            "text/plain": [
              "(10, 10)"
            ]
          },
          "metadata": {},
          "execution_count": 57
        }
      ]
    },
    {
      "cell_type": "code",
      "source": [
        "mean_squared_error(pred_rating_10_mf,valid_rating_10_mf)\n"
      ],
      "metadata": {
        "colab": {
          "base_uri": "https://localhost:8080/"
        },
        "id": "3OZ-wiQmFBoS",
        "outputId": "bac5d1c8-d193-4603-db35-fe5cef87daa2"
      },
      "execution_count": null,
      "outputs": [
        {
          "output_type": "execute_result",
          "data": {
            "text/plain": [
              "35.533037391082736"
            ]
          },
          "metadata": {},
          "execution_count": 58
        }
      ]
    },
    {
      "cell_type": "code",
      "source": [
        "mean_absolute_error(pred_rating_10_mf,valid_rating_10_mf)\n"
      ],
      "metadata": {
        "colab": {
          "base_uri": "https://localhost:8080/"
        },
        "id": "DQbfHgbnFD_3",
        "outputId": "650a25bd-29dc-4afc-bcaa-8d9a84298e59"
      },
      "execution_count": null,
      "outputs": [
        {
          "output_type": "execute_result",
          "data": {
            "text/plain": [
              "5.397440624237061"
            ]
          },
          "metadata": {},
          "execution_count": 59
        }
      ]
    },
    {
      "cell_type": "code",
      "source": [
        "user_5_df_mf = data_new[data_new.user_id==620]\n",
        "u_nump_mf = user_5_df_mf.to_numpy()[:,2]\n",
        "\n",
        "recommended_mf_10 = 0\n",
        "\n",
        "for i in sortedIndices[-10:][::-1]:\n",
        "  try:\n",
        "    if(predictions[i] >=3):\n",
        "      recommended_mf_10 +=1\n",
        "      print(data_new['podcast_id'][i])\n",
        "  except:\n",
        "    continue"
      ],
      "metadata": {
        "colab": {
          "base_uri": "https://localhost:8080/"
        },
        "id": "Ncv3yA3sFIJN",
        "outputId": "5a42ace5-f023-4553-f66b-e2342ffc5609"
      },
      "execution_count": null,
      "outputs": [
        {
          "output_type": "stream",
          "name": "stdout",
          "text": [
            "13\n",
            "13\n",
            "13\n",
            "13\n",
            "13\n",
            "13\n",
            "13\n",
            "13\n",
            "29\n",
            "13\n"
          ]
        }
      ]
    },
    {
      "cell_type": "code",
      "source": [
        "recommended_mf_10"
      ],
      "metadata": {
        "colab": {
          "base_uri": "https://localhost:8080/"
        },
        "id": "u-Zfk5MqFTxG",
        "outputId": "08d9b049-555b-457c-9f12-046e80bfbdce"
      },
      "execution_count": null,
      "outputs": [
        {
          "output_type": "execute_result",
          "data": {
            "text/plain": [
              "10"
            ]
          },
          "metadata": {},
          "execution_count": 70
        }
      ]
    },
    {
      "cell_type": "code",
      "source": [
        "user_5_df_mf = data_new[data_new.user_id==620]\n",
        "u_nump_mf = user_5_df_mf.to_numpy()[:,2]\n",
        "\n",
        "valid_rated_mf_10 = 10\n",
        "\n",
        "for i in sortedIndices[-10:][::-1]:\n",
        "  try:\n",
        "    if(u_nump_mf[i] >=3):\n",
        "      valid_rated_mf_10 +=1\n",
        "      print(data_new['podcast_id'][i])\n",
        "  except:\n",
        "    continue"
      ],
      "metadata": {
        "colab": {
          "base_uri": "https://localhost:8080/"
        },
        "id": "1WHuGgMbFZRL",
        "outputId": "d370a02c-3754-4f24-c72a-88681ef33c86"
      },
      "execution_count": null,
      "outputs": [
        {
          "output_type": "stream",
          "name": "stdout",
          "text": [
            "29\n"
          ]
        }
      ]
    },
    {
      "cell_type": "code",
      "source": [
        "valid_rated_mf_10"
      ],
      "metadata": {
        "colab": {
          "base_uri": "https://localhost:8080/"
        },
        "id": "WkSyYRoUFj9h",
        "outputId": "5c712359-d885-4e46-cb15-429dc0684fd1"
      },
      "execution_count": null,
      "outputs": [
        {
          "output_type": "execute_result",
          "data": {
            "text/plain": [
              "11"
            ]
          },
          "metadata": {},
          "execution_count": 73
        }
      ]
    },
    {
      "cell_type": "markdown",
      "source": [
        "A hybrid recommendation system is a special type of recommendation system which can be considered as the combination of the content and collaborative filtering method. We using Neural collaborative filtering to impliment hybrid recommender system and it will build using pytorch\n",
        "To build the Hybrid Recommender System, we are combining the following:\n",
        "i) Movie Ratings from u.data ii) Movie genre information from u.item iii) Movie sentiment from calculated from Twitter"
      ],
      "metadata": {
        "id": "-Zni0erOFspC"
      }
    },
    {
      "cell_type": "code",
      "source": [
        "df_p['category'].unique()"
      ],
      "metadata": {
        "colab": {
          "base_uri": "https://localhost:8080/"
        },
        "id": "ZkolOHJMsBVe",
        "outputId": "01a1450d-f82b-4d0c-8d62-ee07175c6026"
      },
      "execution_count": null,
      "outputs": [
        {
          "output_type": "execute_result",
          "data": {
            "text/plain": [
              "array(['arts', 'arts-performing-arts', 'music', 'arts-design',\n",
              "       'education', 'society-culture', 'arts-visual-arts', 'leisure',\n",
              "       'leisure-hobbies', 'arts-books', 'technology',\n",
              "       'society-culture-personal-journals',\n",
              "       'society-culture-relationships', 'fiction',\n",
              "       'fiction-science-fiction', 'arts-food',\n",
              "       'education-language-learning', 'fiction-drama', 'true-crime',\n",
              "       'health-fitness', 'health-fitness-nutrition', 'history', 'comedy',\n",
              "       'arts-fashion-beauty', 'tv-film'], dtype=object)"
            ]
          },
          "metadata": {},
          "execution_count": 74
        }
      ]
    },
    {
      "cell_type": "code",
      "source": [
        "items_df"
      ],
      "metadata": {
        "id": "aOdrq0zYIGWI"
      },
      "execution_count": null,
      "outputs": []
    },
    {
      "cell_type": "code",
      "source": [
        "data_new.head(1)"
      ],
      "metadata": {
        "colab": {
          "base_uri": "https://localhost:8080/",
          "height": 81
        },
        "id": "LAjB1TaYGhGK",
        "outputId": "c0ee64ef-9d93-47a4-8b78-659dcdb49448"
      },
      "execution_count": null,
      "outputs": [
        {
          "output_type": "execute_result",
          "data": {
            "text/plain": [
              "       podcast_id  user_id  category  rating  compound  titlen\n",
              "13059           5      620         0       5    0.9998      19"
            ],
            "text/html": [
              "\n",
              "  <div id=\"df-321afc61-4f50-4d75-89f9-692fa0b1f109\">\n",
              "    <div class=\"colab-df-container\">\n",
              "      <div>\n",
              "<style scoped>\n",
              "    .dataframe tbody tr th:only-of-type {\n",
              "        vertical-align: middle;\n",
              "    }\n",
              "\n",
              "    .dataframe tbody tr th {\n",
              "        vertical-align: top;\n",
              "    }\n",
              "\n",
              "    .dataframe thead th {\n",
              "        text-align: right;\n",
              "    }\n",
              "</style>\n",
              "<table border=\"1\" class=\"dataframe\">\n",
              "  <thead>\n",
              "    <tr style=\"text-align: right;\">\n",
              "      <th></th>\n",
              "      <th>podcast_id</th>\n",
              "      <th>user_id</th>\n",
              "      <th>category</th>\n",
              "      <th>rating</th>\n",
              "      <th>compound</th>\n",
              "      <th>titlen</th>\n",
              "    </tr>\n",
              "  </thead>\n",
              "  <tbody>\n",
              "    <tr>\n",
              "      <th>13059</th>\n",
              "      <td>5</td>\n",
              "      <td>620</td>\n",
              "      <td>0</td>\n",
              "      <td>5</td>\n",
              "      <td>0.9998</td>\n",
              "      <td>19</td>\n",
              "    </tr>\n",
              "  </tbody>\n",
              "</table>\n",
              "</div>\n",
              "      <button class=\"colab-df-convert\" onclick=\"convertToInteractive('df-321afc61-4f50-4d75-89f9-692fa0b1f109')\"\n",
              "              title=\"Convert this dataframe to an interactive table.\"\n",
              "              style=\"display:none;\">\n",
              "        \n",
              "  <svg xmlns=\"http://www.w3.org/2000/svg\" height=\"24px\"viewBox=\"0 0 24 24\"\n",
              "       width=\"24px\">\n",
              "    <path d=\"M0 0h24v24H0V0z\" fill=\"none\"/>\n",
              "    <path d=\"M18.56 5.44l.94 2.06.94-2.06 2.06-.94-2.06-.94-.94-2.06-.94 2.06-2.06.94zm-11 1L8.5 8.5l.94-2.06 2.06-.94-2.06-.94L8.5 2.5l-.94 2.06-2.06.94zm10 10l.94 2.06.94-2.06 2.06-.94-2.06-.94-.94-2.06-.94 2.06-2.06.94z\"/><path d=\"M17.41 7.96l-1.37-1.37c-.4-.4-.92-.59-1.43-.59-.52 0-1.04.2-1.43.59L10.3 9.45l-7.72 7.72c-.78.78-.78 2.05 0 2.83L4 21.41c.39.39.9.59 1.41.59.51 0 1.02-.2 1.41-.59l7.78-7.78 2.81-2.81c.8-.78.8-2.07 0-2.86zM5.41 20L4 18.59l7.72-7.72 1.47 1.35L5.41 20z\"/>\n",
              "  </svg>\n",
              "      </button>\n",
              "      \n",
              "  <style>\n",
              "    .colab-df-container {\n",
              "      display:flex;\n",
              "      flex-wrap:wrap;\n",
              "      gap: 12px;\n",
              "    }\n",
              "\n",
              "    .colab-df-convert {\n",
              "      background-color: #E8F0FE;\n",
              "      border: none;\n",
              "      border-radius: 50%;\n",
              "      cursor: pointer;\n",
              "      display: none;\n",
              "      fill: #1967D2;\n",
              "      height: 32px;\n",
              "      padding: 0 0 0 0;\n",
              "      width: 32px;\n",
              "    }\n",
              "\n",
              "    .colab-df-convert:hover {\n",
              "      background-color: #E2EBFA;\n",
              "      box-shadow: 0px 1px 2px rgba(60, 64, 67, 0.3), 0px 1px 3px 1px rgba(60, 64, 67, 0.15);\n",
              "      fill: #174EA6;\n",
              "    }\n",
              "\n",
              "    [theme=dark] .colab-df-convert {\n",
              "      background-color: #3B4455;\n",
              "      fill: #D2E3FC;\n",
              "    }\n",
              "\n",
              "    [theme=dark] .colab-df-convert:hover {\n",
              "      background-color: #434B5C;\n",
              "      box-shadow: 0px 1px 3px 1px rgba(0, 0, 0, 0.15);\n",
              "      filter: drop-shadow(0px 1px 2px rgba(0, 0, 0, 0.3));\n",
              "      fill: #FFFFFF;\n",
              "    }\n",
              "  </style>\n",
              "\n",
              "      <script>\n",
              "        const buttonEl =\n",
              "          document.querySelector('#df-321afc61-4f50-4d75-89f9-692fa0b1f109 button.colab-df-convert');\n",
              "        buttonEl.style.display =\n",
              "          google.colab.kernel.accessAllowed ? 'block' : 'none';\n",
              "\n",
              "        async function convertToInteractive(key) {\n",
              "          const element = document.querySelector('#df-321afc61-4f50-4d75-89f9-692fa0b1f109');\n",
              "          const dataTable =\n",
              "            await google.colab.kernel.invokeFunction('convertToInteractive',\n",
              "                                                     [key], {});\n",
              "          if (!dataTable) return;\n",
              "\n",
              "          const docLinkHtml = 'Like what you see? Visit the ' +\n",
              "            '<a target=\"_blank\" href=https://colab.research.google.com/notebooks/data_table.ipynb>data table notebook</a>'\n",
              "            + ' to learn more about interactive tables.';\n",
              "          element.innerHTML = '';\n",
              "          dataTable['output_type'] = 'display_data';\n",
              "          await google.colab.output.renderOutput(dataTable, element);\n",
              "          const docLink = document.createElement('div');\n",
              "          docLink.innerHTML = docLinkHtml;\n",
              "          element.appendChild(docLink);\n",
              "        }\n",
              "      </script>\n",
              "    </div>\n",
              "  </div>\n",
              "  "
            ]
          },
          "metadata": {},
          "execution_count": 10
        }
      ]
    },
    {
      "cell_type": "code",
      "source": [
        "dataset = df_p[['user_id','podcast_id','rating','title','category','compound']]"
      ],
      "metadata": {
        "id": "xZRsILmDGmDs"
      },
      "execution_count": null,
      "outputs": []
    },
    {
      "cell_type": "code",
      "source": [
        "dataset"
      ],
      "metadata": {
        "colab": {
          "base_uri": "https://localhost:8080/",
          "height": 424
        },
        "id": "v-YvxDGKGznj",
        "outputId": "9d1e614c-c0c4-47ef-f1ee-da69a9e3323e"
      },
      "execution_count": null,
      "outputs": [
        {
          "output_type": "execute_result",
          "data": {
            "text/plain": [
              "               user_id                        podcast_id  rating  \\\n",
              "0      F7E5A318989779D  c61aa81c9b929a66f0c1db6cbe5d8548       5   \n",
              "1      F7E5A318989779D  c61aa81c9b929a66f0c1db6cbe5d8548       5   \n",
              "2      F7E5A318989779D  c61aa81c9b929a66f0c1db6cbe5d8548       5   \n",
              "3      F6BF5472689BD12  c61aa81c9b929a66f0c1db6cbe5d8548       5   \n",
              "4      F6BF5472689BD12  c61aa81c9b929a66f0c1db6cbe5d8548       5   \n",
              "...                ...                               ...     ...   \n",
              "26995  00FFF40BCC67E4E  b34f7ed180cdde27a4c8ffcf2df32abe       5   \n",
              "26996  00FFF40BCC67E4E  b34f7ed180cdde27a4c8ffcf2df32abe       5   \n",
              "26997  00FFF40BCC67E4E  b34f7ed180cdde27a4c8ffcf2df32abe       5   \n",
              "26998  B1B69F92FE6B6BE  b34f7ed180cdde27a4c8ffcf2df32abe       5   \n",
              "26999  B1B69F92FE6B6BE  b34f7ed180cdde27a4c8ffcf2df32abe       5   \n",
              "\n",
              "                            title              category  compound  \n",
              "0      Backstage at Tilles Center                  arts    0.6908  \n",
              "1      Backstage at Tilles Center  arts-performing-arts    0.6908  \n",
              "2      Backstage at Tilles Center                 music    0.6908  \n",
              "3      Backstage at Tilles Center                  arts    0.9136  \n",
              "4      Backstage at Tilles Center  arts-performing-arts    0.9136  \n",
              "...                           ...                   ...       ...  \n",
              "26995     B&H Photography Podcast                  arts    0.6249  \n",
              "26996     B&H Photography Podcast      arts-visual-arts    0.6249  \n",
              "26997     B&H Photography Podcast            technology    0.6249  \n",
              "26998     B&H Photography Podcast                  arts    0.0000  \n",
              "26999     B&H Photography Podcast      arts-visual-arts    0.0000  \n",
              "\n",
              "[27000 rows x 6 columns]"
            ],
            "text/html": [
              "\n",
              "  <div id=\"df-c136ba1f-fa68-40cb-8635-b078d775ebac\">\n",
              "    <div class=\"colab-df-container\">\n",
              "      <div>\n",
              "<style scoped>\n",
              "    .dataframe tbody tr th:only-of-type {\n",
              "        vertical-align: middle;\n",
              "    }\n",
              "\n",
              "    .dataframe tbody tr th {\n",
              "        vertical-align: top;\n",
              "    }\n",
              "\n",
              "    .dataframe thead th {\n",
              "        text-align: right;\n",
              "    }\n",
              "</style>\n",
              "<table border=\"1\" class=\"dataframe\">\n",
              "  <thead>\n",
              "    <tr style=\"text-align: right;\">\n",
              "      <th></th>\n",
              "      <th>user_id</th>\n",
              "      <th>podcast_id</th>\n",
              "      <th>rating</th>\n",
              "      <th>title</th>\n",
              "      <th>category</th>\n",
              "      <th>compound</th>\n",
              "    </tr>\n",
              "  </thead>\n",
              "  <tbody>\n",
              "    <tr>\n",
              "      <th>0</th>\n",
              "      <td>F7E5A318989779D</td>\n",
              "      <td>c61aa81c9b929a66f0c1db6cbe5d8548</td>\n",
              "      <td>5</td>\n",
              "      <td>Backstage at Tilles Center</td>\n",
              "      <td>arts</td>\n",
              "      <td>0.6908</td>\n",
              "    </tr>\n",
              "    <tr>\n",
              "      <th>1</th>\n",
              "      <td>F7E5A318989779D</td>\n",
              "      <td>c61aa81c9b929a66f0c1db6cbe5d8548</td>\n",
              "      <td>5</td>\n",
              "      <td>Backstage at Tilles Center</td>\n",
              "      <td>arts-performing-arts</td>\n",
              "      <td>0.6908</td>\n",
              "    </tr>\n",
              "    <tr>\n",
              "      <th>2</th>\n",
              "      <td>F7E5A318989779D</td>\n",
              "      <td>c61aa81c9b929a66f0c1db6cbe5d8548</td>\n",
              "      <td>5</td>\n",
              "      <td>Backstage at Tilles Center</td>\n",
              "      <td>music</td>\n",
              "      <td>0.6908</td>\n",
              "    </tr>\n",
              "    <tr>\n",
              "      <th>3</th>\n",
              "      <td>F6BF5472689BD12</td>\n",
              "      <td>c61aa81c9b929a66f0c1db6cbe5d8548</td>\n",
              "      <td>5</td>\n",
              "      <td>Backstage at Tilles Center</td>\n",
              "      <td>arts</td>\n",
              "      <td>0.9136</td>\n",
              "    </tr>\n",
              "    <tr>\n",
              "      <th>4</th>\n",
              "      <td>F6BF5472689BD12</td>\n",
              "      <td>c61aa81c9b929a66f0c1db6cbe5d8548</td>\n",
              "      <td>5</td>\n",
              "      <td>Backstage at Tilles Center</td>\n",
              "      <td>arts-performing-arts</td>\n",
              "      <td>0.9136</td>\n",
              "    </tr>\n",
              "    <tr>\n",
              "      <th>...</th>\n",
              "      <td>...</td>\n",
              "      <td>...</td>\n",
              "      <td>...</td>\n",
              "      <td>...</td>\n",
              "      <td>...</td>\n",
              "      <td>...</td>\n",
              "    </tr>\n",
              "    <tr>\n",
              "      <th>26995</th>\n",
              "      <td>00FFF40BCC67E4E</td>\n",
              "      <td>b34f7ed180cdde27a4c8ffcf2df32abe</td>\n",
              "      <td>5</td>\n",
              "      <td>B&amp;H Photography Podcast</td>\n",
              "      <td>arts</td>\n",
              "      <td>0.6249</td>\n",
              "    </tr>\n",
              "    <tr>\n",
              "      <th>26996</th>\n",
              "      <td>00FFF40BCC67E4E</td>\n",
              "      <td>b34f7ed180cdde27a4c8ffcf2df32abe</td>\n",
              "      <td>5</td>\n",
              "      <td>B&amp;H Photography Podcast</td>\n",
              "      <td>arts-visual-arts</td>\n",
              "      <td>0.6249</td>\n",
              "    </tr>\n",
              "    <tr>\n",
              "      <th>26997</th>\n",
              "      <td>00FFF40BCC67E4E</td>\n",
              "      <td>b34f7ed180cdde27a4c8ffcf2df32abe</td>\n",
              "      <td>5</td>\n",
              "      <td>B&amp;H Photography Podcast</td>\n",
              "      <td>technology</td>\n",
              "      <td>0.6249</td>\n",
              "    </tr>\n",
              "    <tr>\n",
              "      <th>26998</th>\n",
              "      <td>B1B69F92FE6B6BE</td>\n",
              "      <td>b34f7ed180cdde27a4c8ffcf2df32abe</td>\n",
              "      <td>5</td>\n",
              "      <td>B&amp;H Photography Podcast</td>\n",
              "      <td>arts</td>\n",
              "      <td>0.0000</td>\n",
              "    </tr>\n",
              "    <tr>\n",
              "      <th>26999</th>\n",
              "      <td>B1B69F92FE6B6BE</td>\n",
              "      <td>b34f7ed180cdde27a4c8ffcf2df32abe</td>\n",
              "      <td>5</td>\n",
              "      <td>B&amp;H Photography Podcast</td>\n",
              "      <td>arts-visual-arts</td>\n",
              "      <td>0.0000</td>\n",
              "    </tr>\n",
              "  </tbody>\n",
              "</table>\n",
              "<p>27000 rows × 6 columns</p>\n",
              "</div>\n",
              "      <button class=\"colab-df-convert\" onclick=\"convertToInteractive('df-c136ba1f-fa68-40cb-8635-b078d775ebac')\"\n",
              "              title=\"Convert this dataframe to an interactive table.\"\n",
              "              style=\"display:none;\">\n",
              "        \n",
              "  <svg xmlns=\"http://www.w3.org/2000/svg\" height=\"24px\"viewBox=\"0 0 24 24\"\n",
              "       width=\"24px\">\n",
              "    <path d=\"M0 0h24v24H0V0z\" fill=\"none\"/>\n",
              "    <path d=\"M18.56 5.44l.94 2.06.94-2.06 2.06-.94-2.06-.94-.94-2.06-.94 2.06-2.06.94zm-11 1L8.5 8.5l.94-2.06 2.06-.94-2.06-.94L8.5 2.5l-.94 2.06-2.06.94zm10 10l.94 2.06.94-2.06 2.06-.94-2.06-.94-.94-2.06-.94 2.06-2.06.94z\"/><path d=\"M17.41 7.96l-1.37-1.37c-.4-.4-.92-.59-1.43-.59-.52 0-1.04.2-1.43.59L10.3 9.45l-7.72 7.72c-.78.78-.78 2.05 0 2.83L4 21.41c.39.39.9.59 1.41.59.51 0 1.02-.2 1.41-.59l7.78-7.78 2.81-2.81c.8-.78.8-2.07 0-2.86zM5.41 20L4 18.59l7.72-7.72 1.47 1.35L5.41 20z\"/>\n",
              "  </svg>\n",
              "      </button>\n",
              "      \n",
              "  <style>\n",
              "    .colab-df-container {\n",
              "      display:flex;\n",
              "      flex-wrap:wrap;\n",
              "      gap: 12px;\n",
              "    }\n",
              "\n",
              "    .colab-df-convert {\n",
              "      background-color: #E8F0FE;\n",
              "      border: none;\n",
              "      border-radius: 50%;\n",
              "      cursor: pointer;\n",
              "      display: none;\n",
              "      fill: #1967D2;\n",
              "      height: 32px;\n",
              "      padding: 0 0 0 0;\n",
              "      width: 32px;\n",
              "    }\n",
              "\n",
              "    .colab-df-convert:hover {\n",
              "      background-color: #E2EBFA;\n",
              "      box-shadow: 0px 1px 2px rgba(60, 64, 67, 0.3), 0px 1px 3px 1px rgba(60, 64, 67, 0.15);\n",
              "      fill: #174EA6;\n",
              "    }\n",
              "\n",
              "    [theme=dark] .colab-df-convert {\n",
              "      background-color: #3B4455;\n",
              "      fill: #D2E3FC;\n",
              "    }\n",
              "\n",
              "    [theme=dark] .colab-df-convert:hover {\n",
              "      background-color: #434B5C;\n",
              "      box-shadow: 0px 1px 3px 1px rgba(0, 0, 0, 0.15);\n",
              "      filter: drop-shadow(0px 1px 2px rgba(0, 0, 0, 0.3));\n",
              "      fill: #FFFFFF;\n",
              "    }\n",
              "  </style>\n",
              "\n",
              "      <script>\n",
              "        const buttonEl =\n",
              "          document.querySelector('#df-c136ba1f-fa68-40cb-8635-b078d775ebac button.colab-df-convert');\n",
              "        buttonEl.style.display =\n",
              "          google.colab.kernel.accessAllowed ? 'block' : 'none';\n",
              "\n",
              "        async function convertToInteractive(key) {\n",
              "          const element = document.querySelector('#df-c136ba1f-fa68-40cb-8635-b078d775ebac');\n",
              "          const dataTable =\n",
              "            await google.colab.kernel.invokeFunction('convertToInteractive',\n",
              "                                                     [key], {});\n",
              "          if (!dataTable) return;\n",
              "\n",
              "          const docLinkHtml = 'Like what you see? Visit the ' +\n",
              "            '<a target=\"_blank\" href=https://colab.research.google.com/notebooks/data_table.ipynb>data table notebook</a>'\n",
              "            + ' to learn more about interactive tables.';\n",
              "          element.innerHTML = '';\n",
              "          dataTable['output_type'] = 'display_data';\n",
              "          await google.colab.output.renderOutput(dataTable, element);\n",
              "          const docLink = document.createElement('div');\n",
              "          docLink.innerHTML = docLinkHtml;\n",
              "          element.appendChild(docLink);\n",
              "        }\n",
              "      </script>\n",
              "    </div>\n",
              "  </div>\n",
              "  "
            ]
          },
          "metadata": {},
          "execution_count": 14
        }
      ]
    },
    {
      "cell_type": "code",
      "source": [
        "from sklearn.preprocessing import LabelEncoder\n"
      ],
      "metadata": {
        "id": "v_cQX8EIJqIL"
      },
      "execution_count": null,
      "outputs": []
    },
    {
      "cell_type": "code",
      "source": [
        "lc = LabelEncoder()\n",
        "dataset_new = dataset\n",
        "dataset_new['user_id']= lc.fit_transform(dataset['user_id'])\n",
        "dataset_new['podcast_id']= lc.fit_transform(dataset['podcast_id'])\n",
        "dataset_new['title']= lc.fit_transform(dataset['title'])\n",
        "dataset_new"
      ],
      "metadata": {
        "colab": {
          "base_uri": "https://localhost:8080/",
          "height": 736
        },
        "id": "MClDQ4IjJu88",
        "outputId": "7fcfb90c-ad7d-49d1-bb44-fe5c64d6534a"
      },
      "execution_count": null,
      "outputs": [
        {
          "output_type": "stream",
          "name": "stderr",
          "text": [
            "<ipython-input-16-a822b3533397>:3: SettingWithCopyWarning: \n",
            "A value is trying to be set on a copy of a slice from a DataFrame.\n",
            "Try using .loc[row_indexer,col_indexer] = value instead\n",
            "\n",
            "See the caveats in the documentation: https://pandas.pydata.org/pandas-docs/stable/user_guide/indexing.html#returning-a-view-versus-a-copy\n",
            "  dataset_new['user_id']= lc.fit_transform(dataset['user_id'])\n",
            "<ipython-input-16-a822b3533397>:4: SettingWithCopyWarning: \n",
            "A value is trying to be set on a copy of a slice from a DataFrame.\n",
            "Try using .loc[row_indexer,col_indexer] = value instead\n",
            "\n",
            "See the caveats in the documentation: https://pandas.pydata.org/pandas-docs/stable/user_guide/indexing.html#returning-a-view-versus-a-copy\n",
            "  dataset_new['podcast_id']= lc.fit_transform(dataset['podcast_id'])\n",
            "<ipython-input-16-a822b3533397>:5: SettingWithCopyWarning: \n",
            "A value is trying to be set on a copy of a slice from a DataFrame.\n",
            "Try using .loc[row_indexer,col_indexer] = value instead\n",
            "\n",
            "See the caveats in the documentation: https://pandas.pydata.org/pandas-docs/stable/user_guide/indexing.html#returning-a-view-versus-a-copy\n",
            "  dataset_new['title']= lc.fit_transform(dataset['title'])\n"
          ]
        },
        {
          "output_type": "execute_result",
          "data": {
            "text/plain": [
              "       user_id  podcast_id  rating  title              category  compound\n",
              "0        10535          29       5      3                  arts    0.6908\n",
              "1        10535          29       5      3  arts-performing-arts    0.6908\n",
              "2        10535          29       5      3                 music    0.6908\n",
              "3        10481          29       5      3                  arts    0.9136\n",
              "4        10481          29       5      3  arts-performing-arts    0.9136\n",
              "...        ...         ...     ...    ...                   ...       ...\n",
              "26995       40          16       5      1                  arts    0.6249\n",
              "26996       40          16       5      1      arts-visual-arts    0.6249\n",
              "26997       40          16       5      1            technology    0.6249\n",
              "26998     7522          16       5      1                  arts    0.0000\n",
              "26999     7522          16       5      1      arts-visual-arts    0.0000\n",
              "\n",
              "[27000 rows x 6 columns]"
            ],
            "text/html": [
              "\n",
              "  <div id=\"df-f2c00737-c802-4e20-9780-2937c07b6245\">\n",
              "    <div class=\"colab-df-container\">\n",
              "      <div>\n",
              "<style scoped>\n",
              "    .dataframe tbody tr th:only-of-type {\n",
              "        vertical-align: middle;\n",
              "    }\n",
              "\n",
              "    .dataframe tbody tr th {\n",
              "        vertical-align: top;\n",
              "    }\n",
              "\n",
              "    .dataframe thead th {\n",
              "        text-align: right;\n",
              "    }\n",
              "</style>\n",
              "<table border=\"1\" class=\"dataframe\">\n",
              "  <thead>\n",
              "    <tr style=\"text-align: right;\">\n",
              "      <th></th>\n",
              "      <th>user_id</th>\n",
              "      <th>podcast_id</th>\n",
              "      <th>rating</th>\n",
              "      <th>title</th>\n",
              "      <th>category</th>\n",
              "      <th>compound</th>\n",
              "    </tr>\n",
              "  </thead>\n",
              "  <tbody>\n",
              "    <tr>\n",
              "      <th>0</th>\n",
              "      <td>10535</td>\n",
              "      <td>29</td>\n",
              "      <td>5</td>\n",
              "      <td>3</td>\n",
              "      <td>arts</td>\n",
              "      <td>0.6908</td>\n",
              "    </tr>\n",
              "    <tr>\n",
              "      <th>1</th>\n",
              "      <td>10535</td>\n",
              "      <td>29</td>\n",
              "      <td>5</td>\n",
              "      <td>3</td>\n",
              "      <td>arts-performing-arts</td>\n",
              "      <td>0.6908</td>\n",
              "    </tr>\n",
              "    <tr>\n",
              "      <th>2</th>\n",
              "      <td>10535</td>\n",
              "      <td>29</td>\n",
              "      <td>5</td>\n",
              "      <td>3</td>\n",
              "      <td>music</td>\n",
              "      <td>0.6908</td>\n",
              "    </tr>\n",
              "    <tr>\n",
              "      <th>3</th>\n",
              "      <td>10481</td>\n",
              "      <td>29</td>\n",
              "      <td>5</td>\n",
              "      <td>3</td>\n",
              "      <td>arts</td>\n",
              "      <td>0.9136</td>\n",
              "    </tr>\n",
              "    <tr>\n",
              "      <th>4</th>\n",
              "      <td>10481</td>\n",
              "      <td>29</td>\n",
              "      <td>5</td>\n",
              "      <td>3</td>\n",
              "      <td>arts-performing-arts</td>\n",
              "      <td>0.9136</td>\n",
              "    </tr>\n",
              "    <tr>\n",
              "      <th>...</th>\n",
              "      <td>...</td>\n",
              "      <td>...</td>\n",
              "      <td>...</td>\n",
              "      <td>...</td>\n",
              "      <td>...</td>\n",
              "      <td>...</td>\n",
              "    </tr>\n",
              "    <tr>\n",
              "      <th>26995</th>\n",
              "      <td>40</td>\n",
              "      <td>16</td>\n",
              "      <td>5</td>\n",
              "      <td>1</td>\n",
              "      <td>arts</td>\n",
              "      <td>0.6249</td>\n",
              "    </tr>\n",
              "    <tr>\n",
              "      <th>26996</th>\n",
              "      <td>40</td>\n",
              "      <td>16</td>\n",
              "      <td>5</td>\n",
              "      <td>1</td>\n",
              "      <td>arts-visual-arts</td>\n",
              "      <td>0.6249</td>\n",
              "    </tr>\n",
              "    <tr>\n",
              "      <th>26997</th>\n",
              "      <td>40</td>\n",
              "      <td>16</td>\n",
              "      <td>5</td>\n",
              "      <td>1</td>\n",
              "      <td>technology</td>\n",
              "      <td>0.6249</td>\n",
              "    </tr>\n",
              "    <tr>\n",
              "      <th>26998</th>\n",
              "      <td>7522</td>\n",
              "      <td>16</td>\n",
              "      <td>5</td>\n",
              "      <td>1</td>\n",
              "      <td>arts</td>\n",
              "      <td>0.0000</td>\n",
              "    </tr>\n",
              "    <tr>\n",
              "      <th>26999</th>\n",
              "      <td>7522</td>\n",
              "      <td>16</td>\n",
              "      <td>5</td>\n",
              "      <td>1</td>\n",
              "      <td>arts-visual-arts</td>\n",
              "      <td>0.0000</td>\n",
              "    </tr>\n",
              "  </tbody>\n",
              "</table>\n",
              "<p>27000 rows × 6 columns</p>\n",
              "</div>\n",
              "      <button class=\"colab-df-convert\" onclick=\"convertToInteractive('df-f2c00737-c802-4e20-9780-2937c07b6245')\"\n",
              "              title=\"Convert this dataframe to an interactive table.\"\n",
              "              style=\"display:none;\">\n",
              "        \n",
              "  <svg xmlns=\"http://www.w3.org/2000/svg\" height=\"24px\"viewBox=\"0 0 24 24\"\n",
              "       width=\"24px\">\n",
              "    <path d=\"M0 0h24v24H0V0z\" fill=\"none\"/>\n",
              "    <path d=\"M18.56 5.44l.94 2.06.94-2.06 2.06-.94-2.06-.94-.94-2.06-.94 2.06-2.06.94zm-11 1L8.5 8.5l.94-2.06 2.06-.94-2.06-.94L8.5 2.5l-.94 2.06-2.06.94zm10 10l.94 2.06.94-2.06 2.06-.94-2.06-.94-.94-2.06-.94 2.06-2.06.94z\"/><path d=\"M17.41 7.96l-1.37-1.37c-.4-.4-.92-.59-1.43-.59-.52 0-1.04.2-1.43.59L10.3 9.45l-7.72 7.72c-.78.78-.78 2.05 0 2.83L4 21.41c.39.39.9.59 1.41.59.51 0 1.02-.2 1.41-.59l7.78-7.78 2.81-2.81c.8-.78.8-2.07 0-2.86zM5.41 20L4 18.59l7.72-7.72 1.47 1.35L5.41 20z\"/>\n",
              "  </svg>\n",
              "      </button>\n",
              "      \n",
              "  <style>\n",
              "    .colab-df-container {\n",
              "      display:flex;\n",
              "      flex-wrap:wrap;\n",
              "      gap: 12px;\n",
              "    }\n",
              "\n",
              "    .colab-df-convert {\n",
              "      background-color: #E8F0FE;\n",
              "      border: none;\n",
              "      border-radius: 50%;\n",
              "      cursor: pointer;\n",
              "      display: none;\n",
              "      fill: #1967D2;\n",
              "      height: 32px;\n",
              "      padding: 0 0 0 0;\n",
              "      width: 32px;\n",
              "    }\n",
              "\n",
              "    .colab-df-convert:hover {\n",
              "      background-color: #E2EBFA;\n",
              "      box-shadow: 0px 1px 2px rgba(60, 64, 67, 0.3), 0px 1px 3px 1px rgba(60, 64, 67, 0.15);\n",
              "      fill: #174EA6;\n",
              "    }\n",
              "\n",
              "    [theme=dark] .colab-df-convert {\n",
              "      background-color: #3B4455;\n",
              "      fill: #D2E3FC;\n",
              "    }\n",
              "\n",
              "    [theme=dark] .colab-df-convert:hover {\n",
              "      background-color: #434B5C;\n",
              "      box-shadow: 0px 1px 3px 1px rgba(0, 0, 0, 0.15);\n",
              "      filter: drop-shadow(0px 1px 2px rgba(0, 0, 0, 0.3));\n",
              "      fill: #FFFFFF;\n",
              "    }\n",
              "  </style>\n",
              "\n",
              "      <script>\n",
              "        const buttonEl =\n",
              "          document.querySelector('#df-f2c00737-c802-4e20-9780-2937c07b6245 button.colab-df-convert');\n",
              "        buttonEl.style.display =\n",
              "          google.colab.kernel.accessAllowed ? 'block' : 'none';\n",
              "\n",
              "        async function convertToInteractive(key) {\n",
              "          const element = document.querySelector('#df-f2c00737-c802-4e20-9780-2937c07b6245');\n",
              "          const dataTable =\n",
              "            await google.colab.kernel.invokeFunction('convertToInteractive',\n",
              "                                                     [key], {});\n",
              "          if (!dataTable) return;\n",
              "\n",
              "          const docLinkHtml = 'Like what you see? Visit the ' +\n",
              "            '<a target=\"_blank\" href=https://colab.research.google.com/notebooks/data_table.ipynb>data table notebook</a>'\n",
              "            + ' to learn more about interactive tables.';\n",
              "          element.innerHTML = '';\n",
              "          dataTable['output_type'] = 'display_data';\n",
              "          await google.colab.output.renderOutput(dataTable, element);\n",
              "          const docLink = document.createElement('div');\n",
              "          docLink.innerHTML = docLinkHtml;\n",
              "          element.appendChild(docLink);\n",
              "        }\n",
              "      </script>\n",
              "    </div>\n",
              "  </div>\n",
              "  "
            ]
          },
          "metadata": {},
          "execution_count": 16
        }
      ]
    },
    {
      "cell_type": "code",
      "source": [
        "dataset_new['category']= dataset['category'].astype(int)\n",
        "dataset_new['category']"
      ],
      "metadata": {
        "id": "jAPUgd1vKUvH"
      },
      "execution_count": null,
      "outputs": []
    },
    {
      "cell_type": "code",
      "source": [
        "train_data_df,valid_data_df = train_test_split(dataset_new,test_size=0.2)\n"
      ],
      "metadata": {
        "id": "YBjHq4s_G1T1"
      },
      "execution_count": null,
      "outputs": []
    },
    {
      "cell_type": "code",
      "source": [
        "train_data_df.reset_index(drop=True)\n",
        "valid_data_df.reset_index(drop=True)\n",
        "train_data_df"
      ],
      "metadata": {
        "colab": {
          "base_uri": "https://localhost:8080/",
          "height": 424
        },
        "id": "KVR19DvKI6cp",
        "outputId": "e6414520-af88-446d-c919-969166281d62"
      },
      "execution_count": null,
      "outputs": [
        {
          "output_type": "execute_result",
          "data": {
            "text/plain": [
              "       user_id  podcast_id  rating  title  category  compound\n",
              "17841     9015          38       5     13         4    0.8316\n",
              "10700     4003          15       5     29         0    0.9274\n",
              "25322     8841          11       5     12         3    0.0000\n",
              "20703     3121          55       1      0         1    0.6369\n",
              "20589     1882          49       5     35         0    0.0000\n",
              "...        ...         ...     ...    ...       ...       ...\n",
              "17737     7241          62       5     61        18    0.6369\n",
              "9872     10146          18       5     38         5    0.4019\n",
              "2408      3664          37       1     40         0    0.1027\n",
              "25177     3966          11       5     12         0    0.6249\n",
              "13634     2304          56       1     54        12    0.0000\n",
              "\n",
              "[21600 rows x 6 columns]"
            ],
            "text/html": [
              "\n",
              "  <div id=\"df-77170e46-2566-4c29-9253-2715ee7f36e9\">\n",
              "    <div class=\"colab-df-container\">\n",
              "      <div>\n",
              "<style scoped>\n",
              "    .dataframe tbody tr th:only-of-type {\n",
              "        vertical-align: middle;\n",
              "    }\n",
              "\n",
              "    .dataframe tbody tr th {\n",
              "        vertical-align: top;\n",
              "    }\n",
              "\n",
              "    .dataframe thead th {\n",
              "        text-align: right;\n",
              "    }\n",
              "</style>\n",
              "<table border=\"1\" class=\"dataframe\">\n",
              "  <thead>\n",
              "    <tr style=\"text-align: right;\">\n",
              "      <th></th>\n",
              "      <th>user_id</th>\n",
              "      <th>podcast_id</th>\n",
              "      <th>rating</th>\n",
              "      <th>title</th>\n",
              "      <th>category</th>\n",
              "      <th>compound</th>\n",
              "    </tr>\n",
              "  </thead>\n",
              "  <tbody>\n",
              "    <tr>\n",
              "      <th>17841</th>\n",
              "      <td>9015</td>\n",
              "      <td>38</td>\n",
              "      <td>5</td>\n",
              "      <td>13</td>\n",
              "      <td>4</td>\n",
              "      <td>0.8316</td>\n",
              "    </tr>\n",
              "    <tr>\n",
              "      <th>10700</th>\n",
              "      <td>4003</td>\n",
              "      <td>15</td>\n",
              "      <td>5</td>\n",
              "      <td>29</td>\n",
              "      <td>0</td>\n",
              "      <td>0.9274</td>\n",
              "    </tr>\n",
              "    <tr>\n",
              "      <th>25322</th>\n",
              "      <td>8841</td>\n",
              "      <td>11</td>\n",
              "      <td>5</td>\n",
              "      <td>12</td>\n",
              "      <td>3</td>\n",
              "      <td>0.0000</td>\n",
              "    </tr>\n",
              "    <tr>\n",
              "      <th>20703</th>\n",
              "      <td>3121</td>\n",
              "      <td>55</td>\n",
              "      <td>1</td>\n",
              "      <td>0</td>\n",
              "      <td>1</td>\n",
              "      <td>0.6369</td>\n",
              "    </tr>\n",
              "    <tr>\n",
              "      <th>20589</th>\n",
              "      <td>1882</td>\n",
              "      <td>49</td>\n",
              "      <td>5</td>\n",
              "      <td>35</td>\n",
              "      <td>0</td>\n",
              "      <td>0.0000</td>\n",
              "    </tr>\n",
              "    <tr>\n",
              "      <th>...</th>\n",
              "      <td>...</td>\n",
              "      <td>...</td>\n",
              "      <td>...</td>\n",
              "      <td>...</td>\n",
              "      <td>...</td>\n",
              "      <td>...</td>\n",
              "    </tr>\n",
              "    <tr>\n",
              "      <th>17737</th>\n",
              "      <td>7241</td>\n",
              "      <td>62</td>\n",
              "      <td>5</td>\n",
              "      <td>61</td>\n",
              "      <td>18</td>\n",
              "      <td>0.6369</td>\n",
              "    </tr>\n",
              "    <tr>\n",
              "      <th>9872</th>\n",
              "      <td>10146</td>\n",
              "      <td>18</td>\n",
              "      <td>5</td>\n",
              "      <td>38</td>\n",
              "      <td>5</td>\n",
              "      <td>0.4019</td>\n",
              "    </tr>\n",
              "    <tr>\n",
              "      <th>2408</th>\n",
              "      <td>3664</td>\n",
              "      <td>37</td>\n",
              "      <td>1</td>\n",
              "      <td>40</td>\n",
              "      <td>0</td>\n",
              "      <td>0.1027</td>\n",
              "    </tr>\n",
              "    <tr>\n",
              "      <th>25177</th>\n",
              "      <td>3966</td>\n",
              "      <td>11</td>\n",
              "      <td>5</td>\n",
              "      <td>12</td>\n",
              "      <td>0</td>\n",
              "      <td>0.6249</td>\n",
              "    </tr>\n",
              "    <tr>\n",
              "      <th>13634</th>\n",
              "      <td>2304</td>\n",
              "      <td>56</td>\n",
              "      <td>1</td>\n",
              "      <td>54</td>\n",
              "      <td>12</td>\n",
              "      <td>0.0000</td>\n",
              "    </tr>\n",
              "  </tbody>\n",
              "</table>\n",
              "<p>21600 rows × 6 columns</p>\n",
              "</div>\n",
              "      <button class=\"colab-df-convert\" onclick=\"convertToInteractive('df-77170e46-2566-4c29-9253-2715ee7f36e9')\"\n",
              "              title=\"Convert this dataframe to an interactive table.\"\n",
              "              style=\"display:none;\">\n",
              "        \n",
              "  <svg xmlns=\"http://www.w3.org/2000/svg\" height=\"24px\"viewBox=\"0 0 24 24\"\n",
              "       width=\"24px\">\n",
              "    <path d=\"M0 0h24v24H0V0z\" fill=\"none\"/>\n",
              "    <path d=\"M18.56 5.44l.94 2.06.94-2.06 2.06-.94-2.06-.94-.94-2.06-.94 2.06-2.06.94zm-11 1L8.5 8.5l.94-2.06 2.06-.94-2.06-.94L8.5 2.5l-.94 2.06-2.06.94zm10 10l.94 2.06.94-2.06 2.06-.94-2.06-.94-.94-2.06-.94 2.06-2.06.94z\"/><path d=\"M17.41 7.96l-1.37-1.37c-.4-.4-.92-.59-1.43-.59-.52 0-1.04.2-1.43.59L10.3 9.45l-7.72 7.72c-.78.78-.78 2.05 0 2.83L4 21.41c.39.39.9.59 1.41.59.51 0 1.02-.2 1.41-.59l7.78-7.78 2.81-2.81c.8-.78.8-2.07 0-2.86zM5.41 20L4 18.59l7.72-7.72 1.47 1.35L5.41 20z\"/>\n",
              "  </svg>\n",
              "      </button>\n",
              "      \n",
              "  <style>\n",
              "    .colab-df-container {\n",
              "      display:flex;\n",
              "      flex-wrap:wrap;\n",
              "      gap: 12px;\n",
              "    }\n",
              "\n",
              "    .colab-df-convert {\n",
              "      background-color: #E8F0FE;\n",
              "      border: none;\n",
              "      border-radius: 50%;\n",
              "      cursor: pointer;\n",
              "      display: none;\n",
              "      fill: #1967D2;\n",
              "      height: 32px;\n",
              "      padding: 0 0 0 0;\n",
              "      width: 32px;\n",
              "    }\n",
              "\n",
              "    .colab-df-convert:hover {\n",
              "      background-color: #E2EBFA;\n",
              "      box-shadow: 0px 1px 2px rgba(60, 64, 67, 0.3), 0px 1px 3px 1px rgba(60, 64, 67, 0.15);\n",
              "      fill: #174EA6;\n",
              "    }\n",
              "\n",
              "    [theme=dark] .colab-df-convert {\n",
              "      background-color: #3B4455;\n",
              "      fill: #D2E3FC;\n",
              "    }\n",
              "\n",
              "    [theme=dark] .colab-df-convert:hover {\n",
              "      background-color: #434B5C;\n",
              "      box-shadow: 0px 1px 3px 1px rgba(0, 0, 0, 0.15);\n",
              "      filter: drop-shadow(0px 1px 2px rgba(0, 0, 0, 0.3));\n",
              "      fill: #FFFFFF;\n",
              "    }\n",
              "  </style>\n",
              "\n",
              "      <script>\n",
              "        const buttonEl =\n",
              "          document.querySelector('#df-77170e46-2566-4c29-9253-2715ee7f36e9 button.colab-df-convert');\n",
              "        buttonEl.style.display =\n",
              "          google.colab.kernel.accessAllowed ? 'block' : 'none';\n",
              "\n",
              "        async function convertToInteractive(key) {\n",
              "          const element = document.querySelector('#df-77170e46-2566-4c29-9253-2715ee7f36e9');\n",
              "          const dataTable =\n",
              "            await google.colab.kernel.invokeFunction('convertToInteractive',\n",
              "                                                     [key], {});\n",
              "          if (!dataTable) return;\n",
              "\n",
              "          const docLinkHtml = 'Like what you see? Visit the ' +\n",
              "            '<a target=\"_blank\" href=https://colab.research.google.com/notebooks/data_table.ipynb>data table notebook</a>'\n",
              "            + ' to learn more about interactive tables.';\n",
              "          element.innerHTML = '';\n",
              "          dataTable['output_type'] = 'display_data';\n",
              "          await google.colab.output.renderOutput(dataTable, element);\n",
              "          const docLink = document.createElement('div');\n",
              "          docLink.innerHTML = docLinkHtml;\n",
              "          element.appendChild(docLink);\n",
              "        }\n",
              "      </script>\n",
              "    </div>\n",
              "  </div>\n",
              "  "
            ]
          },
          "metadata": {},
          "execution_count": 20
        }
      ]
    },
    {
      "cell_type": "code",
      "source": [
        "dataset_new.shape"
      ],
      "metadata": {
        "colab": {
          "base_uri": "https://localhost:8080/"
        },
        "id": "1oKPSMfPLDXk",
        "outputId": "59206198-33b5-42f7-e3fc-9a03c2308d58"
      },
      "execution_count": null,
      "outputs": [
        {
          "output_type": "execute_result",
          "data": {
            "text/plain": [
              "(27000, 6)"
            ]
          },
          "metadata": {},
          "execution_count": 21
        }
      ]
    },
    {
      "cell_type": "code",
      "source": [
        "dataset_new.isnull().sum()"
      ],
      "metadata": {
        "colab": {
          "base_uri": "https://localhost:8080/"
        },
        "id": "dNepJfciLHoL",
        "outputId": "cbbb921b-91d9-4c5f-d387-9ed0af12b47b"
      },
      "execution_count": null,
      "outputs": [
        {
          "output_type": "execute_result",
          "data": {
            "text/plain": [
              "user_id       0\n",
              "podcast_id    0\n",
              "rating        0\n",
              "title         0\n",
              "category      0\n",
              "compound      0\n",
              "dtype: int64"
            ]
          },
          "metadata": {},
          "execution_count": 22
        }
      ]
    },
    {
      "cell_type": "code",
      "source": [
        "train_data_df.head(1)"
      ],
      "metadata": {
        "colab": {
          "base_uri": "https://localhost:8080/",
          "height": 81
        },
        "id": "MZ4b7lgdLN4k",
        "outputId": "4942fc2b-22c6-456c-d6ab-f7027bcd0d2b"
      },
      "execution_count": null,
      "outputs": [
        {
          "output_type": "execute_result",
          "data": {
            "text/plain": [
              "       user_id  podcast_id  rating  title  category  compound\n",
              "17841     9015          38       5     13         4    0.8316"
            ],
            "text/html": [
              "\n",
              "  <div id=\"df-c571797e-f1dd-4a28-b81d-f0ef302cdd1b\">\n",
              "    <div class=\"colab-df-container\">\n",
              "      <div>\n",
              "<style scoped>\n",
              "    .dataframe tbody tr th:only-of-type {\n",
              "        vertical-align: middle;\n",
              "    }\n",
              "\n",
              "    .dataframe tbody tr th {\n",
              "        vertical-align: top;\n",
              "    }\n",
              "\n",
              "    .dataframe thead th {\n",
              "        text-align: right;\n",
              "    }\n",
              "</style>\n",
              "<table border=\"1\" class=\"dataframe\">\n",
              "  <thead>\n",
              "    <tr style=\"text-align: right;\">\n",
              "      <th></th>\n",
              "      <th>user_id</th>\n",
              "      <th>podcast_id</th>\n",
              "      <th>rating</th>\n",
              "      <th>title</th>\n",
              "      <th>category</th>\n",
              "      <th>compound</th>\n",
              "    </tr>\n",
              "  </thead>\n",
              "  <tbody>\n",
              "    <tr>\n",
              "      <th>17841</th>\n",
              "      <td>9015</td>\n",
              "      <td>38</td>\n",
              "      <td>5</td>\n",
              "      <td>13</td>\n",
              "      <td>4</td>\n",
              "      <td>0.8316</td>\n",
              "    </tr>\n",
              "  </tbody>\n",
              "</table>\n",
              "</div>\n",
              "      <button class=\"colab-df-convert\" onclick=\"convertToInteractive('df-c571797e-f1dd-4a28-b81d-f0ef302cdd1b')\"\n",
              "              title=\"Convert this dataframe to an interactive table.\"\n",
              "              style=\"display:none;\">\n",
              "        \n",
              "  <svg xmlns=\"http://www.w3.org/2000/svg\" height=\"24px\"viewBox=\"0 0 24 24\"\n",
              "       width=\"24px\">\n",
              "    <path d=\"M0 0h24v24H0V0z\" fill=\"none\"/>\n",
              "    <path d=\"M18.56 5.44l.94 2.06.94-2.06 2.06-.94-2.06-.94-.94-2.06-.94 2.06-2.06.94zm-11 1L8.5 8.5l.94-2.06 2.06-.94-2.06-.94L8.5 2.5l-.94 2.06-2.06.94zm10 10l.94 2.06.94-2.06 2.06-.94-2.06-.94-.94-2.06-.94 2.06-2.06.94z\"/><path d=\"M17.41 7.96l-1.37-1.37c-.4-.4-.92-.59-1.43-.59-.52 0-1.04.2-1.43.59L10.3 9.45l-7.72 7.72c-.78.78-.78 2.05 0 2.83L4 21.41c.39.39.9.59 1.41.59.51 0 1.02-.2 1.41-.59l7.78-7.78 2.81-2.81c.8-.78.8-2.07 0-2.86zM5.41 20L4 18.59l7.72-7.72 1.47 1.35L5.41 20z\"/>\n",
              "  </svg>\n",
              "      </button>\n",
              "      \n",
              "  <style>\n",
              "    .colab-df-container {\n",
              "      display:flex;\n",
              "      flex-wrap:wrap;\n",
              "      gap: 12px;\n",
              "    }\n",
              "\n",
              "    .colab-df-convert {\n",
              "      background-color: #E8F0FE;\n",
              "      border: none;\n",
              "      border-radius: 50%;\n",
              "      cursor: pointer;\n",
              "      display: none;\n",
              "      fill: #1967D2;\n",
              "      height: 32px;\n",
              "      padding: 0 0 0 0;\n",
              "      width: 32px;\n",
              "    }\n",
              "\n",
              "    .colab-df-convert:hover {\n",
              "      background-color: #E2EBFA;\n",
              "      box-shadow: 0px 1px 2px rgba(60, 64, 67, 0.3), 0px 1px 3px 1px rgba(60, 64, 67, 0.15);\n",
              "      fill: #174EA6;\n",
              "    }\n",
              "\n",
              "    [theme=dark] .colab-df-convert {\n",
              "      background-color: #3B4455;\n",
              "      fill: #D2E3FC;\n",
              "    }\n",
              "\n",
              "    [theme=dark] .colab-df-convert:hover {\n",
              "      background-color: #434B5C;\n",
              "      box-shadow: 0px 1px 3px 1px rgba(0, 0, 0, 0.15);\n",
              "      filter: drop-shadow(0px 1px 2px rgba(0, 0, 0, 0.3));\n",
              "      fill: #FFFFFF;\n",
              "    }\n",
              "  </style>\n",
              "\n",
              "      <script>\n",
              "        const buttonEl =\n",
              "          document.querySelector('#df-c571797e-f1dd-4a28-b81d-f0ef302cdd1b button.colab-df-convert');\n",
              "        buttonEl.style.display =\n",
              "          google.colab.kernel.accessAllowed ? 'block' : 'none';\n",
              "\n",
              "        async function convertToInteractive(key) {\n",
              "          const element = document.querySelector('#df-c571797e-f1dd-4a28-b81d-f0ef302cdd1b');\n",
              "          const dataTable =\n",
              "            await google.colab.kernel.invokeFunction('convertToInteractive',\n",
              "                                                     [key], {});\n",
              "          if (!dataTable) return;\n",
              "\n",
              "          const docLinkHtml = 'Like what you see? Visit the ' +\n",
              "            '<a target=\"_blank\" href=https://colab.research.google.com/notebooks/data_table.ipynb>data table notebook</a>'\n",
              "            + ' to learn more about interactive tables.';\n",
              "          element.innerHTML = '';\n",
              "          dataTable['output_type'] = 'display_data';\n",
              "          await google.colab.output.renderOutput(dataTable, element);\n",
              "          const docLink = document.createElement('div');\n",
              "          docLink.innerHTML = docLinkHtml;\n",
              "          element.appendChild(docLink);\n",
              "        }\n",
              "      </script>\n",
              "    </div>\n",
              "  </div>\n",
              "  "
            ]
          },
          "metadata": {},
          "execution_count": 24
        }
      ]
    },
    {
      "cell_type": "code",
      "source": [
        "num_users_hybrid = len(train_data_df.user_id)\n",
        "num_pod_items_hybrid = len(train_data_df.podcast_id)\n",
        "print(num_users_hybrid, num_pod_items_hybrid) "
      ],
      "metadata": {
        "colab": {
          "base_uri": "https://localhost:8080/"
        },
        "id": "EyPA_gBMJRy2",
        "outputId": "e0788880-8ee0-4274-917a-88ffcdd7dec9"
      },
      "execution_count": null,
      "outputs": [
        {
          "output_type": "stream",
          "name": "stdout",
          "text": [
            "21600 21600\n"
          ]
        }
      ]
    },
    {
      "cell_type": "code",
      "source": [
        "class NeuralNet(nn.Module):\n",
        "    def __init__(self, num_users, num_pod_items, emb_size=100, n_hidden=5):\n",
        "        super(NeuralNet, self).__init__()\n",
        "        self.user_emb = nn.Embedding(num_users, emb_size)\n",
        "        self.item_emb = nn.Embedding(num_pod_items, emb_size)\n",
        "        self.layer1 = nn.Linear(emb_size*2 + n_hidden + n_hidden, n_hidden)\n",
        "        self.layer2 = nn.Linear(n_hidden, 1)\n",
        "        self.drop1 = nn.Dropout(0.1)\n",
        "        \n",
        "    def forward(self, u, v):\n",
        "        user = self.user_emb(u)\n",
        "        pod = self.item_emb(v[:,1])\n",
        "        pod_features = v[:,4:]\n",
        "        x = F.relu(torch.cat([user, pod,pod_features], dim=1))\n",
        "        x = self.drop1(x)\n",
        "        x = F.relu(self.layer1(x))\n",
        "        x = self.layer2(x)\n",
        "        return x"
      ],
      "metadata": {
        "id": "0zPN_JEEJdWn"
      },
      "execution_count": null,
      "outputs": []
    },
    {
      "cell_type": "code",
      "source": [
        "def train_epocs_hybrid(model, epochs=10, lr=0.01, wd=0.0, unsqueeze=False):\n",
        "    optimizer = torch.optim.Adam(model.parameters(), lr=lr, weight_decay=wd)\n",
        "    model.train()\n",
        "    for i in range(epochs):\n",
        "        users = torch.LongTensor(train_data_df.user_id.values) # .cuda()\n",
        "        pods = torch.LongTensor(train_data_df.values) #.cuda()\n",
        "        ratings = torch.FloatTensor(train_data_df.rating.values) #.cuda()\n",
        "        if unsqueeze:\n",
        "            ratings = ratings.unsqueeze(1)\n",
        "        y_hat = model(users, pods)\n",
        "        loss = F.mse_loss(y_hat, ratings)\n",
        "        train_mse_hybrid.append((i, loss.item()))\n",
        "        if (i+1) % 10 == 0:\n",
        "          print(\"Iteration: %d ; error = %.4f\" % (i+1, loss.item()))\n",
        "        optimizer.zero_grad()\n",
        "        loss.backward()\n",
        "        optimizer.step()\n",
        "    test_loss_hybrid(model, unsqueeze)"
      ],
      "metadata": {
        "id": "nrDqWty5JoT4"
      },
      "execution_count": null,
      "outputs": []
    },
    {
      "cell_type": "code",
      "source": [
        "pods = torch.LongTensor(train_data_df.values) #.cuda()\n",
        "pods.shape\n",
        "users = torch.LongTensor(train_data_df.user_id.values) # .cuda()\n",
        "users.shape"
      ],
      "metadata": {
        "colab": {
          "base_uri": "https://localhost:8080/"
        },
        "id": "dR1jZSYJS4JK",
        "outputId": "1e0b57fc-a12b-47f0-be19-14775bf9fca9"
      },
      "execution_count": null,
      "outputs": [
        {
          "output_type": "execute_result",
          "data": {
            "text/plain": [
              "torch.Size([21600])"
            ]
          },
          "metadata": {},
          "execution_count": 67
        }
      ]
    },
    {
      "cell_type": "code",
      "source": [
        "pods.shape"
      ],
      "metadata": {
        "colab": {
          "base_uri": "https://localhost:8080/"
        },
        "id": "saViZlF3WQZd",
        "outputId": "f4380f28-3631-4cc4-f9d6-10123d254a4a"
      },
      "execution_count": null,
      "outputs": [
        {
          "output_type": "execute_result",
          "data": {
            "text/plain": [
              "torch.Size([21600, 6])"
            ]
          },
          "metadata": {},
          "execution_count": 68
        }
      ]
    },
    {
      "cell_type": "code",
      "source": [
        "def test_loss_hybrid(model, unsqueeze=False):\n",
        "    model.eval()\n",
        "    users = torch.LongTensor(valid_data_df.user_id.values) #.cuda()\n",
        "    pods = torch.LongTensor(valid_data_df.values) #.cuda()\n",
        "    ratings = torch.FloatTensor(valid_data_df.rating.values) #.cuda()\n",
        "    if unsqueeze:\n",
        "        ratings = ratings.unsqueeze(1)\n",
        "    y_hat = model(users, pods)\n",
        "    loss = F.mse_loss(y_hat, ratings)\n",
        "    print(\"test loss %.3f \" % loss.item())"
      ],
      "metadata": {
        "id": "GpoRbxL6Jrnh"
      },
      "execution_count": null,
      "outputs": []
    },
    {
      "cell_type": "code",
      "source": [
        "users = torch.LongTensor(valid_data_df.user_id.values)"
      ],
      "metadata": {
        "id": "gHm95yfLVeAm"
      },
      "execution_count": null,
      "outputs": []
    },
    {
      "cell_type": "code",
      "source": [
        "pods = torch.LongTensor(valid_data_df.podcast_id.values) #.cuda()\n"
      ],
      "metadata": {
        "id": "rhLbJjRSVgHq"
      },
      "execution_count": null,
      "outputs": []
    },
    {
      "cell_type": "code",
      "source": [
        "model_hybrid_20 = NeuralNet(num_users_hybrid, num_pod_items_hybrid, emb_size=20)\n",
        "model_hybrid_20"
      ],
      "metadata": {
        "colab": {
          "base_uri": "https://localhost:8080/"
        },
        "id": "T_UVyFF-V_m4",
        "outputId": "6776ab21-8f51-4c7d-8b9b-d7905112d572"
      },
      "execution_count": null,
      "outputs": [
        {
          "output_type": "execute_result",
          "data": {
            "text/plain": [
              "NeuralNet(\n",
              "  (user_emb): Embedding(21600, 20)\n",
              "  (item_emb): Embedding(21600, 20)\n",
              "  (layer1): Linear(in_features=50, out_features=5, bias=True)\n",
              "  (layer2): Linear(in_features=5, out_features=1, bias=True)\n",
              "  (drop1): Dropout(p=0.1, inplace=False)\n",
              ")"
            ]
          },
          "metadata": {},
          "execution_count": 72
        }
      ]
    },
    {
      "cell_type": "code",
      "source": [
        "y_hat = model_hybrid_20(users, pods)\n"
      ],
      "metadata": {
        "colab": {
          "base_uri": "https://localhost:8080/",
          "height": 311
        },
        "id": "Go3AeWwVVHdT",
        "outputId": "356a784c-6b4a-43a8-b8f0-701724b98ca0"
      },
      "execution_count": null,
      "outputs": [
        {
          "output_type": "error",
          "ename": "IndexError",
          "evalue": "ignored",
          "traceback": [
            "\u001b[0;31m---------------------------------------------------------------------------\u001b[0m",
            "\u001b[0;31mIndexError\u001b[0m                                Traceback (most recent call last)",
            "\u001b[0;32m<ipython-input-73-a022d64fe216>\u001b[0m in \u001b[0;36m<module>\u001b[0;34m\u001b[0m\n\u001b[0;32m----> 1\u001b[0;31m \u001b[0my_hat\u001b[0m \u001b[0;34m=\u001b[0m \u001b[0mmodel_hybrid_20\u001b[0m\u001b[0;34m(\u001b[0m\u001b[0musers\u001b[0m\u001b[0;34m,\u001b[0m \u001b[0mpods\u001b[0m\u001b[0;34m)\u001b[0m\u001b[0;34m\u001b[0m\u001b[0;34m\u001b[0m\u001b[0m\n\u001b[0m",
            "\u001b[0;32m/usr/local/lib/python3.8/dist-packages/torch/nn/modules/module.py\u001b[0m in \u001b[0;36m_call_impl\u001b[0;34m(self, *input, **kwargs)\u001b[0m\n\u001b[1;32m   1188\u001b[0m         if not (self._backward_hooks or self._forward_hooks or self._forward_pre_hooks or _global_backward_hooks\n\u001b[1;32m   1189\u001b[0m                 or _global_forward_hooks or _global_forward_pre_hooks):\n\u001b[0;32m-> 1190\u001b[0;31m             \u001b[0;32mreturn\u001b[0m \u001b[0mforward_call\u001b[0m\u001b[0;34m(\u001b[0m\u001b[0;34m*\u001b[0m\u001b[0minput\u001b[0m\u001b[0;34m,\u001b[0m \u001b[0;34m**\u001b[0m\u001b[0mkwargs\u001b[0m\u001b[0;34m)\u001b[0m\u001b[0;34m\u001b[0m\u001b[0;34m\u001b[0m\u001b[0m\n\u001b[0m\u001b[1;32m   1191\u001b[0m         \u001b[0;31m# Do not call functions when jit is used\u001b[0m\u001b[0;34m\u001b[0m\u001b[0;34m\u001b[0m\u001b[0;34m\u001b[0m\u001b[0m\n\u001b[1;32m   1192\u001b[0m         \u001b[0mfull_backward_hooks\u001b[0m\u001b[0;34m,\u001b[0m \u001b[0mnon_full_backward_hooks\u001b[0m \u001b[0;34m=\u001b[0m \u001b[0;34m[\u001b[0m\u001b[0;34m]\u001b[0m\u001b[0;34m,\u001b[0m \u001b[0;34m[\u001b[0m\u001b[0;34m]\u001b[0m\u001b[0;34m\u001b[0m\u001b[0;34m\u001b[0m\u001b[0m\n",
            "\u001b[0;32m<ipython-input-28-7372c9d7e6d7>\u001b[0m in \u001b[0;36mforward\u001b[0;34m(self, u, v)\u001b[0m\n\u001b[1;32m     10\u001b[0m     \u001b[0;32mdef\u001b[0m \u001b[0mforward\u001b[0m\u001b[0;34m(\u001b[0m\u001b[0mself\u001b[0m\u001b[0;34m,\u001b[0m \u001b[0mu\u001b[0m\u001b[0;34m,\u001b[0m \u001b[0mv\u001b[0m\u001b[0;34m)\u001b[0m\u001b[0;34m:\u001b[0m\u001b[0;34m\u001b[0m\u001b[0;34m\u001b[0m\u001b[0m\n\u001b[1;32m     11\u001b[0m         \u001b[0muser\u001b[0m \u001b[0;34m=\u001b[0m \u001b[0mself\u001b[0m\u001b[0;34m.\u001b[0m\u001b[0muser_emb\u001b[0m\u001b[0;34m(\u001b[0m\u001b[0mu\u001b[0m\u001b[0;34m)\u001b[0m\u001b[0;34m\u001b[0m\u001b[0;34m\u001b[0m\u001b[0m\n\u001b[0;32m---> 12\u001b[0;31m         \u001b[0mpod\u001b[0m \u001b[0;34m=\u001b[0m \u001b[0mself\u001b[0m\u001b[0;34m.\u001b[0m\u001b[0mitem_emb\u001b[0m\u001b[0;34m(\u001b[0m\u001b[0mv\u001b[0m\u001b[0;34m[\u001b[0m\u001b[0;34m:\u001b[0m\u001b[0;34m,\u001b[0m\u001b[0;36m1\u001b[0m\u001b[0;34m]\u001b[0m\u001b[0;34m)\u001b[0m\u001b[0;34m\u001b[0m\u001b[0;34m\u001b[0m\u001b[0m\n\u001b[0m\u001b[1;32m     13\u001b[0m         \u001b[0mpod_features\u001b[0m \u001b[0;34m=\u001b[0m \u001b[0mv\u001b[0m\u001b[0;34m[\u001b[0m\u001b[0;34m:\u001b[0m\u001b[0;34m,\u001b[0m\u001b[0;36m4\u001b[0m\u001b[0;34m:\u001b[0m\u001b[0;34m]\u001b[0m\u001b[0;34m\u001b[0m\u001b[0;34m\u001b[0m\u001b[0m\n\u001b[1;32m     14\u001b[0m         \u001b[0mx\u001b[0m \u001b[0;34m=\u001b[0m \u001b[0mF\u001b[0m\u001b[0;34m.\u001b[0m\u001b[0mrelu\u001b[0m\u001b[0;34m(\u001b[0m\u001b[0mtorch\u001b[0m\u001b[0;34m.\u001b[0m\u001b[0mcat\u001b[0m\u001b[0;34m(\u001b[0m\u001b[0;34m[\u001b[0m\u001b[0muser\u001b[0m\u001b[0;34m,\u001b[0m \u001b[0mpod\u001b[0m\u001b[0;34m,\u001b[0m\u001b[0mpod_features\u001b[0m\u001b[0;34m]\u001b[0m\u001b[0;34m,\u001b[0m \u001b[0mdim\u001b[0m\u001b[0;34m=\u001b[0m\u001b[0;36m1\u001b[0m\u001b[0;34m)\u001b[0m\u001b[0;34m)\u001b[0m\u001b[0;34m\u001b[0m\u001b[0;34m\u001b[0m\u001b[0m\n",
            "\u001b[0;31mIndexError\u001b[0m: too many indices for tensor of dimension 1"
          ]
        }
      ]
    },
    {
      "cell_type": "code",
      "source": [
        "model_hybrid_20 = NeuralNet(num_users_hybrid, num_pod_items_hybrid, emb_size=20)\n",
        "model_hybrid_20"
      ],
      "metadata": {
        "colab": {
          "base_uri": "https://localhost:8080/"
        },
        "id": "hi7dlulEJ6zb",
        "outputId": "a486af4a-6d64-4521-cbf4-1725baa86904"
      },
      "execution_count": null,
      "outputs": [
        {
          "output_type": "execute_result",
          "data": {
            "text/plain": [
              "NeuralNet(\n",
              "  (user_emb): Embedding(21600, 20)\n",
              "  (item_emb): Embedding(21600, 20)\n",
              "  (layer1): Linear(in_features=50, out_features=5, bias=True)\n",
              "  (layer2): Linear(in_features=5, out_features=1, bias=True)\n",
              "  (drop1): Dropout(p=0.1, inplace=False)\n",
              ")"
            ]
          },
          "metadata": {},
          "execution_count": 74
        }
      ]
    },
    {
      "cell_type": "code",
      "source": [
        "train_mse_hybrid = []\n",
        "train_epocs_hybrid(model_hybrid_20, epochs=10, lr=0.01, wd=1e-6, unsqueeze=True)"
      ],
      "metadata": {
        "colab": {
          "base_uri": "https://localhost:8080/",
          "height": 814
        },
        "id": "1PcjVtgzJ_3r",
        "outputId": "dc823bc1-9d86-4665-c8d8-dc3a32eca7d9"
      },
      "execution_count": null,
      "outputs": [
        {
          "output_type": "error",
          "ename": "RuntimeError",
          "evalue": "ignored",
          "traceback": [
            "\u001b[0;31m---------------------------------------------------------------------------\u001b[0m",
            "\u001b[0;31mRuntimeError\u001b[0m                              Traceback (most recent call last)",
            "\u001b[0;32m<ipython-input-75-6fa1bf427152>\u001b[0m in \u001b[0;36m<module>\u001b[0;34m\u001b[0m\n\u001b[1;32m      1\u001b[0m \u001b[0mtrain_mse_hybrid\u001b[0m \u001b[0;34m=\u001b[0m \u001b[0;34m[\u001b[0m\u001b[0;34m]\u001b[0m\u001b[0;34m\u001b[0m\u001b[0;34m\u001b[0m\u001b[0m\n\u001b[0;32m----> 2\u001b[0;31m \u001b[0mtrain_epocs_hybrid\u001b[0m\u001b[0;34m(\u001b[0m\u001b[0mmodel_hybrid_20\u001b[0m\u001b[0;34m,\u001b[0m \u001b[0mepochs\u001b[0m\u001b[0;34m=\u001b[0m\u001b[0;36m10\u001b[0m\u001b[0;34m,\u001b[0m \u001b[0mlr\u001b[0m\u001b[0;34m=\u001b[0m\u001b[0;36m0.01\u001b[0m\u001b[0;34m,\u001b[0m \u001b[0mwd\u001b[0m\u001b[0;34m=\u001b[0m\u001b[0;36m1e-6\u001b[0m\u001b[0;34m,\u001b[0m \u001b[0munsqueeze\u001b[0m\u001b[0;34m=\u001b[0m\u001b[0;32mTrue\u001b[0m\u001b[0;34m)\u001b[0m\u001b[0;34m\u001b[0m\u001b[0;34m\u001b[0m\u001b[0m\n\u001b[0m",
            "\u001b[0;32m<ipython-input-66-28ad4e3c92a9>\u001b[0m in \u001b[0;36mtrain_epocs_hybrid\u001b[0;34m(model, epochs, lr, wd, unsqueeze)\u001b[0m\n\u001b[1;32m      8\u001b[0m         \u001b[0;32mif\u001b[0m \u001b[0munsqueeze\u001b[0m\u001b[0;34m:\u001b[0m\u001b[0;34m\u001b[0m\u001b[0;34m\u001b[0m\u001b[0m\n\u001b[1;32m      9\u001b[0m             \u001b[0mratings\u001b[0m \u001b[0;34m=\u001b[0m \u001b[0mratings\u001b[0m\u001b[0;34m.\u001b[0m\u001b[0munsqueeze\u001b[0m\u001b[0;34m(\u001b[0m\u001b[0;36m1\u001b[0m\u001b[0;34m)\u001b[0m\u001b[0;34m\u001b[0m\u001b[0;34m\u001b[0m\u001b[0m\n\u001b[0;32m---> 10\u001b[0;31m         \u001b[0my_hat\u001b[0m \u001b[0;34m=\u001b[0m \u001b[0mmodel\u001b[0m\u001b[0;34m(\u001b[0m\u001b[0musers\u001b[0m\u001b[0;34m,\u001b[0m \u001b[0mpods\u001b[0m\u001b[0;34m)\u001b[0m\u001b[0;34m\u001b[0m\u001b[0;34m\u001b[0m\u001b[0m\n\u001b[0m\u001b[1;32m     11\u001b[0m         \u001b[0mloss\u001b[0m \u001b[0;34m=\u001b[0m \u001b[0mF\u001b[0m\u001b[0;34m.\u001b[0m\u001b[0mmse_loss\u001b[0m\u001b[0;34m(\u001b[0m\u001b[0my_hat\u001b[0m\u001b[0;34m,\u001b[0m \u001b[0mratings\u001b[0m\u001b[0;34m)\u001b[0m\u001b[0;34m\u001b[0m\u001b[0;34m\u001b[0m\u001b[0m\n\u001b[1;32m     12\u001b[0m         \u001b[0mtrain_mse_hybrid\u001b[0m\u001b[0;34m.\u001b[0m\u001b[0mappend\u001b[0m\u001b[0;34m(\u001b[0m\u001b[0;34m(\u001b[0m\u001b[0mi\u001b[0m\u001b[0;34m,\u001b[0m \u001b[0mloss\u001b[0m\u001b[0;34m.\u001b[0m\u001b[0mitem\u001b[0m\u001b[0;34m(\u001b[0m\u001b[0;34m)\u001b[0m\u001b[0;34m)\u001b[0m\u001b[0;34m)\u001b[0m\u001b[0;34m\u001b[0m\u001b[0;34m\u001b[0m\u001b[0m\n",
            "\u001b[0;32m/usr/local/lib/python3.8/dist-packages/torch/nn/modules/module.py\u001b[0m in \u001b[0;36m_call_impl\u001b[0;34m(self, *input, **kwargs)\u001b[0m\n\u001b[1;32m   1188\u001b[0m         if not (self._backward_hooks or self._forward_hooks or self._forward_pre_hooks or _global_backward_hooks\n\u001b[1;32m   1189\u001b[0m                 or _global_forward_hooks or _global_forward_pre_hooks):\n\u001b[0;32m-> 1190\u001b[0;31m             \u001b[0;32mreturn\u001b[0m \u001b[0mforward_call\u001b[0m\u001b[0;34m(\u001b[0m\u001b[0;34m*\u001b[0m\u001b[0minput\u001b[0m\u001b[0;34m,\u001b[0m \u001b[0;34m**\u001b[0m\u001b[0mkwargs\u001b[0m\u001b[0;34m)\u001b[0m\u001b[0;34m\u001b[0m\u001b[0;34m\u001b[0m\u001b[0m\n\u001b[0m\u001b[1;32m   1191\u001b[0m         \u001b[0;31m# Do not call functions when jit is used\u001b[0m\u001b[0;34m\u001b[0m\u001b[0;34m\u001b[0m\u001b[0;34m\u001b[0m\u001b[0m\n\u001b[1;32m   1192\u001b[0m         \u001b[0mfull_backward_hooks\u001b[0m\u001b[0;34m,\u001b[0m \u001b[0mnon_full_backward_hooks\u001b[0m \u001b[0;34m=\u001b[0m \u001b[0;34m[\u001b[0m\u001b[0;34m]\u001b[0m\u001b[0;34m,\u001b[0m \u001b[0;34m[\u001b[0m\u001b[0;34m]\u001b[0m\u001b[0;34m\u001b[0m\u001b[0;34m\u001b[0m\u001b[0m\n",
            "\u001b[0;32m<ipython-input-28-7372c9d7e6d7>\u001b[0m in \u001b[0;36mforward\u001b[0;34m(self, u, v)\u001b[0m\n\u001b[1;32m     14\u001b[0m         \u001b[0mx\u001b[0m \u001b[0;34m=\u001b[0m \u001b[0mF\u001b[0m\u001b[0;34m.\u001b[0m\u001b[0mrelu\u001b[0m\u001b[0;34m(\u001b[0m\u001b[0mtorch\u001b[0m\u001b[0;34m.\u001b[0m\u001b[0mcat\u001b[0m\u001b[0;34m(\u001b[0m\u001b[0;34m[\u001b[0m\u001b[0muser\u001b[0m\u001b[0;34m,\u001b[0m \u001b[0mpod\u001b[0m\u001b[0;34m,\u001b[0m\u001b[0mpod_features\u001b[0m\u001b[0;34m]\u001b[0m\u001b[0;34m,\u001b[0m \u001b[0mdim\u001b[0m\u001b[0;34m=\u001b[0m\u001b[0;36m1\u001b[0m\u001b[0;34m)\u001b[0m\u001b[0;34m)\u001b[0m\u001b[0;34m\u001b[0m\u001b[0;34m\u001b[0m\u001b[0m\n\u001b[1;32m     15\u001b[0m         \u001b[0mx\u001b[0m \u001b[0;34m=\u001b[0m \u001b[0mself\u001b[0m\u001b[0;34m.\u001b[0m\u001b[0mdrop1\u001b[0m\u001b[0;34m(\u001b[0m\u001b[0mx\u001b[0m\u001b[0;34m)\u001b[0m\u001b[0;34m\u001b[0m\u001b[0;34m\u001b[0m\u001b[0m\n\u001b[0;32m---> 16\u001b[0;31m         \u001b[0mx\u001b[0m \u001b[0;34m=\u001b[0m \u001b[0mF\u001b[0m\u001b[0;34m.\u001b[0m\u001b[0mrelu\u001b[0m\u001b[0;34m(\u001b[0m\u001b[0mself\u001b[0m\u001b[0;34m.\u001b[0m\u001b[0mlayer1\u001b[0m\u001b[0;34m(\u001b[0m\u001b[0mx\u001b[0m\u001b[0;34m)\u001b[0m\u001b[0;34m)\u001b[0m\u001b[0;34m\u001b[0m\u001b[0;34m\u001b[0m\u001b[0m\n\u001b[0m\u001b[1;32m     17\u001b[0m         \u001b[0mx\u001b[0m \u001b[0;34m=\u001b[0m \u001b[0mself\u001b[0m\u001b[0;34m.\u001b[0m\u001b[0mlayer2\u001b[0m\u001b[0;34m(\u001b[0m\u001b[0mx\u001b[0m\u001b[0;34m)\u001b[0m\u001b[0;34m\u001b[0m\u001b[0;34m\u001b[0m\u001b[0m\n\u001b[1;32m     18\u001b[0m         \u001b[0;32mreturn\u001b[0m \u001b[0mx\u001b[0m\u001b[0;34m\u001b[0m\u001b[0;34m\u001b[0m\u001b[0m\n",
            "\u001b[0;32m/usr/local/lib/python3.8/dist-packages/torch/nn/modules/module.py\u001b[0m in \u001b[0;36m_call_impl\u001b[0;34m(self, *input, **kwargs)\u001b[0m\n\u001b[1;32m   1188\u001b[0m         if not (self._backward_hooks or self._forward_hooks or self._forward_pre_hooks or _global_backward_hooks\n\u001b[1;32m   1189\u001b[0m                 or _global_forward_hooks or _global_forward_pre_hooks):\n\u001b[0;32m-> 1190\u001b[0;31m             \u001b[0;32mreturn\u001b[0m \u001b[0mforward_call\u001b[0m\u001b[0;34m(\u001b[0m\u001b[0;34m*\u001b[0m\u001b[0minput\u001b[0m\u001b[0;34m,\u001b[0m \u001b[0;34m**\u001b[0m\u001b[0mkwargs\u001b[0m\u001b[0;34m)\u001b[0m\u001b[0;34m\u001b[0m\u001b[0;34m\u001b[0m\u001b[0m\n\u001b[0m\u001b[1;32m   1191\u001b[0m         \u001b[0;31m# Do not call functions when jit is used\u001b[0m\u001b[0;34m\u001b[0m\u001b[0;34m\u001b[0m\u001b[0;34m\u001b[0m\u001b[0m\n\u001b[1;32m   1192\u001b[0m         \u001b[0mfull_backward_hooks\u001b[0m\u001b[0;34m,\u001b[0m \u001b[0mnon_full_backward_hooks\u001b[0m \u001b[0;34m=\u001b[0m \u001b[0;34m[\u001b[0m\u001b[0;34m]\u001b[0m\u001b[0;34m,\u001b[0m \u001b[0;34m[\u001b[0m\u001b[0;34m]\u001b[0m\u001b[0;34m\u001b[0m\u001b[0;34m\u001b[0m\u001b[0m\n",
            "\u001b[0;32m/usr/local/lib/python3.8/dist-packages/torch/nn/modules/linear.py\u001b[0m in \u001b[0;36mforward\u001b[0;34m(self, input)\u001b[0m\n\u001b[1;32m    112\u001b[0m \u001b[0;34m\u001b[0m\u001b[0m\n\u001b[1;32m    113\u001b[0m     \u001b[0;32mdef\u001b[0m \u001b[0mforward\u001b[0m\u001b[0;34m(\u001b[0m\u001b[0mself\u001b[0m\u001b[0;34m,\u001b[0m \u001b[0minput\u001b[0m\u001b[0;34m:\u001b[0m \u001b[0mTensor\u001b[0m\u001b[0;34m)\u001b[0m \u001b[0;34m->\u001b[0m \u001b[0mTensor\u001b[0m\u001b[0;34m:\u001b[0m\u001b[0;34m\u001b[0m\u001b[0;34m\u001b[0m\u001b[0m\n\u001b[0;32m--> 114\u001b[0;31m         \u001b[0;32mreturn\u001b[0m \u001b[0mF\u001b[0m\u001b[0;34m.\u001b[0m\u001b[0mlinear\u001b[0m\u001b[0;34m(\u001b[0m\u001b[0minput\u001b[0m\u001b[0;34m,\u001b[0m \u001b[0mself\u001b[0m\u001b[0;34m.\u001b[0m\u001b[0mweight\u001b[0m\u001b[0;34m,\u001b[0m \u001b[0mself\u001b[0m\u001b[0;34m.\u001b[0m\u001b[0mbias\u001b[0m\u001b[0;34m)\u001b[0m\u001b[0;34m\u001b[0m\u001b[0;34m\u001b[0m\u001b[0m\n\u001b[0m\u001b[1;32m    115\u001b[0m \u001b[0;34m\u001b[0m\u001b[0m\n\u001b[1;32m    116\u001b[0m     \u001b[0;32mdef\u001b[0m \u001b[0mextra_repr\u001b[0m\u001b[0;34m(\u001b[0m\u001b[0mself\u001b[0m\u001b[0;34m)\u001b[0m \u001b[0;34m->\u001b[0m \u001b[0mstr\u001b[0m\u001b[0;34m:\u001b[0m\u001b[0;34m\u001b[0m\u001b[0;34m\u001b[0m\u001b[0m\n",
            "\u001b[0;31mRuntimeError\u001b[0m: mat1 and mat2 shapes cannot be multiplied (21600x42 and 50x5)"
          ]
        }
      ]
    },
    {
      "cell_type": "code",
      "source": [],
      "metadata": {
        "id": "Of8VSR-MTz2G"
      },
      "execution_count": null,
      "outputs": []
    }
  ]
}