{
  "nbformat": 4,
  "nbformat_minor": 0,
  "metadata": {
    "colab": {
      "provenance": []
    },
    "kernelspec": {
      "name": "python3",
      "display_name": "Python 3"
    },
    "language_info": {
      "name": "python"
    }
  },
  "cells": [
    {
      "cell_type": "code",
      "source": [
        "import sqlite3\n",
        "import pandas as pd\n",
        "import datetime\n",
        "# Create your connection.\n",
        "cnx = sqlite3.connect('/content/drive/MyDrive/database.sqlite')\n",
        "#df_p = pd.read_sql_query(\"SELECT * FROM podcasts\",cnx)\n",
        "#df_r = pd.read_sql_query(\"SELECT * FROM reviews\",cnx) \n",
        "df = pd.read_sql_query(\"SELECT pod.podcast_id, pod.title,rev.author_id, cat.category, pod.slug, pod.itunes_id, rev.rating, rev.content, rev.title as Review_Title, rev.created_at FROM reviews rev join podcasts pod on rev.podcast_id = pod.podcast_id join categories cat on pod.podcast_id = cat.podcast_id limit 27000\", cnx)\n",
        "#df = pd.read_sql_query(\"SELECT  * FROM reviews rev join podcasts pod on rev.podcast_id = pod.podcast_id join categories cat on pod.podcast_id = cat.podcast_id limit 30000\", cnx)\n",
        "#df.to_csv(\"/content/drive/MyDrive/Podcast_10.csv\", index = True,)"
      ],
      "metadata": {
        "id": "yeN-exRzDZ5B"
      },
      "execution_count": null,
      "outputs": []
    },
    {
      "cell_type": "code",
      "source": [
        "df.head(3)"
      ],
      "metadata": {
        "colab": {
          "base_uri": "https://localhost:8080/",
          "height": 292
        },
        "id": "CurW0cmCu9cC",
        "outputId": "06cee4ed-29e2-404f-ba57-e0e47620be54"
      },
      "execution_count": null,
      "outputs": [
        {
          "output_type": "execute_result",
          "data": {
            "text/plain": [
              "                         podcast_id                       title  \\\n",
              "0  c61aa81c9b929a66f0c1db6cbe5d8548  Backstage at Tilles Center   \n",
              "1  c61aa81c9b929a66f0c1db6cbe5d8548  Backstage at Tilles Center   \n",
              "2  c61aa81c9b929a66f0c1db6cbe5d8548  Backstage at Tilles Center   \n",
              "\n",
              "         author_id              category                        slug  \\\n",
              "0  F7E5A318989779D                  arts  backstage-at-tilles-center   \n",
              "1  F7E5A318989779D  arts-performing-arts  backstage-at-tilles-center   \n",
              "2  F7E5A318989779D                 music  backstage-at-tilles-center   \n",
              "\n",
              "    itunes_id  rating                                            content  \\\n",
              "0  1373261997       5  Thanks for providing these insights.  Really e...   \n",
              "1  1373261997       5  Thanks for providing these insights.  Really e...   \n",
              "2  1373261997       5  Thanks for providing these insights.  Really e...   \n",
              "\n",
              "          Review_Title                 created_at  \n",
              "0  really interesting!  2018-04-24T12:05:16-07:00  \n",
              "1  really interesting!  2018-04-24T12:05:16-07:00  \n",
              "2  really interesting!  2018-04-24T12:05:16-07:00  "
            ],
            "text/html": [
              "\n",
              "  <div id=\"df-9ec3f1d0-653c-4891-9d98-9e608567b341\">\n",
              "    <div class=\"colab-df-container\">\n",
              "      <div>\n",
              "<style scoped>\n",
              "    .dataframe tbody tr th:only-of-type {\n",
              "        vertical-align: middle;\n",
              "    }\n",
              "\n",
              "    .dataframe tbody tr th {\n",
              "        vertical-align: top;\n",
              "    }\n",
              "\n",
              "    .dataframe thead th {\n",
              "        text-align: right;\n",
              "    }\n",
              "</style>\n",
              "<table border=\"1\" class=\"dataframe\">\n",
              "  <thead>\n",
              "    <tr style=\"text-align: right;\">\n",
              "      <th></th>\n",
              "      <th>podcast_id</th>\n",
              "      <th>title</th>\n",
              "      <th>author_id</th>\n",
              "      <th>category</th>\n",
              "      <th>slug</th>\n",
              "      <th>itunes_id</th>\n",
              "      <th>rating</th>\n",
              "      <th>content</th>\n",
              "      <th>Review_Title</th>\n",
              "      <th>created_at</th>\n",
              "    </tr>\n",
              "  </thead>\n",
              "  <tbody>\n",
              "    <tr>\n",
              "      <th>0</th>\n",
              "      <td>c61aa81c9b929a66f0c1db6cbe5d8548</td>\n",
              "      <td>Backstage at Tilles Center</td>\n",
              "      <td>F7E5A318989779D</td>\n",
              "      <td>arts</td>\n",
              "      <td>backstage-at-tilles-center</td>\n",
              "      <td>1373261997</td>\n",
              "      <td>5</td>\n",
              "      <td>Thanks for providing these insights.  Really e...</td>\n",
              "      <td>really interesting!</td>\n",
              "      <td>2018-04-24T12:05:16-07:00</td>\n",
              "    </tr>\n",
              "    <tr>\n",
              "      <th>1</th>\n",
              "      <td>c61aa81c9b929a66f0c1db6cbe5d8548</td>\n",
              "      <td>Backstage at Tilles Center</td>\n",
              "      <td>F7E5A318989779D</td>\n",
              "      <td>arts-performing-arts</td>\n",
              "      <td>backstage-at-tilles-center</td>\n",
              "      <td>1373261997</td>\n",
              "      <td>5</td>\n",
              "      <td>Thanks for providing these insights.  Really e...</td>\n",
              "      <td>really interesting!</td>\n",
              "      <td>2018-04-24T12:05:16-07:00</td>\n",
              "    </tr>\n",
              "    <tr>\n",
              "      <th>2</th>\n",
              "      <td>c61aa81c9b929a66f0c1db6cbe5d8548</td>\n",
              "      <td>Backstage at Tilles Center</td>\n",
              "      <td>F7E5A318989779D</td>\n",
              "      <td>music</td>\n",
              "      <td>backstage-at-tilles-center</td>\n",
              "      <td>1373261997</td>\n",
              "      <td>5</td>\n",
              "      <td>Thanks for providing these insights.  Really e...</td>\n",
              "      <td>really interesting!</td>\n",
              "      <td>2018-04-24T12:05:16-07:00</td>\n",
              "    </tr>\n",
              "  </tbody>\n",
              "</table>\n",
              "</div>\n",
              "      <button class=\"colab-df-convert\" onclick=\"convertToInteractive('df-9ec3f1d0-653c-4891-9d98-9e608567b341')\"\n",
              "              title=\"Convert this dataframe to an interactive table.\"\n",
              "              style=\"display:none;\">\n",
              "        \n",
              "  <svg xmlns=\"http://www.w3.org/2000/svg\" height=\"24px\"viewBox=\"0 0 24 24\"\n",
              "       width=\"24px\">\n",
              "    <path d=\"M0 0h24v24H0V0z\" fill=\"none\"/>\n",
              "    <path d=\"M18.56 5.44l.94 2.06.94-2.06 2.06-.94-2.06-.94-.94-2.06-.94 2.06-2.06.94zm-11 1L8.5 8.5l.94-2.06 2.06-.94-2.06-.94L8.5 2.5l-.94 2.06-2.06.94zm10 10l.94 2.06.94-2.06 2.06-.94-2.06-.94-.94-2.06-.94 2.06-2.06.94z\"/><path d=\"M17.41 7.96l-1.37-1.37c-.4-.4-.92-.59-1.43-.59-.52 0-1.04.2-1.43.59L10.3 9.45l-7.72 7.72c-.78.78-.78 2.05 0 2.83L4 21.41c.39.39.9.59 1.41.59.51 0 1.02-.2 1.41-.59l7.78-7.78 2.81-2.81c.8-.78.8-2.07 0-2.86zM5.41 20L4 18.59l7.72-7.72 1.47 1.35L5.41 20z\"/>\n",
              "  </svg>\n",
              "      </button>\n",
              "      \n",
              "  <style>\n",
              "    .colab-df-container {\n",
              "      display:flex;\n",
              "      flex-wrap:wrap;\n",
              "      gap: 12px;\n",
              "    }\n",
              "\n",
              "    .colab-df-convert {\n",
              "      background-color: #E8F0FE;\n",
              "      border: none;\n",
              "      border-radius: 50%;\n",
              "      cursor: pointer;\n",
              "      display: none;\n",
              "      fill: #1967D2;\n",
              "      height: 32px;\n",
              "      padding: 0 0 0 0;\n",
              "      width: 32px;\n",
              "    }\n",
              "\n",
              "    .colab-df-convert:hover {\n",
              "      background-color: #E2EBFA;\n",
              "      box-shadow: 0px 1px 2px rgba(60, 64, 67, 0.3), 0px 1px 3px 1px rgba(60, 64, 67, 0.15);\n",
              "      fill: #174EA6;\n",
              "    }\n",
              "\n",
              "    [theme=dark] .colab-df-convert {\n",
              "      background-color: #3B4455;\n",
              "      fill: #D2E3FC;\n",
              "    }\n",
              "\n",
              "    [theme=dark] .colab-df-convert:hover {\n",
              "      background-color: #434B5C;\n",
              "      box-shadow: 0px 1px 3px 1px rgba(0, 0, 0, 0.15);\n",
              "      filter: drop-shadow(0px 1px 2px rgba(0, 0, 0, 0.3));\n",
              "      fill: #FFFFFF;\n",
              "    }\n",
              "  </style>\n",
              "\n",
              "      <script>\n",
              "        const buttonEl =\n",
              "          document.querySelector('#df-9ec3f1d0-653c-4891-9d98-9e608567b341 button.colab-df-convert');\n",
              "        buttonEl.style.display =\n",
              "          google.colab.kernel.accessAllowed ? 'block' : 'none';\n",
              "\n",
              "        async function convertToInteractive(key) {\n",
              "          const element = document.querySelector('#df-9ec3f1d0-653c-4891-9d98-9e608567b341');\n",
              "          const dataTable =\n",
              "            await google.colab.kernel.invokeFunction('convertToInteractive',\n",
              "                                                     [key], {});\n",
              "          if (!dataTable) return;\n",
              "\n",
              "          const docLinkHtml = 'Like what you see? Visit the ' +\n",
              "            '<a target=\"_blank\" href=https://colab.research.google.com/notebooks/data_table.ipynb>data table notebook</a>'\n",
              "            + ' to learn more about interactive tables.';\n",
              "          element.innerHTML = '';\n",
              "          dataTable['output_type'] = 'display_data';\n",
              "          await google.colab.output.renderOutput(dataTable, element);\n",
              "          const docLink = document.createElement('div');\n",
              "          docLink.innerHTML = docLinkHtml;\n",
              "          element.appendChild(docLink);\n",
              "        }\n",
              "      </script>\n",
              "    </div>\n",
              "  </div>\n",
              "  "
            ]
          },
          "metadata": {},
          "execution_count": 17
        }
      ]
    },
    {
      "cell_type": "code",
      "source": [
        "df.shape"
      ],
      "metadata": {
        "colab": {
          "base_uri": "https://localhost:8080/"
        },
        "id": "DleiOJZRkkcd",
        "outputId": "6ab7c643-c4ab-449c-a7de-6e4e19c857a3"
      },
      "execution_count": null,
      "outputs": [
        {
          "output_type": "execute_result",
          "data": {
            "text/plain": [
              "(27000, 10)"
            ]
          },
          "metadata": {},
          "execution_count": 3
        }
      ]
    },
    {
      "cell_type": "code",
      "source": [
        "from sklearn.feature_extraction.text import TfidfVectorizer\n",
        "from sklearn.metrics.pairwise import cosine_similarity\n",
        "\n",
        "tfidf = TfidfVectorizer(stop_words='english') \n",
        "#stop_words in english for Ignoring 'The' ,'a' etc. \n",
        "df['new'] = df['title']+' '+df['category']+' '+df['Review_Title']\n",
        "df['new'] = df['new'].fillna('')\n",
        "tfidf_matrix = tfidf.fit_transform(df['new'])\n"
      ],
      "metadata": {
        "id": "AdZ1uZbBC3XY"
      },
      "execution_count": null,
      "outputs": []
    },
    {
      "cell_type": "code",
      "source": [
        "print(tfidf_matrix)"
      ],
      "metadata": {
        "colab": {
          "base_uri": "https://localhost:8080/"
        },
        "id": "0uZieRM8ngRH",
        "outputId": "9a12634a-4c20-4898-e691-1247b2ec1078"
      },
      "execution_count": null,
      "outputs": [
        {
          "output_type": "stream",
          "name": "stdout",
          "text": [
            "  (0, 1999)\t0.2954715132528008\n",
            "  (0, 3013)\t0.3247199516107557\n",
            "  (0, 280)\t0.0910286864093135\n",
            "  (0, 597)\t0.5275551161516907\n",
            "  (0, 3721)\t0.5275551161516907\n",
            "  (0, 340)\t0.4922788995853425\n",
            "  (1, 2741)\t0.1822213340407624\n",
            "  (1, 1999)\t0.28697952477947164\n",
            "  (1, 3013)\t0.31538734943946195\n",
            "  (1, 280)\t0.1768249593976499\n",
            "  (1, 597)\t0.5123929371785422\n",
            "  (1, 3721)\t0.5123929371785422\n",
            "  (1, 340)\t0.4781305754544636\n",
            "  (2, 2504)\t0.2855628387840395\n",
            "  (2, 1999)\t0.2843486141385568\n",
            "  (2, 3013)\t0.31249600750735773\n",
            "  (2, 597)\t0.5076955287770594\n",
            "  (2, 3721)\t0.5076955287770594\n",
            "  (2, 340)\t0.47374727034000796\n",
            "  (3, 1998)\t0.44024384713196046\n",
            "  (3, 2235)\t0.2626775096539272\n",
            "  (3, 280)\t0.1713585703555125\n",
            "  (3, 597)\t0.4965527574516377\n",
            "  (3, 3721)\t0.4965527574516377\n",
            "  (3, 340)\t0.46334958668863296\n",
            "  :\t:\n",
            "  (26995, 280)\t0.11719525611741381\n",
            "  (26996, 3444)\t0.6446005963000198\n",
            "  (26996, 2767)\t0.2859669012980881\n",
            "  (26996, 3954)\t0.3043864992430448\n",
            "  (26996, 3999)\t0.43663291806286514\n",
            "  (26996, 1660)\t0.21867807046537555\n",
            "  (26996, 2817)\t0.1858915214414162\n",
            "  (26996, 3724)\t0.29859962355205455\n",
            "  (26996, 280)\t0.2188059988263728\n",
            "  (26997, 3444)\t0.6374700876899131\n",
            "  (26997, 3662)\t0.39929543407229656\n",
            "  (26997, 2767)\t0.2828035634674751\n",
            "  (26997, 3999)\t0.4318029275236473\n",
            "  (26997, 1660)\t0.21625907508553086\n",
            "  (26997, 2817)\t0.18383520765301425\n",
            "  (26997, 3724)\t0.2952965437861749\n",
            "  (26998, 2767)\t0.5406305652517656\n",
            "  (26998, 1660)\t0.4134186449802672\n",
            "  (26998, 2817)\t0.7028690233463424\n",
            "  (26998, 280)\t0.2068302490410801\n",
            "  (26999, 2767)\t0.4475082875572394\n",
            "  (26999, 3954)\t0.47633303159727824\n",
            "  (26999, 1660)\t0.342208305912555\n",
            "  (26999, 2817)\t0.5818015725179605\n",
            "  (26999, 280)\t0.342408500415835\n"
          ]
        }
      ]
    },
    {
      "cell_type": "code",
      "source": [
        "cosine_sim = cosine_similarity(tfidf_matrix, tfidf_matrix)\n",
        "#Since these two matrices are similar to each other, we wrote both of them at the same time.\n",
        "cosine_sim.shape\n"
      ],
      "metadata": {
        "id": "ARNjpH7tGX8k",
        "colab": {
          "base_uri": "https://localhost:8080/"
        },
        "outputId": "dfaf2366-88ec-4fb8-e622-7ce0dde2d8c9"
      },
      "execution_count": null,
      "outputs": [
        {
          "output_type": "execute_result",
          "data": {
            "text/plain": [
              "(27000, 27000)"
            ]
          },
          "metadata": {},
          "execution_count": 5
        }
      ]
    },
    {
      "cell_type": "code",
      "source": [
        "print(cosine_sim[1])"
      ],
      "metadata": {
        "colab": {
          "base_uri": "https://localhost:8080/"
        },
        "id": "KKyWw__kl_Cr",
        "outputId": "2d56fd1c-3184-4d44-8372-072e171c57fa"
      },
      "execution_count": null,
      "outputs": [
        {
          "output_type": "execute_result",
          "data": {
            "text/plain": [
              "array([0.97930761, 1.        , 0.92695178, ..., 0.        , 0.03657275,\n",
              "       0.06054637])"
            ]
          },
          "metadata": {},
          "execution_count": 8
        }
      ]
    },
    {
      "cell_type": "code",
      "source": [
        "df = df[~df[\"title\"].isna()]\n",
        "#Deletion of titles with Nan Values\n",
        "indices = pd.Series(df.index, index=df['title'])\n",
        "#Let's note the titles of all the podcast.\n",
        "indices.head()"
      ],
      "metadata": {
        "colab": {
          "base_uri": "https://localhost:8080/"
        },
        "id": "G5Z2d3l2Gg6-",
        "outputId": "cf984b28-b6e3-487c-85fb-d0a3487f5f0b"
      },
      "execution_count": null,
      "outputs": [
        {
          "output_type": "execute_result",
          "data": {
            "text/plain": [
              "title\n",
              "Backstage at Tilles Center    0\n",
              "Backstage at Tilles Center    1\n",
              "Backstage at Tilles Center    2\n",
              "Backstage at Tilles Center    3\n",
              "Backstage at Tilles Center    4\n",
              "dtype: int64"
            ]
          },
          "metadata": {},
          "execution_count": 9
        }
      ]
    },
    {
      "cell_type": "code",
      "source": [
        "indices.shape\n",
        "#Delete duplicated ones.\n",
        "indices = indices[~indices.index.duplicated(keep='last')]\n",
        "indices.shape\n",
        "\n",
        "indices[:10]"
      ],
      "metadata": {
        "colab": {
          "base_uri": "https://localhost:8080/"
        },
        "id": "uCMMpVraGru-",
        "outputId": "8a27b88b-46b7-4f83-d247-b2fc97d4e540"
      },
      "execution_count": null,
      "outputs": [
        {
          "output_type": "execute_result",
          "data": {
            "text/plain": [
              "title\n",
              "Backstage at Tilles Center                                   5\n",
              "TED Talks Daily                                            537\n",
              "Snap Judgment                                             1956\n",
              "Raging Bullets                                            2284\n",
              "Selected Shorts                                           2911\n",
              "Cameralabs photography podcast                            2935\n",
              "BACKSTORY                                                 2992\n",
              "Comic Geek Speak Podcast - The Best Comic Book Podcast    3092\n",
              "Homecoming                                                3239\n",
              "The Comic Conspiracy                                      3362\n",
              "dtype: int64"
            ]
          },
          "metadata": {},
          "execution_count": 11
        }
      ]
    },
    {
      "cell_type": "code",
      "source": [
        "pod_index = indices[\"Cameralabs photography podcast\"]\n",
        "cosine_sim[pod_index]"
      ],
      "metadata": {
        "colab": {
          "base_uri": "https://localhost:8080/"
        },
        "id": "6uG4hZEhG5Ld",
        "outputId": "5f09cf6c-8b86-4364-f45f-95308ef16511"
      },
      "execution_count": null,
      "outputs": [
        {
          "output_type": "execute_result",
          "data": {
            "text/plain": [
              "array([0.        , 0.        , 0.        , ..., 0.18134852, 0.18725225,\n",
              "       0.15499851])"
            ]
          },
          "metadata": {},
          "execution_count": 12
        }
      ]
    },
    {
      "cell_type": "code",
      "source": [
        "similarity_scores = pd.DataFrame(cosine_sim[pod_index], columns=[\"similarity_score\"])\n",
        "similarity_scores.sort_values(by='similarity_score',ascending=False).head(10)"
      ],
      "metadata": {
        "colab": {
          "base_uri": "https://localhost:8080/",
          "height": 363
        },
        "id": "uDpi587oHOoC",
        "outputId": "b6f7a9e5-f250-4d5a-e697-02ee0255210b"
      },
      "execution_count": null,
      "outputs": [
        {
          "output_type": "execute_result",
          "data": {
            "text/plain": [
              "       similarity_score\n",
              "2935           1.000000\n",
              "2933           0.961574\n",
              "2934           0.934293\n",
              "2929           0.499235\n",
              "2927           0.417105\n",
              "26616          0.393916\n",
              "26709          0.393916\n",
              "26973          0.393916\n",
              "26844          0.393916\n",
              "2928           0.365710"
            ],
            "text/html": [
              "\n",
              "  <div id=\"df-3a2c5e8d-4dcd-4af6-8b7f-d2b907ccd75f\">\n",
              "    <div class=\"colab-df-container\">\n",
              "      <div>\n",
              "<style scoped>\n",
              "    .dataframe tbody tr th:only-of-type {\n",
              "        vertical-align: middle;\n",
              "    }\n",
              "\n",
              "    .dataframe tbody tr th {\n",
              "        vertical-align: top;\n",
              "    }\n",
              "\n",
              "    .dataframe thead th {\n",
              "        text-align: right;\n",
              "    }\n",
              "</style>\n",
              "<table border=\"1\" class=\"dataframe\">\n",
              "  <thead>\n",
              "    <tr style=\"text-align: right;\">\n",
              "      <th></th>\n",
              "      <th>similarity_score</th>\n",
              "    </tr>\n",
              "  </thead>\n",
              "  <tbody>\n",
              "    <tr>\n",
              "      <th>2935</th>\n",
              "      <td>1.000000</td>\n",
              "    </tr>\n",
              "    <tr>\n",
              "      <th>2933</th>\n",
              "      <td>0.961574</td>\n",
              "    </tr>\n",
              "    <tr>\n",
              "      <th>2934</th>\n",
              "      <td>0.934293</td>\n",
              "    </tr>\n",
              "    <tr>\n",
              "      <th>2929</th>\n",
              "      <td>0.499235</td>\n",
              "    </tr>\n",
              "    <tr>\n",
              "      <th>2927</th>\n",
              "      <td>0.417105</td>\n",
              "    </tr>\n",
              "    <tr>\n",
              "      <th>26616</th>\n",
              "      <td>0.393916</td>\n",
              "    </tr>\n",
              "    <tr>\n",
              "      <th>26709</th>\n",
              "      <td>0.393916</td>\n",
              "    </tr>\n",
              "    <tr>\n",
              "      <th>26973</th>\n",
              "      <td>0.393916</td>\n",
              "    </tr>\n",
              "    <tr>\n",
              "      <th>26844</th>\n",
              "      <td>0.393916</td>\n",
              "    </tr>\n",
              "    <tr>\n",
              "      <th>2928</th>\n",
              "      <td>0.365710</td>\n",
              "    </tr>\n",
              "  </tbody>\n",
              "</table>\n",
              "</div>\n",
              "      <button class=\"colab-df-convert\" onclick=\"convertToInteractive('df-3a2c5e8d-4dcd-4af6-8b7f-d2b907ccd75f')\"\n",
              "              title=\"Convert this dataframe to an interactive table.\"\n",
              "              style=\"display:none;\">\n",
              "        \n",
              "  <svg xmlns=\"http://www.w3.org/2000/svg\" height=\"24px\"viewBox=\"0 0 24 24\"\n",
              "       width=\"24px\">\n",
              "    <path d=\"M0 0h24v24H0V0z\" fill=\"none\"/>\n",
              "    <path d=\"M18.56 5.44l.94 2.06.94-2.06 2.06-.94-2.06-.94-.94-2.06-.94 2.06-2.06.94zm-11 1L8.5 8.5l.94-2.06 2.06-.94-2.06-.94L8.5 2.5l-.94 2.06-2.06.94zm10 10l.94 2.06.94-2.06 2.06-.94-2.06-.94-.94-2.06-.94 2.06-2.06.94z\"/><path d=\"M17.41 7.96l-1.37-1.37c-.4-.4-.92-.59-1.43-.59-.52 0-1.04.2-1.43.59L10.3 9.45l-7.72 7.72c-.78.78-.78 2.05 0 2.83L4 21.41c.39.39.9.59 1.41.59.51 0 1.02-.2 1.41-.59l7.78-7.78 2.81-2.81c.8-.78.8-2.07 0-2.86zM5.41 20L4 18.59l7.72-7.72 1.47 1.35L5.41 20z\"/>\n",
              "  </svg>\n",
              "      </button>\n",
              "      \n",
              "  <style>\n",
              "    .colab-df-container {\n",
              "      display:flex;\n",
              "      flex-wrap:wrap;\n",
              "      gap: 12px;\n",
              "    }\n",
              "\n",
              "    .colab-df-convert {\n",
              "      background-color: #E8F0FE;\n",
              "      border: none;\n",
              "      border-radius: 50%;\n",
              "      cursor: pointer;\n",
              "      display: none;\n",
              "      fill: #1967D2;\n",
              "      height: 32px;\n",
              "      padding: 0 0 0 0;\n",
              "      width: 32px;\n",
              "    }\n",
              "\n",
              "    .colab-df-convert:hover {\n",
              "      background-color: #E2EBFA;\n",
              "      box-shadow: 0px 1px 2px rgba(60, 64, 67, 0.3), 0px 1px 3px 1px rgba(60, 64, 67, 0.15);\n",
              "      fill: #174EA6;\n",
              "    }\n",
              "\n",
              "    [theme=dark] .colab-df-convert {\n",
              "      background-color: #3B4455;\n",
              "      fill: #D2E3FC;\n",
              "    }\n",
              "\n",
              "    [theme=dark] .colab-df-convert:hover {\n",
              "      background-color: #434B5C;\n",
              "      box-shadow: 0px 1px 3px 1px rgba(0, 0, 0, 0.15);\n",
              "      filter: drop-shadow(0px 1px 2px rgba(0, 0, 0, 0.3));\n",
              "      fill: #FFFFFF;\n",
              "    }\n",
              "  </style>\n",
              "\n",
              "      <script>\n",
              "        const buttonEl =\n",
              "          document.querySelector('#df-3a2c5e8d-4dcd-4af6-8b7f-d2b907ccd75f button.colab-df-convert');\n",
              "        buttonEl.style.display =\n",
              "          google.colab.kernel.accessAllowed ? 'block' : 'none';\n",
              "\n",
              "        async function convertToInteractive(key) {\n",
              "          const element = document.querySelector('#df-3a2c5e8d-4dcd-4af6-8b7f-d2b907ccd75f');\n",
              "          const dataTable =\n",
              "            await google.colab.kernel.invokeFunction('convertToInteractive',\n",
              "                                                     [key], {});\n",
              "          if (!dataTable) return;\n",
              "\n",
              "          const docLinkHtml = 'Like what you see? Visit the ' +\n",
              "            '<a target=\"_blank\" href=https://colab.research.google.com/notebooks/data_table.ipynb>data table notebook</a>'\n",
              "            + ' to learn more about interactive tables.';\n",
              "          element.innerHTML = '';\n",
              "          dataTable['output_type'] = 'display_data';\n",
              "          await google.colab.output.renderOutput(dataTable, element);\n",
              "          const docLink = document.createElement('div');\n",
              "          docLink.innerHTML = docLinkHtml;\n",
              "          element.appendChild(docLink);\n",
              "        }\n",
              "      </script>\n",
              "    </div>\n",
              "  </div>\n",
              "  "
            ]
          },
          "metadata": {},
          "execution_count": 23
        }
      ]
    },
    {
      "cell_type": "code",
      "source": [
        "pod_indices = similarity_scores.sort_values(\"score\", ascending=False)[1:300].index\n",
        "df_new = df['title'][pod_indices]\n",
        "pd.DataFrame(df_new.unique(), columns = ['title'])"
      ],
      "metadata": {
        "colab": {
          "base_uri": "https://localhost:8080/",
          "height": 300
        },
        "id": "7WgWukiGHVXd",
        "outputId": "2071c626-30c5-415c-cada-39dc577a0c5e"
      },
      "execution_count": null,
      "outputs": [
        {
          "output_type": "execute_result",
          "data": {
            "text/plain": [
              "                                               title\n",
              "0                     Cameralabs photography podcast\n",
              "1                            B&H Photography Podcast\n",
              "2                                        The Forward\n",
              "3                PHOTOGRAPHY TIPS FROM THE TOP FLOOR\n",
              "4                                       The Sporkful\n",
              "5                                I Should Be Writing\n",
              "6  Geek's Guide to the Galaxy - A Science Fiction...\n",
              "7                                     House of Carbs"
            ],
            "text/html": [
              "\n",
              "  <div id=\"df-922cb048-65e2-424b-bd8b-c7dbaf7f2b80\">\n",
              "    <div class=\"colab-df-container\">\n",
              "      <div>\n",
              "<style scoped>\n",
              "    .dataframe tbody tr th:only-of-type {\n",
              "        vertical-align: middle;\n",
              "    }\n",
              "\n",
              "    .dataframe tbody tr th {\n",
              "        vertical-align: top;\n",
              "    }\n",
              "\n",
              "    .dataframe thead th {\n",
              "        text-align: right;\n",
              "    }\n",
              "</style>\n",
              "<table border=\"1\" class=\"dataframe\">\n",
              "  <thead>\n",
              "    <tr style=\"text-align: right;\">\n",
              "      <th></th>\n",
              "      <th>title</th>\n",
              "    </tr>\n",
              "  </thead>\n",
              "  <tbody>\n",
              "    <tr>\n",
              "      <th>0</th>\n",
              "      <td>Cameralabs photography podcast</td>\n",
              "    </tr>\n",
              "    <tr>\n",
              "      <th>1</th>\n",
              "      <td>B&amp;H Photography Podcast</td>\n",
              "    </tr>\n",
              "    <tr>\n",
              "      <th>2</th>\n",
              "      <td>The Forward</td>\n",
              "    </tr>\n",
              "    <tr>\n",
              "      <th>3</th>\n",
              "      <td>PHOTOGRAPHY TIPS FROM THE TOP FLOOR</td>\n",
              "    </tr>\n",
              "    <tr>\n",
              "      <th>4</th>\n",
              "      <td>The Sporkful</td>\n",
              "    </tr>\n",
              "    <tr>\n",
              "      <th>5</th>\n",
              "      <td>I Should Be Writing</td>\n",
              "    </tr>\n",
              "    <tr>\n",
              "      <th>6</th>\n",
              "      <td>Geek's Guide to the Galaxy - A Science Fiction...</td>\n",
              "    </tr>\n",
              "    <tr>\n",
              "      <th>7</th>\n",
              "      <td>House of Carbs</td>\n",
              "    </tr>\n",
              "  </tbody>\n",
              "</table>\n",
              "</div>\n",
              "      <button class=\"colab-df-convert\" onclick=\"convertToInteractive('df-922cb048-65e2-424b-bd8b-c7dbaf7f2b80')\"\n",
              "              title=\"Convert this dataframe to an interactive table.\"\n",
              "              style=\"display:none;\">\n",
              "        \n",
              "  <svg xmlns=\"http://www.w3.org/2000/svg\" height=\"24px\"viewBox=\"0 0 24 24\"\n",
              "       width=\"24px\">\n",
              "    <path d=\"M0 0h24v24H0V0z\" fill=\"none\"/>\n",
              "    <path d=\"M18.56 5.44l.94 2.06.94-2.06 2.06-.94-2.06-.94-.94-2.06-.94 2.06-2.06.94zm-11 1L8.5 8.5l.94-2.06 2.06-.94-2.06-.94L8.5 2.5l-.94 2.06-2.06.94zm10 10l.94 2.06.94-2.06 2.06-.94-2.06-.94-.94-2.06-.94 2.06-2.06.94z\"/><path d=\"M17.41 7.96l-1.37-1.37c-.4-.4-.92-.59-1.43-.59-.52 0-1.04.2-1.43.59L10.3 9.45l-7.72 7.72c-.78.78-.78 2.05 0 2.83L4 21.41c.39.39.9.59 1.41.59.51 0 1.02-.2 1.41-.59l7.78-7.78 2.81-2.81c.8-.78.8-2.07 0-2.86zM5.41 20L4 18.59l7.72-7.72 1.47 1.35L5.41 20z\"/>\n",
              "  </svg>\n",
              "      </button>\n",
              "      \n",
              "  <style>\n",
              "    .colab-df-container {\n",
              "      display:flex;\n",
              "      flex-wrap:wrap;\n",
              "      gap: 12px;\n",
              "    }\n",
              "\n",
              "    .colab-df-convert {\n",
              "      background-color: #E8F0FE;\n",
              "      border: none;\n",
              "      border-radius: 50%;\n",
              "      cursor: pointer;\n",
              "      display: none;\n",
              "      fill: #1967D2;\n",
              "      height: 32px;\n",
              "      padding: 0 0 0 0;\n",
              "      width: 32px;\n",
              "    }\n",
              "\n",
              "    .colab-df-convert:hover {\n",
              "      background-color: #E2EBFA;\n",
              "      box-shadow: 0px 1px 2px rgba(60, 64, 67, 0.3), 0px 1px 3px 1px rgba(60, 64, 67, 0.15);\n",
              "      fill: #174EA6;\n",
              "    }\n",
              "\n",
              "    [theme=dark] .colab-df-convert {\n",
              "      background-color: #3B4455;\n",
              "      fill: #D2E3FC;\n",
              "    }\n",
              "\n",
              "    [theme=dark] .colab-df-convert:hover {\n",
              "      background-color: #434B5C;\n",
              "      box-shadow: 0px 1px 3px 1px rgba(0, 0, 0, 0.15);\n",
              "      filter: drop-shadow(0px 1px 2px rgba(0, 0, 0, 0.3));\n",
              "      fill: #FFFFFF;\n",
              "    }\n",
              "  </style>\n",
              "\n",
              "      <script>\n",
              "        const buttonEl =\n",
              "          document.querySelector('#df-922cb048-65e2-424b-bd8b-c7dbaf7f2b80 button.colab-df-convert');\n",
              "        buttonEl.style.display =\n",
              "          google.colab.kernel.accessAllowed ? 'block' : 'none';\n",
              "\n",
              "        async function convertToInteractive(key) {\n",
              "          const element = document.querySelector('#df-922cb048-65e2-424b-bd8b-c7dbaf7f2b80');\n",
              "          const dataTable =\n",
              "            await google.colab.kernel.invokeFunction('convertToInteractive',\n",
              "                                                     [key], {});\n",
              "          if (!dataTable) return;\n",
              "\n",
              "          const docLinkHtml = 'Like what you see? Visit the ' +\n",
              "            '<a target=\"_blank\" href=https://colab.research.google.com/notebooks/data_table.ipynb>data table notebook</a>'\n",
              "            + ' to learn more about interactive tables.';\n",
              "          element.innerHTML = '';\n",
              "          dataTable['output_type'] = 'display_data';\n",
              "          await google.colab.output.renderOutput(dataTable, element);\n",
              "          const docLink = document.createElement('div');\n",
              "          docLink.innerHTML = docLinkHtml;\n",
              "          element.appendChild(docLink);\n",
              "        }\n",
              "      </script>\n",
              "    </div>\n",
              "  </div>\n",
              "  "
            ]
          },
          "metadata": {},
          "execution_count": 21
        }
      ]
    },
    {
      "cell_type": "code",
      "source": [],
      "metadata": {
        "id": "fMxLLf46RWBa"
      },
      "execution_count": null,
      "outputs": []
    }
  ]
}